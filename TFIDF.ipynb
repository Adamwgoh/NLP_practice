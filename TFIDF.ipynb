{
 "cells": [
  {
   "cell_type": "markdown",
   "id": "805e36a0-6778-4f3c-8de3-56c62174114b",
   "metadata": {},
   "source": [
    "Traditional feature engeering strategies for textual data (BoW) models:\n",
    "\n",
    "- TF-IDF (term fequency-inverse document frequency)\n",
    "- N-grams\n",
    "- topic modelling"
   ]
  },
  {
   "cell_type": "code",
   "execution_count": 1,
   "id": "11197022-3f93-4bd1-95c2-6088ecd0c36a",
   "metadata": {
    "tags": []
   },
   "outputs": [
    {
     "name": "stderr",
     "output_type": "stream",
     "text": [
      "2023-05-30 11:15:01.918229: I tensorflow/core/platform/cpu_feature_guard.cc:182] This TensorFlow binary is optimized to use available CPU instructions in performance-critical operations.\n",
      "To enable the following instructions: AVX2 FMA, in other operations, rebuild TensorFlow with the appropriate compiler flags.\n",
      "2023-05-30 11:15:02.546922: W tensorflow/compiler/tf2tensorrt/utils/py_utils.cc:38] TF-TRT Warning: Could not find TensorRT\n",
      "2023-05-30 11:15:03.317274: I tensorflow/compiler/xla/stream_executor/cuda/cuda_gpu_executor.cc:996] successful NUMA node read from SysFS had negative value (-1), but there must be at least one NUMA node, so returning NUMA node zero. See more at https://github.com/torvalds/linux/blob/v6.0/Documentation/ABI/testing/sysfs-bus-pci#L344-L355\n",
      "2023-05-30 11:15:03.334043: I tensorflow/compiler/xla/stream_executor/cuda/cuda_gpu_executor.cc:996] successful NUMA node read from SysFS had negative value (-1), but there must be at least one NUMA node, so returning NUMA node zero. See more at https://github.com/torvalds/linux/blob/v6.0/Documentation/ABI/testing/sysfs-bus-pci#L344-L355\n",
      "2023-05-30 11:15:03.334239: I tensorflow/compiler/xla/stream_executor/cuda/cuda_gpu_executor.cc:996] successful NUMA node read from SysFS had negative value (-1), but there must be at least one NUMA node, so returning NUMA node zero. See more at https://github.com/torvalds/linux/blob/v6.0/Documentation/ABI/testing/sysfs-bus-pci#L344-L355\n"
     ]
    }
   ],
   "source": [
    "import re\n",
    "import pandas as pd\n",
    "import numpy as np\n",
    "import spacy\n",
    "import nltk"
   ]
  },
  {
   "cell_type": "code",
   "execution_count": 16,
   "id": "d08fdc8f-caf2-4593-8c30-0bff533e4a03",
   "metadata": {
    "tags": []
   },
   "outputs": [],
   "source": [
    "from nltk.stem import WordNetLemmatizer\n",
    "from collections import Counter\n",
    "\n",
    "wn = WordNetLemmatizer()\n",
    "\n",
    "resume = pd.read_csv(\"archive/Resume/Resume.csv\")\n",
    "resume = resume.reindex(np.random.permutation(resume.index))\n",
    "resume.head()\n",
    "\n",
    "\n",
    "def clean_text(text):\n",
    "    text = re.sub(r'httpS+s*', ' ', text)\n",
    "    # remove new line chracters\n",
    "    text = re.sub(r'\\n', '', text)\n",
    "    text = re.sub(r'\\xa0', '', text)\n",
    "    text = re.sub(r'\\t', '', text)\n",
    "    # remove punctuations (words and whitespaces only)\n",
    "    text = re.sub(r'[^\\w\\s]', '', text)\n",
    "    text = re.sub(r' +', ' ', text)\n",
    "    # we do bag of words first\n",
    "    bow = text.split(\" \")\n",
    "\n",
    "    # remove stopwords\n",
    "    stopwords = nltk.corpus.stopwords.words('english')\n",
    "    words_d = [wn.lemmatize(x) for x in list(set(bow).difference(set(stopwords)))]\n",
    "    \n",
    "    return set(words_d)\n",
    "\n",
    "finalset = set()\n",
    "\n",
    "for r in resume.Resume_str:\n",
    "    res = clean_text(r)\n",
    "    reskeys = dict.fromkeys(res, 1)\n",
    "    finalset = dict(Counter(reskeys) + Counter(finalset))\n"
   ]
  },
  {
   "cell_type": "code",
   "execution_count": 17,
   "id": "ddc1c8e7-5be2-41ab-a737-1d0524e114e5",
   "metadata": {
    "tags": []
   },
   "outputs": [
    {
     "data": {
      "text/plain": [
       "73130"
      ]
     },
     "execution_count": 17,
     "metadata": {},
     "output_type": "execute_result"
    }
   ],
   "source": [
    "len(finalset)"
   ]
  },
  {
   "cell_type": "code",
   "execution_count": 48,
   "id": "f0c34381-2585-4ec7-ac0a-904bd5b35eb6",
   "metadata": {
    "tags": []
   },
   "outputs": [],
   "source": [
    "from nltk.stem import WordNetLemmatizer\n",
    "from nltk.tokenize import sent_tokenize, word_tokenize\n",
    "stopwords = nltk.corpus.stopwords.words('english')\n",
    "def tokenize(input_doc):\n",
    "    tokens = []\n",
    "    wn = WordNetLemmatizer()\n",
    "    cptoken = [wn.lemmatize(x).lower() for x in word_tokenize(input_doc) if x not in stopwords and \\\n",
    "                 not x.isnumeric() and x.isalpha() and len(x) >= 2]\n",
    "        \n",
    "    return cptoken"
   ]
  },
  {
   "cell_type": "markdown",
   "id": "c375e899-1edb-4956-a485-58227d93ae11",
   "metadata": {},
   "source": [
    "## TF-IDF Model\n",
    "\n",
    "### Term Frequency (TF)\n",
    "Raw frequency value of that term in a particular document.\n",
    "\n",
    "${tf(w,D) = f_wD}$\n",
    "\n",
    "where ${f_wD}$ denote frequency for **word** ${w}$ in document ${D}$, the number of times a word appears in adocument divided by total number of words in the document.]]\n",
    "\n",
    "${tf_{i,j}}$ = ${n_{i,j}\\over\\sum_k n_{i,j}}$\n",
    "\n",
    "### Inverse Document Frequency (IDF)\n",
    "The Inverse Document Frequency measures how important a term is, weighing down the ferquent terms while scale up the rare ones.\n",
    "\n",
    "the IDF is log of **N** total number of doucments in corpus divided by number oif documents a token occurs\n",
    "\n",
    "${idf(w)}$ = ${\\log({N \\over{df_t}})}$"
   ]
  },
  {
   "cell_type": "code",
   "execution_count": 8,
   "id": "2c40d874-9f7f-4106-ace3-e6bcf8e860bc",
   "metadata": {
    "tags": []
   },
   "outputs": [],
   "source": [
    "def inverted_index(words):\n",
    "    \"\"\"\n",
    "        An ivnerted index of words (given word, find docID and idx)\n",
    "    \"\"\"\n",
    "    inverted = {}\n",
    "    for idx, word in enumerate(words):\n",
    "        loc = inverted.setdefault(word, [])\n",
    "        loc.append(idx)\n",
    "    return inverted\n",
    "\n",
    "def inverted_index_add(inverted, docID, doc_idx):\n",
    "    for word in doc_idx.keys():\n",
    "        loc = doc_idx[word]\n",
    "        indices = inverted.setdefault(word, {})\n",
    "        indices[docID] = loc\n",
    "        \n",
    "    return inverted"
   ]
  },
  {
   "cell_type": "code",
   "execution_count": 84,
   "id": "39895548-471b-4a4c-a2e8-c298ded9d3c7",
   "metadata": {},
   "outputs": [
    {
     "data": {
      "text/html": [
       "<div>\n",
       "<style scoped>\n",
       "    .dataframe tbody tr th:only-of-type {\n",
       "        vertical-align: middle;\n",
       "    }\n",
       "\n",
       "    .dataframe tbody tr th {\n",
       "        vertical-align: top;\n",
       "    }\n",
       "\n",
       "    .dataframe thead th {\n",
       "        text-align: right;\n",
       "    }\n",
       "</style>\n",
       "<table border=\"1\" class=\"dataframe\">\n",
       "  <thead>\n",
       "    <tr style=\"text-align: right;\">\n",
       "      <th></th>\n",
       "      <th>ID</th>\n",
       "      <th>Resume_str</th>\n",
       "      <th>Resume_html</th>\n",
       "      <th>Category</th>\n",
       "    </tr>\n",
       "  </thead>\n",
       "  <tbody>\n",
       "    <tr>\n",
       "      <th>1930</th>\n",
       "      <td>29087505</td>\n",
       "      <td>CONSTRUCTION WORK         Career Over...</td>\n",
       "      <td>&lt;div class=\"fontsize fontface vmargins hmargin...</td>\n",
       "      <td>CONSTRUCTION</td>\n",
       "    </tr>\n",
       "    <tr>\n",
       "      <th>281</th>\n",
       "      <td>37242217</td>\n",
       "      <td>INFORMATION TECHNOLOGY CONSULTANT    ...</td>\n",
       "      <td>&lt;div class=\"fontsize fontface vmargins hmargin...</td>\n",
       "      <td>INFORMATION-TECHNOLOGY</td>\n",
       "    </tr>\n",
       "    <tr>\n",
       "      <th>351</th>\n",
       "      <td>34745915</td>\n",
       "      <td>TEACHER       Professional Summary   ...</td>\n",
       "      <td>&lt;div class=\"fontsize fontface vmargins hmargin...</td>\n",
       "      <td>TEACHER</td>\n",
       "    </tr>\n",
       "    <tr>\n",
       "      <th>475</th>\n",
       "      <td>74126637</td>\n",
       "      <td>BILINGUAL CLIENT ADVOCATE       Profe...</td>\n",
       "      <td>&lt;div class=\"fontsize fontface vmargins hmargin...</td>\n",
       "      <td>ADVOCATE</td>\n",
       "    </tr>\n",
       "    <tr>\n",
       "      <th>1066</th>\n",
       "      <td>92200491</td>\n",
       "      <td>SALES REPRESENTATIVE       Summary   ...</td>\n",
       "      <td>&lt;div class=\"fontsize fontface vmargins hmargin...</td>\n",
       "      <td>SALES</td>\n",
       "    </tr>\n",
       "  </tbody>\n",
       "</table>\n",
       "</div>"
      ],
      "text/plain": [
       "            ID                                         Resume_str   \n",
       "1930  29087505           CONSTRUCTION WORK         Career Over...  \\\n",
       "281   37242217           INFORMATION TECHNOLOGY CONSULTANT    ...   \n",
       "351   34745915           TEACHER       Professional Summary   ...   \n",
       "475   74126637           BILINGUAL CLIENT ADVOCATE       Profe...   \n",
       "1066  92200491           SALES REPRESENTATIVE       Summary   ...   \n",
       "\n",
       "                                            Resume_html   \n",
       "1930  <div class=\"fontsize fontface vmargins hmargin...  \\\n",
       "281   <div class=\"fontsize fontface vmargins hmargin...   \n",
       "351   <div class=\"fontsize fontface vmargins hmargin...   \n",
       "475   <div class=\"fontsize fontface vmargins hmargin...   \n",
       "1066  <div class=\"fontsize fontface vmargins hmargin...   \n",
       "\n",
       "                    Category  \n",
       "1930            CONSTRUCTION  \n",
       "281   INFORMATION-TECHNOLOGY  \n",
       "351                  TEACHER  \n",
       "475                 ADVOCATE  \n",
       "1066                   SALES  "
      ]
     },
     "execution_count": 84,
     "metadata": {},
     "output_type": "execute_result"
    }
   ],
   "source": [
    "import re\n",
    "import pandas as pd\n",
    "import numpy as np\n",
    "from tqdm import tqdm\n",
    "\n",
    "import spacy\n",
    "import nltk\n",
    "from nltk.stem import WordNetLemmatizer\n",
    "from collections import Counter\n",
    "wn = WordNetLemmatizer()\n",
    "\n",
    "resume = pd.read_csv(\"archive/Resume/Resume.csv\")\n",
    "resume = resume.reindex(np.random.permutation(resume.index))\n",
    "resume.head()"
   ]
  },
  {
   "cell_type": "code",
   "execution_count": 49,
   "id": "b7366bb3-1baa-4e77-a6cc-ed4d0b3a3736",
   "metadata": {},
   "outputs": [
    {
     "name": "stderr",
     "output_type": "stream",
     "text": [
      "100%|████████████████████████████████████████████████████████████████████████████| 2484/2484 [00:14<00:00, 171.28it/s]\n"
     ]
    }
   ],
   "source": [
    "corpus = resume.Resume_str\n",
    "inverted_doc_idx = {}\n",
    "word_corpus = {}\n",
    "with tqdm(total=len(corpus)) as pbar:\n",
    "    for docid, x in enumerate(corpus):\n",
    "        words = tokenize(x)\n",
    "        word_corpus[docid] = words\n",
    "        inv_idx = inverted_index(words)\n",
    "        inverted_index_add(inverted_doc_idx, docid, inv_idx)\n",
    "        pbar.update(1)"
   ]
  },
  {
   "cell_type": "code",
   "execution_count": 50,
   "id": "ae467c0a-4cff-43b0-bd37-9b6f8142380b",
   "metadata": {
    "tags": []
   },
   "outputs": [],
   "source": [
    "# occurence of the word admin in each doc and its location\n",
    "sample_idd = inverted_doc_idx['admin']\n",
    "docid = list(sample_idd.keys())[0]\n",
    "keyid = sample_idd[list(sample_idd.keys())[0]][0]\n",
    "assert word_corpus[docid][keyid] == \"admin\""
   ]
  },
  {
   "cell_type": "code",
   "execution_count": 105,
   "id": "68d94568-1c43-4ede-a2e3-3ce73895db7f",
   "metadata": {
    "tags": []
   },
   "outputs": [
    {
     "name": "stdout",
     "output_type": "stream",
     "text": [
      "total words: 34893\n"
     ]
    }
   ],
   "source": [
    "data_frequency = {}\n",
    "for word in inverted_doc_idx.keys():\n",
    "    # number of docs that the word apepar in\n",
    "    data_frequency[word] = len(list(inverted_doc_idx[word].keys()))\n",
    "    \n",
    "total_vocab_size = len(data_frequency)\n",
    "\n",
    "print(f\"total words: {total_vocab_size}\")"
   ]
  },
  {
   "cell_type": "code",
   "execution_count": 106,
   "id": "3503e3fa-6b6c-469b-a415-4a0e0460b2ab",
   "metadata": {
    "tags": []
   },
   "outputs": [
    {
     "data": {
      "text/plain": [
       "34893"
      ]
     },
     "execution_count": 106,
     "metadata": {},
     "output_type": "execute_result"
    }
   ],
   "source": [
    "len(inverted_doc_idx.keys())"
   ]
  },
  {
   "cell_type": "markdown",
   "id": "aecfaf60-6e40-47d1-9e96-e623cd95937b",
   "metadata": {},
   "source": [
    "## TF-IDF Matrix\n",
    "Now, we generate the document-term matrix with Tf-idf as its weight."
   ]
  },
  {
   "cell_type": "code",
   "execution_count": 126,
   "id": "1f246969-c122-431c-8818-b2e625c5684f",
   "metadata": {
    "tags": []
   },
   "outputs": [
    {
     "name": "stderr",
     "output_type": "stream",
     "text": [
      "100%|███████████████████████████████████████████████████████████████████████████| 2484/2484 [00:00<00:00, 3416.53it/s]\n"
     ]
    }
   ],
   "source": [
    "import math\n",
    "tfidf_mat = {}\n",
    "for docid, token in tqdm(word_corpus.items()):\n",
    "    count = Counter(token)\n",
    "    words_count = len(token)\n",
    "    for word in list(count.keys()):\n",
    "        #Calculate Term Frequency\n",
    "        # frequency for the number of times a word appears in a document/total number of words in the document\n",
    "        tf = count[word] / float(words_count)\n",
    "        # the IDF is log(**N** total number of doucments in corpus)/ number of documents a token occurs\n",
    "        idf = math.log(len(word_corpus)/ len(inverted_doc_idx[word].keys()))\n",
    "        tfidf = tf * idf\n",
    "        if tfidf > 1.0 or tfidf < 0.0:\n",
    "            print(f\"[WARNING TFIDF score out of scope [0-1.0]. tf: {tf}, idf: {idf}. tfidf: {tfidf}\")\n",
    "            break\n",
    "        tfidf_mat[docid, word] = tfidf"
   ]
  },
  {
   "cell_type": "code",
   "execution_count": 107,
   "id": "9444b85f-eaa5-4752-a7da-36d6eb739a96",
   "metadata": {
    "tags": []
   },
   "outputs": [
    {
     "name": "stderr",
     "output_type": "stream",
     "text": [
      "100%|███████████████████████████████████████████████████████████████████████████| 2484/2484 [00:02<00:00, 1123.85it/s]\n"
     ]
    }
   ],
   "source": [
    "# import math\n",
    "# tfidf_mat = {}\n",
    "# N = len(word_corpus)\n",
    "\n",
    "# for docid, token in tqdm(word_corpus.items()):\n",
    "#     count = Counter(token)\n",
    "#     words_count = len(token)\n",
    "#     for word in list(count.keys()):\n",
    "#         #Calculate Term Frequency\n",
    "#         # frequency for the number of times a word appears in a document/total number of words in the document\n",
    "#         tf = count[word]\n",
    "#         tf = 1 + np.log(tf)\n",
    "        \n",
    "#         # the IDF is log(**N** total number of doucments in corpus)/ number of documents a token occurs\n",
    "#         df = data_frequency[word] if word in data_frequency else 0\n",
    "#         idf = np.log((N+1)/(df+1))\n",
    "#         tfidf = tf*idf\n",
    "        \n",
    "#         # if tfidf > 1.0 or tfidf < 0.0:\n",
    "#         #     print(f\"[WARNING TFIDF score out of scope [0-1.0]. tf: {tf}, idf: {idf}. \")\n",
    "#         #     break\n",
    "#         tfidf_mat[docid, word] = tfidf"
   ]
  },
  {
   "cell_type": "code",
   "execution_count": 71,
   "id": "266f3776-c67a-4c9d-84f9-7ad46d495c7e",
   "metadata": {
    "collapsed": true,
    "jupyter": {
     "outputs_hidden": true
    },
    "tags": []
   },
   "outputs": [
    {
     "data": {
      "text/plain": [
       "{0: [0, 45, 308, 553],\n",
       " 1: [304, 616, 1024],\n",
       " 3: [19, 64, 314, 564, 610],\n",
       " 4: [1, 10, 43, 52, 66, 120, 292, 298, 363, 382, 551, 627, 662, 695, 713, 747],\n",
       " 5: [454],\n",
       " 10: [61],\n",
       " 14: [218, 336],\n",
       " 18: [12, 28, 100, 231, 864],\n",
       " 19: [326, 334],\n",
       " 25: [241, 615],\n",
       " 28: [243, 277],\n",
       " 29: [397, 402],\n",
       " 35: [47],\n",
       " 40: [27],\n",
       " 43: [651],\n",
       " 45: [7, 34],\n",
       " 46: [27, 49, 209, 262, 420, 521],\n",
       " 59: [180],\n",
       " 60: [0, 5, 24, 41, 239, 368, 477, 491],\n",
       " 70: [257, 459],\n",
       " 73: [89],\n",
       " 75: [8, 322],\n",
       " 79: [19],\n",
       " 80: [20, 398, 442, 511],\n",
       " 81: [258],\n",
       " 82: [858],\n",
       " 90: [422, 439],\n",
       " 91: [62],\n",
       " 95: [344],\n",
       " 96: [141, 150],\n",
       " 97: [328, 531],\n",
       " 104: [334],\n",
       " 106: [283],\n",
       " 110: [220, 838],\n",
       " 114: [0, 344, 457],\n",
       " 121: [171, 173, 198, 200, 225, 227, 252, 254],\n",
       " 122: [1, 55, 91, 481],\n",
       " 129: [198],\n",
       " 146: [339],\n",
       " 149: [3, 5, 644],\n",
       " 153: [70, 490, 970, 1153],\n",
       " 155: [651],\n",
       " 160: [0,\n",
       "  48,\n",
       "  132,\n",
       "  153,\n",
       "  170,\n",
       "  188,\n",
       "  226,\n",
       "  242,\n",
       "  257,\n",
       "  295,\n",
       "  379,\n",
       "  512,\n",
       "  549,\n",
       "  559,\n",
       "  577,\n",
       "  603],\n",
       " 161: [245, 417, 421, 489],\n",
       " 165: [202],\n",
       " 167: [29],\n",
       " 175: [643],\n",
       " 177: [339],\n",
       " 178: [162],\n",
       " 196: [1298],\n",
       " 205: [417],\n",
       " 206: [885, 894, 906],\n",
       " 209: [10, 37, 342, 357],\n",
       " 210: [499, 514],\n",
       " 221: [70, 80, 110, 133, 150, 257, 388, 398, 407, 415],\n",
       " 231: [2, 141, 567],\n",
       " 241: [274, 516],\n",
       " 243: [196],\n",
       " 245: [63, 799],\n",
       " 247: [43],\n",
       " 253: [57, 531],\n",
       " 254: [345],\n",
       " 261: [52],\n",
       " 262: [407],\n",
       " 267: [414, 502],\n",
       " 271: [376],\n",
       " 274: [302],\n",
       " 279: [512, 566],\n",
       " 280: [62, 120, 595, 597],\n",
       " 284: [226, 454, 502],\n",
       " 285: [12],\n",
       " 290: [184, 420, 422, 426],\n",
       " 295: [426, 935],\n",
       " 297: [48],\n",
       " 300: [416],\n",
       " 305: [551],\n",
       " 316: [415, 489],\n",
       " 318: [145, 243, 472, 520, 541, 628, 675, 781, 822, 870, 874, 927, 951],\n",
       " 324: [220, 247, 275, 484, 511, 539],\n",
       " 325: [197],\n",
       " 334: [277, 412, 440],\n",
       " 335: [385],\n",
       " 337: [122, 164, 243, 315, 478, 552],\n",
       " 341: [141, 446, 491, 662, 677, 682, 684],\n",
       " 342: [16, 36, 95, 124, 427, 433, 596, 713, 807, 1638, 1685],\n",
       " 345: [353, 364, 422],\n",
       " 350: [29, 94],\n",
       " 352: [157, 570],\n",
       " 353: [215, 328, 353, 395],\n",
       " 354: [67, 469],\n",
       " 358: [424],\n",
       " 361: [215],\n",
       " 362: [39],\n",
       " 363: [611, 767],\n",
       " 380: [43],\n",
       " 381: [552, 563, 571, 580],\n",
       " 383: [360, 546],\n",
       " 386: [341],\n",
       " 387: [105],\n",
       " 394: [12, 616],\n",
       " 408: [324, 478],\n",
       " 409: [88],\n",
       " 414: [418, 535],\n",
       " 423: [19, 288, 306, 337, 366, 380, 530],\n",
       " 425: [395, 490],\n",
       " 426: [28, 39, 41, 102, 858, 1033, 1035],\n",
       " 432: [515],\n",
       " 439: [701, 752],\n",
       " 440: [353, 361, 456, 464],\n",
       " 441: [437, 447],\n",
       " 443: [485, 534, 603],\n",
       " 450: [31, 134, 191],\n",
       " 451: [120],\n",
       " 453: [102, 156],\n",
       " 454: [99],\n",
       " 455: [93],\n",
       " 458: [98, 516],\n",
       " 459: [534],\n",
       " 462: [11],\n",
       " 463: [0,\n",
       "  4,\n",
       "  16,\n",
       "  33,\n",
       "  60,\n",
       "  78,\n",
       "  85,\n",
       "  94,\n",
       "  136,\n",
       "  156,\n",
       "  182,\n",
       "  218,\n",
       "  287,\n",
       "  302,\n",
       "  335,\n",
       "  357,\n",
       "  365,\n",
       "  370],\n",
       " 464: [388],\n",
       " 470: [339, 459, 470],\n",
       " 473: [92, 505, 693],\n",
       " 476: [288, 339],\n",
       " 478: [19, 510, 581, 603, 612, 754, 778, 792],\n",
       " 481: [78, 622, 701, 703],\n",
       " 484: [27, 437],\n",
       " 488: [506],\n",
       " 489: [195, 256, 345],\n",
       " 493: [7, 126],\n",
       " 498: [54, 91, 305, 722, 751, 788],\n",
       " 501: [11, 408, 418, 436, 532, 544, 601],\n",
       " 508: [0, 20, 35, 53, 87, 104, 123, 125, 174, 425, 444, 446, 579],\n",
       " 510: [42],\n",
       " 513: [11, 35, 475],\n",
       " 514: [6, 157, 255, 301, 311, 443, 445],\n",
       " 519: [0, 22, 186, 199, 228, 501],\n",
       " 520: [452, 459],\n",
       " 523: [113, 121, 188, 273, 281, 315, 323, 454],\n",
       " 524: [62, 205, 424, 527, 800, 973, 1287],\n",
       " 535: [21],\n",
       " 539: [561, 565],\n",
       " 540: [3, 26, 86, 106, 129, 142, 149, 211, 232, 236, 381],\n",
       " 546: [253, 271],\n",
       " 547: [883],\n",
       " 550: [2, 288],\n",
       " 551: [33, 600],\n",
       " 552: [20, 43, 346, 458],\n",
       " 558: [361],\n",
       " 565: [255, 339],\n",
       " 568: [72],\n",
       " 574: [936],\n",
       " 579: [545],\n",
       " 583: [24],\n",
       " 587: [64],\n",
       " 588: [101, 320],\n",
       " 589: [272],\n",
       " 592: [438, 852],\n",
       " 597: [31],\n",
       " 618: [332, 551],\n",
       " 620: [0, 202, 421],\n",
       " 622: [12],\n",
       " 624: [188, 289, 563],\n",
       " 627: [5, 9, 21, 40, 45, 67, 84, 328, 465],\n",
       " 633: [521, 605],\n",
       " 634: [19, 286],\n",
       " 639: [34, 272, 301, 372, 497],\n",
       " 640: [122, 247],\n",
       " 645: [136, 163],\n",
       " 652: [455, 462],\n",
       " 656: [158, 162, 164, 384, 408, 458],\n",
       " 660: [768],\n",
       " 663: [52, 463],\n",
       " 664: [447],\n",
       " 668: [105],\n",
       " 670: [120, 346, 389, 497],\n",
       " 676: [182],\n",
       " 677: [646, 979],\n",
       " 684: [129, 209, 276, 350, 392, 426],\n",
       " 690: [0, 5, 40, 46, 75, 91, 198, 227, 419, 425, 454, 470, 577, 606],\n",
       " 698: [728],\n",
       " 699: [522],\n",
       " 702: [571],\n",
       " 705: [533],\n",
       " 709: [890],\n",
       " 715: [207],\n",
       " 720: [138, 170],\n",
       " 729: [517],\n",
       " 730: [79],\n",
       " 733: [0, 12, 73, 83, 101, 186, 199, 355, 385, 403, 573, 588, 592, 599],\n",
       " 735: [75],\n",
       " 736: [13],\n",
       " 739: [237],\n",
       " 741: [14, 45, 50, 54],\n",
       " 759: [125],\n",
       " 761: [461, 622],\n",
       " 763: [83],\n",
       " 764: [18, 43, 163, 276, 456, 550],\n",
       " 765: [189],\n",
       " 776: [301],\n",
       " 777: [18],\n",
       " 778: [409],\n",
       " 782: [119, 654],\n",
       " 786: [2, 88, 100, 143, 157, 340, 380, 582],\n",
       " 789: [856, 870],\n",
       " 790: [451],\n",
       " 791: [638],\n",
       " 797: [8, 257, 390, 404, 409, 521],\n",
       " 811: [590],\n",
       " 812: [231, 376, 432],\n",
       " 822: [64, 406, 414],\n",
       " 829: [55, 75, 198, 306, 316, 346, 403],\n",
       " 834: [153],\n",
       " 843: [46, 134, 201, 223, 259, 274, 346, 378, 389, 400, 405, 430, 461],\n",
       " 848: [462, 481],\n",
       " 854: [6],\n",
       " 856: [177, 337],\n",
       " 860: [448],\n",
       " 866: [436],\n",
       " 867: [297, 306],\n",
       " 869: [212],\n",
       " 878: [45],\n",
       " 879: [274],\n",
       " 882: [0,\n",
       "  6,\n",
       "  82,\n",
       "  106,\n",
       "  129,\n",
       "  288,\n",
       "  312,\n",
       "  408,\n",
       "  432,\n",
       "  441,\n",
       "  451,\n",
       "  456,\n",
       "  494,\n",
       "  529,\n",
       "  553,\n",
       "  576,\n",
       "  735,\n",
       "  759,\n",
       "  855],\n",
       " 888: [13, 42, 72, 81, 87, 204, 258, 273, 296, 320, 328, 407, 415, 426, 512],\n",
       " 891: [596, 781],\n",
       " 893: [144, 451],\n",
       " 898: [2, 6, 233, 268, 480, 507, 974],\n",
       " 900: [57],\n",
       " 904: [27],\n",
       " 905: [39],\n",
       " 913: [177, 345],\n",
       " 931: [261, 634, 731],\n",
       " 932: [152, 234, 450],\n",
       " 935: [8, 143, 179],\n",
       " 940: [146, 217, 245],\n",
       " 941: [69, 515, 526, 534, 541, 546],\n",
       " 942: [505],\n",
       " 951: [445],\n",
       " 955: [40],\n",
       " 961: [0, 20, 42, 90, 97, 116, 137, 147, 209, 244, 358, 383, 530, 785, 797],\n",
       " 963: [43, 144],\n",
       " 964: [589],\n",
       " 966: [184],\n",
       " 967: [5, 10, 50, 131, 136, 195, 302, 454],\n",
       " 969: [334, 393, 453],\n",
       " 975: [10],\n",
       " 977: [490, 501, 567],\n",
       " 978: [129],\n",
       " 981: [13],\n",
       " 984: [180, 232],\n",
       " 985: [704],\n",
       " 988: [0, 7, 13, 93],\n",
       " 991: [52, 80, 302],\n",
       " 1002: [10],\n",
       " 1005: [285],\n",
       " 1006: [430],\n",
       " 1007: [468],\n",
       " 1008: [658],\n",
       " 1013: [373],\n",
       " 1014: [774, 780],\n",
       " 1017: [65, 430, 436],\n",
       " 1020: [441],\n",
       " 1024: [22],\n",
       " 1025: [88, 100, 125, 165, 284, 318, 384],\n",
       " 1030: [36, 95, 133, 178, 345, 413, 418, 465],\n",
       " 1034: [401, 410, 413],\n",
       " 1040: [168, 239],\n",
       " 1048: [318, 904],\n",
       " 1049: [36, 655, 661, 671, 832],\n",
       " 1065: [353, 356],\n",
       " 1069: [434],\n",
       " 1075: [504, 603],\n",
       " 1078: [520],\n",
       " 1080: [45, 424],\n",
       " 1081: [299, 412],\n",
       " 1082: [14, 240],\n",
       " 1088: [397, 402],\n",
       " 1089: [482],\n",
       " 1090: [50],\n",
       " 1092: [871, 956, 998],\n",
       " 1101: [383],\n",
       " 1114: [453, 457],\n",
       " 1126: [250],\n",
       " 1129: [50, 61, 109, 139, 198, 376, 503, 544],\n",
       " 1135: [299],\n",
       " 1139: [129, 517],\n",
       " 1141: [20, 411],\n",
       " 1142: [353, 383],\n",
       " 1145: [8, 1332, 1349, 1417, 1540, 2864, 2881, 2949, 3291, 3497],\n",
       " 1149: [208, 626],\n",
       " 1157: [158],\n",
       " 1160: [123, 739],\n",
       " 1161: [40, 481],\n",
       " 1162: [48, 214, 451, 453],\n",
       " 1173: [373, 376, 394, 397, 401, 404, 410, 472, 475],\n",
       " 1175: [643],\n",
       " 1180: [553],\n",
       " 1187: [261],\n",
       " 1189: [62],\n",
       " 1191: [546],\n",
       " 1192: [206, 247],\n",
       " 1198: [395],\n",
       " 1200: [10],\n",
       " 1204: [438],\n",
       " 1206: [6],\n",
       " 1207: [14],\n",
       " 1208: [611],\n",
       " 1209: [402, 409],\n",
       " 1212: [193],\n",
       " 1216: [48, 213, 330, 421],\n",
       " 1220: [134],\n",
       " 1224: [21],\n",
       " 1226: [158, 166],\n",
       " 1228: [67, 479],\n",
       " 1238: [63],\n",
       " 1239: [317],\n",
       " 1243: [19, 29],\n",
       " 1245: [482],\n",
       " 1246: [66, 75, 207, 617, 625, 653],\n",
       " 1252: [378, 505, 509, 641],\n",
       " 1253: [9, 28, 310, 417],\n",
       " 1254: [672, 766],\n",
       " 1266: [168, 443],\n",
       " 1269: [106, 723, 775, 803],\n",
       " 1270: [125],\n",
       " 1272: [270, 657],\n",
       " 1273: [56, 72, 81, 346],\n",
       " 1275: [111],\n",
       " 1282: [657, 660],\n",
       " 1283: [181, 311, 440],\n",
       " 1297: [25],\n",
       " 1301: [572, 581],\n",
       " 1303: [6, 521, 538],\n",
       " 1304: [734],\n",
       " 1311: [105, 214, 326, 368],\n",
       " 1313: [338],\n",
       " 1314: [0, 16, 39, 147, 156, 179],\n",
       " 1315: [82, 440],\n",
       " 1316: [348],\n",
       " 1319: [65, 700],\n",
       " 1330: [33],\n",
       " 1333: [456, 494],\n",
       " 1335: [183, 660, 662],\n",
       " 1355: [40, 363],\n",
       " 1365: [103, 337, 453, 460, 537],\n",
       " 1370: [111, 195],\n",
       " 1378: [406, 430, 456],\n",
       " 1388: [467, 469],\n",
       " 1392: [81, 126, 138, 142, 166, 169, 178, 709, 860, 867],\n",
       " 1393: [245, 261, 354, 370, 401, 835],\n",
       " 1397: [286, 294],\n",
       " 1400: [64],\n",
       " 1404: [482],\n",
       " 1406: [452],\n",
       " 1416: [24, 73, 217, 249, 252, 281, 896, 899, 913, 1010, 1063],\n",
       " 1419: [23, 36],\n",
       " 1425: [50],\n",
       " 1428: [721, 783, 1008],\n",
       " 1439: [386],\n",
       " 1443: [553, 709],\n",
       " 1445: [111],\n",
       " 1447: [23, 435],\n",
       " 1449: [104, 180],\n",
       " 1455: [95],\n",
       " 1458: [78, 608],\n",
       " 1461: [27, 265, 326],\n",
       " 1465: [65, 347, 399],\n",
       " 1470: [123, 408, 458],\n",
       " 1471: [395, 404, 452],\n",
       " 1478: [31, 754],\n",
       " 1486: [128],\n",
       " 1498: [69],\n",
       " 1499: [0,\n",
       "  6,\n",
       "  30,\n",
       "  45,\n",
       "  127,\n",
       "  131,\n",
       "  155,\n",
       "  294,\n",
       "  315,\n",
       "  317,\n",
       "  334,\n",
       "  346,\n",
       "  350,\n",
       "  371,\n",
       "  573,\n",
       "  982,\n",
       "  984],\n",
       " 1500: [322],\n",
       " 1516: [43],\n",
       " 1517: [22],\n",
       " 1519: [350],\n",
       " 1530: [105],\n",
       " 1537: [16, 94, 152, 170, 235, 260, 328, 371, 486, 574, 643],\n",
       " 1538: [602],\n",
       " 1539: [139],\n",
       " 1544: [443],\n",
       " 1551: [44, 529],\n",
       " 1556: [432, 439, 452, 460, 491, 542],\n",
       " 1558: [124],\n",
       " 1563: [141],\n",
       " 1568: [149],\n",
       " 1570: [67, 271],\n",
       " 1571: [0, 33, 50, 191, 232, 310],\n",
       " 1573: [63],\n",
       " 1577: [0, 4, 65, 71, 125, 175, 199, 262, 270, 277, 303, 333, 410, 416, 424],\n",
       " 1578: [15, 115, 165, 269],\n",
       " 1579: [47],\n",
       " 1581: [648],\n",
       " 1587: [74, 373],\n",
       " 1589: [373, 424],\n",
       " 1599: [40],\n",
       " 1602: [97, 260, 462, 467],\n",
       " 1603: [522],\n",
       " 1612: [258],\n",
       " 1616: [1, 60],\n",
       " 1622: [526],\n",
       " 1623: [760, 766],\n",
       " 1624: [27, 148, 424],\n",
       " 1625: [552, 666, 730, 735],\n",
       " 1626: [123, 780],\n",
       " 1638: [27, 32, 45, 125, 201, 215, 320],\n",
       " 1646: [428],\n",
       " 1650: [176],\n",
       " 1669: [60],\n",
       " 1670: [421, 679],\n",
       " 1671: [120],\n",
       " 1672: [122],\n",
       " 1676: [39],\n",
       " 1680: [527],\n",
       " 1685: [1,\n",
       "  57,\n",
       "  72,\n",
       "  82,\n",
       "  191,\n",
       "  198,\n",
       "  222,\n",
       "  258,\n",
       "  262,\n",
       "  280,\n",
       "  306,\n",
       "  325,\n",
       "  331,\n",
       "  371,\n",
       "  396,\n",
       "  404,\n",
       "  423,\n",
       "  480,\n",
       "  506],\n",
       " 1698: [476],\n",
       " 1711: [208, 226, 244, 247, 385, 464, 489],\n",
       " 1712: [556],\n",
       " 1727: [600],\n",
       " 1731: [542],\n",
       " 1740: [209],\n",
       " 1743: [302, 466, 642],\n",
       " 1745: [198],\n",
       " 1749: [0, 171],\n",
       " 1754: [9, 26, 312, 525, 645, 697],\n",
       " 1763: [258],\n",
       " 1764: [237, 249, 269, 523, 546, 565],\n",
       " 1767: [183, 382, 535, 561],\n",
       " 1772: [55],\n",
       " 1775: [96, 108, 163],\n",
       " 1777: [158, 309, 448],\n",
       " 1778: [77],\n",
       " 1780: [70],\n",
       " 1781: [671],\n",
       " 1783: [367],\n",
       " 1786: [193],\n",
       " 1787: [299, 412, 414],\n",
       " 1793: [43],\n",
       " 1795: [246, 681, 957],\n",
       " 1796: [699],\n",
       " 1799: [269],\n",
       " 1810: [157, 244, 254, 264, 489],\n",
       " 1811: [108, 146],\n",
       " 1817: [35],\n",
       " 1818: [3, 43, 71, 207, 218, 287, 294, 595, 604, 640],\n",
       " 1821: [140],\n",
       " 1823: [175, 342, 375, 471],\n",
       " 1824: [127, 433, 446],\n",
       " 1830: [253],\n",
       " 1833: [208, 241, 283, 302, 340, 359, 385, 428, 511],\n",
       " 1840: [58],\n",
       " 1842: [32, 65, 78, 392],\n",
       " 1850: [33],\n",
       " 1853: [380, 387, 566],\n",
       " 1856: [50, 64, 69, 329, 463],\n",
       " 1866: [503, 510],\n",
       " 1867: [164, 173],\n",
       " 1868: [719],\n",
       " 1885: [320, 329, 662, 700, 703, 706, 850, 887],\n",
       " 1887: [777],\n",
       " 1888: [2, 9, 71, 83],\n",
       " 1891: [90, 567, 573],\n",
       " 1893: [298],\n",
       " 1905: [118, 175, 186],\n",
       " 1907: [1097, 1266, 1362, 1375, 1593],\n",
       " 1909: [1, 62, 83, 131, 143, 178, 241, 257],\n",
       " 1912: [456],\n",
       " 1914: [154],\n",
       " 1915: [105, 148, 347, 433],\n",
       " 1919: [0, 62, 68],\n",
       " 1920: [480, 554],\n",
       " 1921: [264],\n",
       " 1926: [581],\n",
       " 1927: [360, 399, 468, 610],\n",
       " 1930: [17],\n",
       " 1932: [83, 280, 374, 434, 437],\n",
       " 1935: [464],\n",
       " 1936: [117, 274, 335],\n",
       " 1937: [164],\n",
       " 1941: [337],\n",
       " 1942: [635],\n",
       " 1946: [335, 492],\n",
       " 1951: [0, 4, 173, 249, 257, 337, 356, 380, 398, 451, 487],\n",
       " 1952: [48],\n",
       " 1956: [522, 602],\n",
       " 1961: [28, 197],\n",
       " 1963: [6, 13, 106, 130, 271, 450, 474, 615],\n",
       " 1970: [0, 17, 100, 521],\n",
       " 1973: [2, 54, 183, 230, 279, 448, 482],\n",
       " 1980: [736],\n",
       " 1982: [205],\n",
       " 1989: [18, 176, 189],\n",
       " 1993: [6, 17, 45, 93, 111, 117, 512, 727],\n",
       " 2009: [36, 45, 50, 89, 98, 103],\n",
       " 2015: [559],\n",
       " 2018: [65],\n",
       " 2022: [187],\n",
       " 2025: [149, 173, 237],\n",
       " 2029: [138, 228, 303],\n",
       " 2032: [20, 944],\n",
       " 2033: [86, 92, 148, 470],\n",
       " 2035: [0, 4, 86, 128, 510],\n",
       " 2036: [521, 730],\n",
       " 2037: [602],\n",
       " 2038: [59,\n",
       "  67,\n",
       "  70,\n",
       "  110,\n",
       "  113,\n",
       "  398,\n",
       "  447,\n",
       "  496,\n",
       "  536,\n",
       "  793,\n",
       "  840,\n",
       "  889,\n",
       "  932,\n",
       "  935,\n",
       "  995,\n",
       "  997],\n",
       " 2048: [62],\n",
       " 2051: [402, 492],\n",
       " 2052: [421],\n",
       " 2058: [393, 409],\n",
       " 2060: [732, 734, 907],\n",
       " 2063: [95],\n",
       " 2066: [73, 154, 264, 809, 811],\n",
       " 2068: [394],\n",
       " 2070: [36],\n",
       " 2073: [13, 48, 75, 110, 115, 188, 212, 220, 274, 399, 442],\n",
       " 2074: [0, 36, 60, 70, 119, 236, 245, 249, 460, 514],\n",
       " 2080: [113, 237, 312],\n",
       " 2082: [5, 83, 90, 123, 130, 172, 235, 271, 285, 345, 431],\n",
       " 2083: [114, 424, 450],\n",
       " 2090: [529, 735],\n",
       " 2091: [490, 528],\n",
       " 2092: [281, 342, 522],\n",
       " 2094: [140, 148, 157, 159],\n",
       " 2096: [208, 232, 284, 354],\n",
       " 2100: [126],\n",
       " 2105: [430, 438],\n",
       " 2109: [469],\n",
       " 2116: [71, 77],\n",
       " 2128: [350, 397],\n",
       " 2129: [507, 526, 532, 552],\n",
       " 2136: [19, 470, 479],\n",
       " 2138: [0, 6, 10, 95, 133],\n",
       " 2143: [484, 490],\n",
       " 2145: [309, 1032],\n",
       " 2147: [783, 836],\n",
       " 2149: [6, 71, 86, 380, 389, 488, 498, 612, 668, 698],\n",
       " 2161: [1547],\n",
       " 2162: [86],\n",
       " 2166: [34, 88, 136, 202, 486, 497, 620, 633, 669],\n",
       " 2173: [246, 272, 840],\n",
       " 2174: [206, 268, 303, 308],\n",
       " 2186: [722],\n",
       " 2187: [3, 666],\n",
       " 2188: [607],\n",
       " 2199: [19, 659, 668],\n",
       " 2202: [76, 304, 437],\n",
       " 2212: [208, 231, 251, 295, 314, 337, 427],\n",
       " 2213: [53, 407],\n",
       " 2214: [227, 301],\n",
       " 2215: [456],\n",
       " 2216: [269, 314, 346, 649, 689],\n",
       " 2217: [471, 700, 769],\n",
       " 2218: [166],\n",
       " 2224: [325, 465, 476],\n",
       " 2226: [5, 126, 171, 594, 735, 754, 802],\n",
       " 2231: [234, 668],\n",
       " 2232: [91, 353],\n",
       " 2235: [592],\n",
       " 2239: [26, 680, 729, 740, 780, 783, 848],\n",
       " 2243: [139, 141, 227, 241, 424, 438, 600, 602],\n",
       " 2250: [295, 509],\n",
       " 2253: [125, 291, 516, 641],\n",
       " 2262: [297, 360, 419, 464, 543, 552],\n",
       " 2267: [0, 9, 62, 83, 106, 111, 133, 151, 266, 284, 462, 525],\n",
       " 2270: [92],\n",
       " 2272: [321, 328, 337],\n",
       " 2276: [44, 219, 484],\n",
       " 2280: [85, 1140],\n",
       " 2289: [0, 54, 456],\n",
       " 2291: [387, 393],\n",
       " 2292: [299, 400, 417, 471],\n",
       " 2293: [341, 602],\n",
       " 2297: [662],\n",
       " 2300: [89, 410],\n",
       " 2303: [576, 782],\n",
       " 2304: [377],\n",
       " 2306: [9, 117, 202, 372, 389],\n",
       " 2314: [85, 198, 405, 410, 416],\n",
       " 2316: [64],\n",
       " 2321: [10],\n",
       " 2328: [796, 822],\n",
       " 2333: [502, 851],\n",
       " 2343: [479],\n",
       " 2344: [27, 436],\n",
       " 2345: [221, 567, 629],\n",
       " 2348: [35],\n",
       " 2349: [47, 316, 326, 333],\n",
       " 2353: [57, 64, 168],\n",
       " 2357: [95],\n",
       " 2361: [528, 620],\n",
       " 2363: [546, 614],\n",
       " 2365: [74],\n",
       " 2371: [0,\n",
       "  31,\n",
       "  121,\n",
       "  189,\n",
       "  205,\n",
       "  208,\n",
       "  252,\n",
       "  257,\n",
       "  316,\n",
       "  403,\n",
       "  423,\n",
       "  431,\n",
       "  435,\n",
       "  447,\n",
       "  451,\n",
       "  492],\n",
       " 2372: [0,\n",
       "  18,\n",
       "  58,\n",
       "  111,\n",
       "  187,\n",
       "  192,\n",
       "  195,\n",
       "  209,\n",
       "  227,\n",
       "  292,\n",
       "  304,\n",
       "  311,\n",
       "  337,\n",
       "  367,\n",
       "  450,\n",
       "  458,\n",
       "  669,\n",
       "  671],\n",
       " 2374: [248, 524],\n",
       " 2375: [15, 73, 143],\n",
       " 2379: [88],\n",
       " 2382: [298, 394, 463, 652],\n",
       " 2388: [122, 129, 327, 336, 455, 457],\n",
       " 2391: [8, 15, 272, 629, 740],\n",
       " 2399: [23, 402],\n",
       " 2410: [6, 102, 239, 525, 886, 919],\n",
       " 2411: [80, 508],\n",
       " 2415: [81],\n",
       " 2418: [95, 463],\n",
       " 2430: [28, 139, 228, 476],\n",
       " 2431: [35, 89, 459],\n",
       " 2433: [106, 223, 356, 486],\n",
       " 2435: [29],\n",
       " 2437: [16, 169],\n",
       " 2441: [267, 415],\n",
       " 2442: [422, 448, 561],\n",
       " 2443: [45],\n",
       " 2457: [312],\n",
       " 2459: [293],\n",
       " 2462: [99, 264],\n",
       " 2470: [82],\n",
       " 2472: [26, 70, 523],\n",
       " 2476: [0, 5, 20, 41, 181, 242],\n",
       " 2477: [136, 293, 453],\n",
       " 2478: [530, 538],\n",
       " 2479: [55]}"
      ]
     },
     "execution_count": 71,
     "metadata": {},
     "output_type": "execute_result"
    }
   ],
   "source": [
    "inverted_doc_idx['public']"
   ]
  },
  {
   "cell_type": "markdown",
   "id": "16be503b-33cc-4c01-bde2-755db7370f80",
   "metadata": {
    "tags": []
   },
   "source": [
    "## Search given TFIDF Matrix"
   ]
  },
  {
   "cell_type": "code",
   "execution_count": 139,
   "id": "802aabc6-66b6-4790-b730-6b70e4f815be",
   "metadata": {
    "tags": []
   },
   "outputs": [],
   "source": [
    "# Make sure you run the above to get your tfidf mat first as we refer it internally\n",
    "def ranked_search(query, firstx=10):\n",
    "    tokens = tokenize(query)\n",
    "    query_weights = {}\n",
    "    # get all the weights of the documents in which the term existed\n",
    "    #get documents that matches the key\n",
    "    for mapword, wmap in inverted_doc_idx.items():\n",
    "        appear_in_docs = list(wmap.keys())\n",
    "\n",
    "        if mapword in tokens:\n",
    "            # print(f\"looking via: {tokens}\")\n",
    "            # print(f\"found {mapword} in tokens for docs {appear_in_docs}\")\n",
    "            for docid in appear_in_docs:\n",
    "                # we add the value onto that doc id. The more words scored for that doc, the heavier the weight\n",
    "                query_weights[docid] = query_weights.get(docid,0) + tfidf_mat[docid, mapword]\n",
    "                \n",
    "    query_weights = sorted(query_weights.items(), key=lambda x:x[1], reverse=True)[:firstx]\n",
    "    result = []\n",
    "    for (docid, tfidfval) in query_weights:\n",
    "        data = {\n",
    "                    'Relevance': round(tfidfval*100,2),\n",
    "                    'ID': docid, \n",
    "                    'Resume_str': resume.Resume_str.iloc[docid], \n",
    "                    'Category': resume.Category[docid]\n",
    "                }\n",
    "        result.append(data)\n",
    "    result = pd.DataFrame(result)\n",
    "    return result"
   ]
  },
  {
   "cell_type": "code",
   "execution_count": 128,
   "id": "133fce82-1ea9-4895-ad25-28bc34f2a37d",
   "metadata": {
    "tags": []
   },
   "outputs": [
    {
     "data": {
      "text/plain": [
       "0.09787001650882389"
      ]
     },
     "execution_count": 128,
     "metadata": {},
     "output_type": "execute_result"
    }
   ],
   "source": [
    "tfidf_mat[1758, \"teacher\"]"
   ]
  },
  {
   "cell_type": "code",
   "execution_count": 140,
   "id": "f740de9b-3fbc-4b10-a32e-ba929b843cdf",
   "metadata": {
    "tags": []
   },
   "outputs": [
    {
     "data": {
      "text/html": [
       "<div>\n",
       "<style scoped>\n",
       "    .dataframe tbody tr th:only-of-type {\n",
       "        vertical-align: middle;\n",
       "    }\n",
       "\n",
       "    .dataframe tbody tr th {\n",
       "        vertical-align: top;\n",
       "    }\n",
       "\n",
       "    .dataframe thead th {\n",
       "        text-align: right;\n",
       "    }\n",
       "</style>\n",
       "<table border=\"1\" class=\"dataframe\">\n",
       "  <thead>\n",
       "    <tr style=\"text-align: right;\">\n",
       "      <th></th>\n",
       "      <th>Relevance</th>\n",
       "      <th>ID</th>\n",
       "      <th>Resume_str</th>\n",
       "      <th>Category</th>\n",
       "    </tr>\n",
       "  </thead>\n",
       "  <tbody>\n",
       "    <tr>\n",
       "      <th>0</th>\n",
       "      <td>8.48</td>\n",
       "      <td>378</td>\n",
       "      <td>APPAREL PRODUCTION MANAGER       Exec...</td>\n",
       "      <td>TEACHER</td>\n",
       "    </tr>\n",
       "    <tr>\n",
       "      <th>1</th>\n",
       "      <td>8.12</td>\n",
       "      <td>578</td>\n",
       "      <td>INFORMATION TECHNOLOGY AND AWS ADMIN ...</td>\n",
       "      <td>BUSINESS-DEVELOPMENT</td>\n",
       "    </tr>\n",
       "    <tr>\n",
       "      <th>2</th>\n",
       "      <td>7.94</td>\n",
       "      <td>1059</td>\n",
       "      <td>FINANCE AND SALES CONSULTANT         ...</td>\n",
       "      <td>SALES</td>\n",
       "    </tr>\n",
       "    <tr>\n",
       "      <th>3</th>\n",
       "      <td>7.58</td>\n",
       "      <td>64</td>\n",
       "      <td>REHABILITATION SPECIALIST / MASSAGE T...</td>\n",
       "      <td>HR</td>\n",
       "    </tr>\n",
       "    <tr>\n",
       "      <th>4</th>\n",
       "      <td>7.44</td>\n",
       "      <td>1163</td>\n",
       "      <td>TEACHER         Professional Summary ...</td>\n",
       "      <td>CONSULTANT</td>\n",
       "    </tr>\n",
       "  </tbody>\n",
       "</table>\n",
       "</div>"
      ],
      "text/plain": [
       "   Relevance    ID                                         Resume_str   \n",
       "0       8.48   378           APPAREL PRODUCTION MANAGER       Exec...  \\\n",
       "1       8.12   578           INFORMATION TECHNOLOGY AND AWS ADMIN ...   \n",
       "2       7.94  1059           FINANCE AND SALES CONSULTANT         ...   \n",
       "3       7.58    64           REHABILITATION SPECIALIST / MASSAGE T...   \n",
       "4       7.44  1163           TEACHER         Professional Summary ...   \n",
       "\n",
       "               Category  \n",
       "0               TEACHER  \n",
       "1  BUSINESS-DEVELOPMENT  \n",
       "2                 SALES  \n",
       "3                    HR  \n",
       "4            CONSULTANT  "
      ]
     },
     "execution_count": 140,
     "metadata": {},
     "output_type": "execute_result"
    }
   ],
   "source": [
    "res = ranked_search(\"HR\")\n",
    "res.head()"
   ]
  },
  {
   "cell_type": "code",
   "execution_count": 166,
   "id": "4a54dff8-920a-4e4c-ad02-291657255ff9",
   "metadata": {
    "tags": []
   },
   "outputs": [],
   "source": [
    "from functools import reduce\n",
    "\n",
    "## Using AND as logical operator. If there are multiple terms, they all must exist in that document\n",
    "def boolean_search(query, firstx=10):\n",
    "    \"\"\"Run a boolean search with AND operator between terms over \n",
    "    the inverted index.\n",
    "   \"\"\"      \n",
    "    # preprocess the user query using same function used to build Inverted Index\n",
    "    words = [x for x in tokenize(query) if x in list(inverted_doc_idx.keys())]\n",
    "    results = []\n",
    "    for w in words:\n",
    "        docs = inverted_doc_idx[w]\n",
    "        results.append(set(docs.keys()))\n",
    "    # AND operator. Replace & for | to modify to OR behavior.\n",
    "    docs = reduce(lambda x, y: x & y, results) if results else []\n",
    "    docidx = list(docs)[:firstx]\n",
    "    result = []\n",
    "    for docid in docidx:\n",
    "        data = {\n",
    "                    'ID': docid, \n",
    "                    'Resume_str': resume.Resume_str.iloc[docid], \n",
    "                    'Category': resume.Category[docid]\n",
    "                }\n",
    "        result.append(data)\n",
    "    result = pd.DataFrame(result)\n",
    "    return result"
   ]
  },
  {
   "cell_type": "code",
   "execution_count": 165,
   "id": "5e989980-b7a8-430f-b4a9-2c11eb604f33",
   "metadata": {
    "tags": []
   },
   "outputs": [
    {
     "data": {
      "text/html": [
       "<div>\n",
       "<style scoped>\n",
       "    .dataframe tbody tr th:only-of-type {\n",
       "        vertical-align: middle;\n",
       "    }\n",
       "\n",
       "    .dataframe tbody tr th {\n",
       "        vertical-align: top;\n",
       "    }\n",
       "\n",
       "    .dataframe thead th {\n",
       "        text-align: right;\n",
       "    }\n",
       "</style>\n",
       "<table border=\"1\" class=\"dataframe\">\n",
       "  <thead>\n",
       "    <tr style=\"text-align: right;\">\n",
       "      <th></th>\n",
       "      <th>ID</th>\n",
       "      <th>Resume_str</th>\n",
       "      <th>Category</th>\n",
       "    </tr>\n",
       "  </thead>\n",
       "  <tbody>\n",
       "    <tr>\n",
       "      <th>0</th>\n",
       "      <td>897</td>\n",
       "      <td>SENIOR LEAD TECHNOLOGIST EDITOR      ...</td>\n",
       "      <td>FITNESS</td>\n",
       "    </tr>\n",
       "    <tr>\n",
       "      <th>1</th>\n",
       "      <td>1018</td>\n",
       "      <td>HR ANALYST         Summary     Experi...</td>\n",
       "      <td>SALES</td>\n",
       "    </tr>\n",
       "    <tr>\n",
       "      <th>2</th>\n",
       "      <td>2309</td>\n",
       "      <td>SENIOR FINANCE MANAGER           Summ...</td>\n",
       "      <td>ARTS</td>\n",
       "    </tr>\n",
       "    <tr>\n",
       "      <th>3</th>\n",
       "      <td>1544</td>\n",
       "      <td>EXECUTIVE CHEF-PARTNER           Summ...</td>\n",
       "      <td>FINANCE</td>\n",
       "    </tr>\n",
       "    <tr>\n",
       "      <th>4</th>\n",
       "      <td>396</td>\n",
       "      <td>ADMINISTRATION ASSISTANT         Prof...</td>\n",
       "      <td>TEACHER</td>\n",
       "    </tr>\n",
       "  </tbody>\n",
       "</table>\n",
       "</div>"
      ],
      "text/plain": [
       "     ID                                         Resume_str Category\n",
       "0   897           SENIOR LEAD TECHNOLOGIST EDITOR      ...  FITNESS\n",
       "1  1018           HR ANALYST         Summary     Experi...    SALES\n",
       "2  2309           SENIOR FINANCE MANAGER           Summ...     ARTS\n",
       "3  1544           EXECUTIVE CHEF-PARTNER           Summ...  FINANCE\n",
       "4   396           ADMINISTRATION ASSISTANT         Prof...  TEACHER"
      ]
     },
     "execution_count": 165,
     "metadata": {},
     "output_type": "execute_result"
    }
   ],
   "source": [
    "res = boolean_search(\"HR IT\")\n",
    "res.head()"
   ]
  },
  {
   "cell_type": "markdown",
   "id": "20fef8f6-e77f-46a1-b6f3-37b9d6c49117",
   "metadata": {},
   "source": [
    "## Old implementation"
   ]
  },
  {
   "cell_type": "code",
   "execution_count": 46,
   "id": "70219226-7597-4984-ac9f-4a1929197d73",
   "metadata": {
    "tags": []
   },
   "outputs": [],
   "source": [
    "totalworddict = sum([Counter(x) for x in worddict], Counter())\n",
    "len(totalworddict)\n",
    "def compute_term_frequency(worddict, bow, inv_word_freq):\n",
    "    tfidf = {}\n",
    "    \n",
    "    for word in worddict:\n",
    "        count = bow[word]\n",
    "        term_frequency[word] = count / float(len(worddict))\n",
    "        #print(f\"{word}: {term_frequency[word]}\")\n",
    "        tfidf[word] = term_frequency[word]*inv_word_freq[word]\n",
    "        #print(f\"TFIDF {word}: {tfidf[word]}\")\n",
    "    return tfidf\n",
    "        \n",
    "# now, we calculat the inverse term. We need to find out the number of times this word\n",
    "# appears in a doc and how many\n",
    "def compute_doc_frequency(worddict, bow):\n",
    "    word_doc_freq = {}\n",
    "\n",
    "    # combine it into a big worddict\n",
    "    totalworddict = sum([Counter(x) for x in worddict], Counter())\n",
    "   \n",
    "    for word in totalworddict:\n",
    "        k = 0\n",
    "        for i in range(len(worddict)):\n",
    "            if word in bow[i]:\n",
    "                k += 1\n",
    "                break\n",
    "                \n",
    "        if k == 0:\n",
    "            # does not appear in any dict?\n",
    "            print(totalworddict[word])\n",
    "        inv_freq = math.log(len(worddict[i])/k)\n",
    "        word_doc_freq[word] = inv_freq\n",
    "    return word_doc_freq"
   ]
  },
  {
   "cell_type": "code",
   "execution_count": 47,
   "id": "2e5499ec-8e09-4e6b-affc-7f6ad1bb5642",
   "metadata": {
    "collapsed": true,
    "jupyter": {
     "outputs_hidden": true
    },
    "tags": []
   },
   "outputs": [
    {
     "data": {
      "text/plain": [
       "{'ASSISTANT': 0.009900206466618705,\n",
       " 'BANKING': 0.009900206466618705,\n",
       " 'CENTER': 0.009900206466618705,\n",
       " 'MANAGER': 0.009900206466618705,\n",
       " 'I': 0.01980041293323741,\n",
       " 'Summary': 0.009900206466618705,\n",
       " 'Experienced': 0.03960082586647482,\n",
       " 'Signals': 0.009900206466618705,\n",
       " 'analysis': 0.09900206466618705,\n",
       " 'GeoSpatial': 0.009900206466618705,\n",
       " 'Electronic': 0.009900206466618705,\n",
       " 'Warfare': 0.009900206466618705,\n",
       " 'Networks': 0.029700619399856115,\n",
       " 'Threat': 0.009900206466618705,\n",
       " 'DNR': 0.009900206466618705,\n",
       " 'Limited': 0.009900206466618705,\n",
       " 'knowledge': 0.049501032333093525,\n",
       " 'performing': 0.009900206466618705,\n",
       " 'DNI': 0.009900206466618705,\n",
       " 'Basic': 0.029700619399856115,\n",
       " 'computer': 0.009900206466618705,\n",
       " 'network': 0.009900206466618705,\n",
       " 'applications': 0.01980041293323741,\n",
       " 'World': 0.009900206466618705,\n",
       " 'Wide': 0.01980041293323741,\n",
       " 'Web': 0.009900206466618705,\n",
       " 'printers': 0.009900206466618705,\n",
       " 'email': 0.009900206466618705,\n",
       " 'instant': 0.009900206466618705,\n",
       " 'messaging': 0.009900206466618705,\n",
       " 'Knowledge': 0.01980041293323741,\n",
       " 'Local': 0.009900206466618705,\n",
       " 'Area': 0.01980041293323741,\n",
       " 'well': 0.01980041293323741,\n",
       " 'Expert': 0.01980041293323741,\n",
       " 'working': 0.029700619399856115,\n",
       " 'experience': 0.009900206466618705,\n",
       " 'Google': 0.01980041293323741,\n",
       " 'Earth': 0.01980041293323741,\n",
       " 'Microsoft': 0.029700619399856115,\n",
       " 'Office': 0.06930144526633093,\n",
       " 'Suite': 0.029700619399856115,\n",
       " 'various': 0.009900206466618705,\n",
       " 'SIGINT': 0.029700619399856115,\n",
       " 'Geospatial': 0.009900206466618705,\n",
       " 'AnalystSignal': 0.009900206466618705,\n",
       " 'AnalysisSIGDEV': 0.009900206466618705,\n",
       " 'collection': 0.01980041293323741,\n",
       " 'identification': 0.009900206466618705,\n",
       " 'processing': 0.009900206466618705,\n",
       " 'tools': 0.009900206466618705,\n",
       " 'databases': 0.01980041293323741,\n",
       " 'analytic': 0.009900206466618705,\n",
       " 'research': 0.029700619399856115,\n",
       " 'development': 0.029700619399856115,\n",
       " 'techniques': 0.009900206466618705,\n",
       " 'along': 0.009900206466618705,\n",
       " 'management': 0.029700619399856115,\n",
       " 'products': 0.009900206466618705,\n",
       " 'Excellent': 0.009900206466618705,\n",
       " 'oral': 0.009900206466618705,\n",
       " 'written': 0.009900206466618705,\n",
       " 'communication': 0.009900206466618705,\n",
       " 'skills': 0.049501032333093525,\n",
       " 'regular': 0.009900206466618705,\n",
       " 'displays': 0.009900206466618705,\n",
       " 'high': 0.009900206466618705,\n",
       " 'levels': 0.009900206466618705,\n",
       " 'professionalism': 0.009900206466618705,\n",
       " 'problemsolving': 0.029700619399856115,\n",
       " 'Bloomberg': 0.03960082586647482,\n",
       " 'certified': 0.009900206466618705,\n",
       " '2014': 0.009900206466618705,\n",
       " 'Highly': 0.009900206466618705,\n",
       " 'adaptive': 0.009900206466618705,\n",
       " 'changing': 0.009900206466618705,\n",
       " 'environments': 0.009900206466618705,\n",
       " 'selfstarter': 0.009900206466618705,\n",
       " 'people': 0.009900206466618705,\n",
       " 'motivator': 0.009900206466618705,\n",
       " 'broad': 0.009900206466618705,\n",
       " 'set': 0.009900206466618705,\n",
       " 'analytical': 0.009900206466618705,\n",
       " 'technical': 0.009900206466618705,\n",
       " 'Proficient': 0.03960082586647482,\n",
       " 'Governmental': 0.01980041293323741,\n",
       " 'Health': 0.029700619399856115,\n",
       " 'Care': 0.01980041293323741,\n",
       " 'programs': 0.029700619399856115,\n",
       " 'regulations': 0.01980041293323741,\n",
       " 'eg': 0.009900206466618705,\n",
       " 'Medicare': 0.01980041293323741,\n",
       " 'Advantage': 0.009900206466618705,\n",
       " 'Highlights': 0.009900206466618705,\n",
       " 'RTRG': 0.009900206466618705,\n",
       " 'suite': 0.009900206466618705,\n",
       " 'Belleview': 0.009900206466618705,\n",
       " 'Metrics': 0.009900206466618705,\n",
       " 'Anchory': 0.009900206466618705,\n",
       " 'Globalreach': 0.009900206466618705,\n",
       " 'SEDB': 0.009900206466618705,\n",
       " 'SIGNAV': 0.009900206466618705,\n",
       " 'NSAnet': 0.009900206466618705,\n",
       " 'Target': 0.009900206466618705,\n",
       " 'Profiler': 0.009900206466618705,\n",
       " 'MS': 0.01980041293323741,\n",
       " 'ArcMap': 0.009900206466618705,\n",
       " 'ArcGIS': 0.009900206466618705,\n",
       " 'Analyst': 0.029700619399856115,\n",
       " 'Notebook': 0.009900206466618705,\n",
       " 'Dishfire': 0.009900206466618705,\n",
       " 'JWICS': 0.009900206466618705,\n",
       " 'Archtics': 0.01980041293323741,\n",
       " 'Ticketmaster': 0.01980041293323741,\n",
       " 'MarX': 0.01980041293323741,\n",
       " 'Continuum': 0.01980041293323741,\n",
       " 'FACETS': 0.01980041293323741,\n",
       " 'MEDCO': 0.009900206466618705,\n",
       " 'Med': 0.01980041293323741,\n",
       " 'Informatics': 0.01980041293323741,\n",
       " 'Advance': 0.009900206466618705,\n",
       " 'Verint': 0.01980041293323741,\n",
       " 'Cisco': 0.009900206466618705,\n",
       " 'CITRIX': 0.029700619399856115,\n",
       " 'Experience': 0.009900206466618705,\n",
       " 'Company': 0.05940123879971223,\n",
       " 'Name': 0.05940123879971223,\n",
       " 'City': 0.06930144526633093,\n",
       " 'State': 0.07920165173294964,\n",
       " 'Assistant': 0.009900206466618705,\n",
       " 'Banking': 0.029700619399856115,\n",
       " 'Center': 0.029700619399856115,\n",
       " 'Manager': 0.009900206466618705,\n",
       " '032016': 0.01980041293323741,\n",
       " 'Current': 0.009900206466618705,\n",
       " 'Knowledgeable': 0.01980041293323741,\n",
       " 'aspects': 0.01980041293323741,\n",
       " 'running': 0.01980041293323741,\n",
       " 'Retail': 0.029700619399856115,\n",
       " 'Building': 0.009900206466618705,\n",
       " 'Operations': 0.009900206466618705,\n",
       " 'Audit': 0.009900206466618705,\n",
       " 'policies': 0.029700619399856115,\n",
       " 'procedures': 0.009900206466618705,\n",
       " 'general': 0.03960082586647482,\n",
       " 'TEAM': 0.01980041293323741,\n",
       " 'building': 0.01980041293323741,\n",
       " 'Comerica': 0.009900206466618705,\n",
       " 'Securities': 0.01980041293323741,\n",
       " 'Financial': 0.01980041293323741,\n",
       " 'Products': 0.009900206466618705,\n",
       " 'Preparation': 0.009900206466618705,\n",
       " 'internal': 0.009900206466618705,\n",
       " 'instructions': 0.009900206466618705,\n",
       " 'operating': 0.009900206466618705,\n",
       " 'Standard': 0.009900206466618705,\n",
       " 'Operating': 0.009900206466618705,\n",
       " 'Procedures': 0.009900206466618705,\n",
       " 'SOPs': 0.009900206466618705,\n",
       " 'guidelines': 0.009900206466618705,\n",
       " 'Skilled': 0.01980041293323741,\n",
       " 'assessing': 0.009900206466618705,\n",
       " 'Fraudulent': 0.009900206466618705,\n",
       " 'Issues': 0.009900206466618705,\n",
       " 'plans': 0.009900206466618705,\n",
       " 'conducts': 0.009900206466618705,\n",
       " 'investigations': 0.01980041293323741,\n",
       " 'designed': 0.009900206466618705,\n",
       " 'achieve': 0.009900206466618705,\n",
       " 'casualty': 0.009900206466618705,\n",
       " 'resolution': 0.009900206466618705,\n",
       " 'Analyzed': 0.009900206466618705,\n",
       " 'inspections': 0.009900206466618705,\n",
       " 'identify': 0.01980041293323741,\n",
       " 'problem': 0.009900206466618705,\n",
       " 'areas': 0.009900206466618705,\n",
       " 'within': 0.009900206466618705,\n",
       " 'retail': 0.009900206466618705,\n",
       " 'financial': 0.009900206466618705,\n",
       " 'Mathematical': 0.01980041293323741,\n",
       " 'abilities': 0.01980041293323741,\n",
       " 'perform': 0.01980041293323741,\n",
       " 'calculations': 0.01980041293323741,\n",
       " 'including': 0.01980041293323741,\n",
       " 'application': 0.01980041293323741,\n",
       " 'discounts': 0.01980041293323741,\n",
       " 'interest': 0.01980041293323741,\n",
       " 'proportions': 0.01980041293323741,\n",
       " 'mortgage': 0.009900206466618705,\n",
       " 'terms': 0.009900206466618705,\n",
       " 'percentages': 0.01980041293323741,\n",
       " 'following': 0.03960082586647482,\n",
       " 'systems': 0.029700619399856115,\n",
       " 'CISCO': 0.029700619399856115,\n",
       " 'HOGAN': 0.01980041293323741,\n",
       " 'Trio': 0.009900206466618705,\n",
       " 'Elan': 0.009900206466618705,\n",
       " 'Mortgage': 0.009900206466618705,\n",
       " 'Referral': 0.009900206466618705,\n",
       " 'Tool': 0.009900206466618705,\n",
       " 'PayPoint': 0.009900206466618705,\n",
       " 'Check': 0.009900206466618705,\n",
       " 'Vision': 0.01980041293323741,\n",
       " 'Account': 0.009900206466618705,\n",
       " 'Analysis': 0.01980041293323741,\n",
       " 'AAS': 0.009900206466618705,\n",
       " 'CoStar': 0.009900206466618705,\n",
       " 'Member': 0.01980041293323741,\n",
       " 'Provider': 0.01980041293323741,\n",
       " 'Services': 0.03960082586647482,\n",
       " '102015': 0.009900206466618705,\n",
       " 'Certified': 0.029700619399856115,\n",
       " '8': 0.009900206466618705,\n",
       " 'step': 0.009900206466618705,\n",
       " 'Ulysses': 0.009900206466618705,\n",
       " 'Service': 0.009900206466618705,\n",
       " 'Mentor': 0.01980041293323741,\n",
       " 'program': 0.009900206466618705,\n",
       " 'MACESS': 0.009900206466618705,\n",
       " 'MEDCo': 0.009900206466618705,\n",
       " 'CareAdvance': 0.009900206466618705,\n",
       " 'Maintenance': 0.009900206466618705,\n",
       " 'Organization': 0.009900206466618705,\n",
       " 'Sales': 0.03960082586647482,\n",
       " 'customer': 0.029700619399856115,\n",
       " 'service': 0.01980041293323741,\n",
       " 'used': 0.01980041293323741,\n",
       " 'build': 0.009900206466618705,\n",
       " 'maintain': 0.009900206466618705,\n",
       " 'exceptional': 0.009900206466618705,\n",
       " 'relationships': 0.009900206466618705,\n",
       " 'Subscribers': 0.009900206466618705,\n",
       " 'Providers': 0.009900206466618705,\n",
       " 'Small': 0.009900206466618705,\n",
       " 'Groups': 0.01980041293323741,\n",
       " 'Large': 0.009900206466618705,\n",
       " 'MDCH': 0.009900206466618705,\n",
       " 'NCQA': 0.009900206466618705,\n",
       " 'MTMNMIS': 0.009900206466618705,\n",
       " 'Department': 0.009900206466618705,\n",
       " 'Human': 0.009900206466618705,\n",
       " 'Medicaid': 0.009900206466618705,\n",
       " 'Insurance': 0.01980041293323741,\n",
       " 'Marketplace': 0.009900206466618705,\n",
       " 'Box': 0.01980041293323741,\n",
       " 'Associate': 0.03960082586647482,\n",
       " '012014': 0.009900206466618705,\n",
       " '072015': 0.009900206466618705,\n",
       " 'Michigan': 0.009900206466618705,\n",
       " 'Lottery': 0.009900206466618705,\n",
       " 'Ability': 0.009900206466618705,\n",
       " 'multitask': 0.009900206466618705,\n",
       " 'provide': 0.009900206466618705,\n",
       " 'top': 0.009900206466618705,\n",
       " 'level': 0.01980041293323741,\n",
       " 'salesmanship': 0.009900206466618705,\n",
       " 'Directly': 0.009900206466618705,\n",
       " 'handled': 0.009900206466618705,\n",
       " 'complaints': 0.009900206466618705,\n",
       " 'provided': 0.009900206466618705,\n",
       " 'sufficient': 0.009900206466618705,\n",
       " 'solution': 0.009900206466618705,\n",
       " 'Worked': 0.009900206466618705,\n",
       " 'three': 0.009900206466618705,\n",
       " 'locations': 0.009900206466618705,\n",
       " 'Meadowbrook': 0.009900206466618705,\n",
       " 'Hall': 0.009900206466618705,\n",
       " 'DTE': 0.009900206466618705,\n",
       " 'The': 0.009900206466618705,\n",
       " 'Palace': 0.009900206466618705,\n",
       " 'Auburn': 0.009900206466618705,\n",
       " 'Hills': 0.009900206466618705,\n",
       " 'Head': 0.009900206466618705,\n",
       " '052013': 0.009900206466618705,\n",
       " '122015': 0.009900206466618705,\n",
       " 'small': 0.009900206466618705,\n",
       " 'business': 0.009900206466618705,\n",
       " 'payroll': 0.01980041293323741,\n",
       " 'accounts': 0.03960082586647482,\n",
       " 'receivable': 0.01980041293323741,\n",
       " 'payable': 0.01980041293323741,\n",
       " 'leadership': 0.01980041293323741,\n",
       " 'Increased': 0.01980041293323741,\n",
       " 'sales': 0.01980041293323741,\n",
       " '10': 0.009900206466618705,\n",
       " '2013': 0.009900206466618705,\n",
       " '2015': 0.009900206466618705,\n",
       " 'Understanding': 0.009900206466618705,\n",
       " 'hospitalhealth': 0.009900206466618705,\n",
       " 'care': 0.009900206466618705,\n",
       " 'practices': 0.009900206466618705,\n",
       " 'OSHA': 0.009900206466618705,\n",
       " 'Programs': 0.009900206466618705,\n",
       " 'medical': 0.009900206466618705,\n",
       " 'field': 0.009900206466618705,\n",
       " 'pitches': 0.009900206466618705,\n",
       " 'marketing': 0.01980041293323741,\n",
       " 'strategies': 0.01980041293323741,\n",
       " 'simple': 0.009900206466618705,\n",
       " 'commissions': 0.009900206466618705,\n",
       " '062009': 0.009900206466618705,\n",
       " '032010': 0.009900206466618705,\n",
       " 'Assisted': 0.009900206466618705,\n",
       " 'air': 0.009900206466618705,\n",
       " 'waves': 0.009900206466618705,\n",
       " 'satellite': 0.009900206466618705,\n",
       " 'radio': 0.01980041293323741,\n",
       " 'conducted': 0.009900206466618705,\n",
       " 'pattern': 0.009900206466618705,\n",
       " 'known': 0.009900206466618705,\n",
       " 'unknown': 0.009900206466618705,\n",
       " 'threats': 0.009900206466618705,\n",
       " 'Development': 0.009900206466618705,\n",
       " 'exploration': 0.009900206466618705,\n",
       " 'SIGNIT': 0.01980041293323741,\n",
       " 'targets': 0.009900206466618705,\n",
       " 'Intelligence': 0.009900206466618705,\n",
       " 'reports': 0.009900206466618705,\n",
       " 'product': 0.009900206466618705,\n",
       " 'preparation': 0.009900206466618705,\n",
       " 'support': 0.009900206466618705,\n",
       " 'Military': 0.009900206466618705,\n",
       " 'Tactical': 0.009900206466618705,\n",
       " 'Strategic': 0.01980041293323741,\n",
       " 'include': 0.009900206466618705,\n",
       " 'COMINT': 0.009900206466618705,\n",
       " 'ELINT': 0.009900206466618705,\n",
       " 'OSINT': 0.009900206466618705,\n",
       " 'ALLsource': 0.009900206466618705,\n",
       " 'Reporting': 0.009900206466618705,\n",
       " 'Gained': 0.009900206466618705,\n",
       " 'reporting': 0.01980041293323741,\n",
       " 'Captains': 0.009900206466618705,\n",
       " 'Squad': 0.009900206466618705,\n",
       " 'leader': 0.009900206466618705,\n",
       " '14': 0.009900206466618705,\n",
       " 'entry': 0.009900206466618705,\n",
       " 'soldiers': 0.009900206466618705,\n",
       " 'Developed': 0.009900206466618705,\n",
       " 'improved': 0.009900206466618705,\n",
       " 'IIRs': 0.009900206466618705,\n",
       " 'PIRs': 0.009900206466618705,\n",
       " 'capabilities': 0.009900206466618705,\n",
       " 'Due': 0.009900206466618705,\n",
       " 'injury': 0.009900206466618705,\n",
       " 'unable': 0.009900206466618705,\n",
       " 'complete': 0.009900206466618705,\n",
       " 'given': 0.009900206466618705,\n",
       " 'contract': 0.009900206466618705,\n",
       " 'length': 0.009900206466618705,\n",
       " 'Aquatics': 0.009900206466618705,\n",
       " '102007': 0.009900206466618705,\n",
       " '042009': 0.009900206466618705,\n",
       " 'YMCA': 0.01980041293323741,\n",
       " 'Certification': 0.10890227113280576,\n",
       " 'Red': 0.01980041293323741,\n",
       " 'CrossEllis': 0.01980041293323741,\n",
       " 'Lifeguard': 0.01980041293323741,\n",
       " 'Water': 0.01980041293323741,\n",
       " 'Aerobics': 0.01980041293323741,\n",
       " 'CPRFirst': 0.01980041293323741,\n",
       " 'AidAED': 0.01980041293323741,\n",
       " 'USA': 0.01980041293323741,\n",
       " 'Swim': 0.05940123879971223,\n",
       " 'Coach': 0.029700619399856115,\n",
       " 'Instructor': 0.029700619399856115,\n",
       " 'North': 0.01980041293323741,\n",
       " 'Oakland': 0.03960082586647482,\n",
       " 'Waves': 0.01980041293323741,\n",
       " 'Team': 0.01980041293323741,\n",
       " 'membership': 0.01980041293323741,\n",
       " '47': 0.01980041293323741,\n",
       " 'Lead': 0.01980041293323741,\n",
       " 'swim': 0.01980041293323741,\n",
       " 'instructors': 0.01980041293323741,\n",
       " 'lifeguards': 0.01980041293323741,\n",
       " 'monthly': 0.01980041293323741,\n",
       " 'CPRAEDFirst': 0.01980041293323741,\n",
       " 'Aid': 0.029700619399856115,\n",
       " 'Training': 0.049501032333093525,\n",
       " 'Education': 0.009900206466618705,\n",
       " 'Bachelor': 0.009900206466618705,\n",
       " 'Science': 0.009900206466618705,\n",
       " '2008': 0.009900206466618705,\n",
       " 'University': 0.01980041293323741,\n",
       " 'Fort': 0.009900206466618705,\n",
       " 'Leonard': 0.009900206466618705,\n",
       " 'Wood': 0.009900206466618705,\n",
       " 'MO': 0.009900206466618705,\n",
       " '2009Advanced': 0.009900206466618705,\n",
       " 'Individual': 0.009900206466618705,\n",
       " 'Goodfellow': 0.009900206466618705,\n",
       " 'AFB': 0.009900206466618705,\n",
       " 'TX': 0.009900206466618705,\n",
       " '2010': 0.009900206466618705,\n",
       " '2016': 0.03960082586647482,\n",
       " 'Cochise': 0.009900206466618705,\n",
       " 'College': 0.009900206466618705,\n",
       " 'Masters': 0.009900206466618705,\n",
       " 'Business': 0.009900206466618705,\n",
       " 'Administration': 0.009900206466618705,\n",
       " 'Network': 0.01980041293323741,\n",
       " 'Plus': 0.01980041293323741,\n",
       " 'Expected': 0.009900206466618705,\n",
       " 'Security': 0.009900206466618705,\n",
       " 'Certifications': 0.009900206466618705,\n",
       " 'CertificationIncreased': 0.009900206466618705,\n",
       " 'Primary': 0.009900206466618705,\n",
       " 'Databases': 0.01980041293323741,\n",
       " 'Software': 0.009900206466618705,\n",
       " 'Used': 0.009900206466618705,\n",
       " 'Skills': 0.009900206466618705,\n",
       " 'CPR': 0.009900206466618705,\n",
       " 'First': 0.009900206466618705}"
      ]
     },
     "execution_count": 47,
     "metadata": {},
     "output_type": "execute_result"
    }
   ],
   "source": [
    "import math\n",
    "#compute term frequency\n",
    "term_frequency = {}\n",
    "bow_len = len(bow)\n",
    "totalworddict = sum([Counter(x) for x in worddict], Counter())\n",
    "word_doc_freq = compute_doc_frequency(worddict, bow)\n",
    "\n",
    "# tfidf of words for document index 0\n",
    "tfidf_i = compute_term_frequency(worddict[0], bow[0], word_doc_freq)\n",
    "tfidf_i"
   ]
  },
  {
   "cell_type": "code",
   "execution_count": 50,
   "id": "6ad954ea-62be-468b-be9b-a15405b9a1de",
   "metadata": {
    "collapsed": true,
    "jupyter": {
     "outputs_hidden": true
    },
    "tags": []
   },
   "outputs": [
    {
     "data": {
      "text/plain": [
       "{'ASSISTANT': 0.009900206466618705,\n",
       " 'BANKING': 0.009900206466618705,\n",
       " 'CENTER': 0.009900206466618705,\n",
       " 'MANAGER': 0.009900206466618705,\n",
       " 'I': 0.01980041293323741,\n",
       " 'Summary': 0.009900206466618705,\n",
       " 'Experienced': 0.03960082586647482,\n",
       " 'Signals': 0.009900206466618705,\n",
       " 'analysis': 0.09900206466618705,\n",
       " 'GeoSpatial': 0.009900206466618705,\n",
       " 'Electronic': 0.009900206466618705,\n",
       " 'Warfare': 0.009900206466618705,\n",
       " 'Networks': 0.029700619399856115,\n",
       " 'Threat': 0.009900206466618705,\n",
       " 'DNR': 0.009900206466618705,\n",
       " 'Limited': 0.009900206466618705,\n",
       " 'knowledge': 0.049501032333093525,\n",
       " 'performing': 0.009900206466618705,\n",
       " 'DNI': 0.009900206466618705,\n",
       " 'Basic': 0.029700619399856115,\n",
       " 'computer': 0.009900206466618705,\n",
       " 'network': 0.009900206466618705,\n",
       " 'applications': 0.01980041293323741,\n",
       " 'World': 0.009900206466618705,\n",
       " 'Wide': 0.01980041293323741,\n",
       " 'Web': 0.009900206466618705,\n",
       " 'printers': 0.009900206466618705,\n",
       " 'email': 0.009900206466618705,\n",
       " 'instant': 0.009900206466618705,\n",
       " 'messaging': 0.009900206466618705,\n",
       " 'Knowledge': 0.01980041293323741,\n",
       " 'Local': 0.009900206466618705,\n",
       " 'Area': 0.01980041293323741,\n",
       " 'well': 0.01980041293323741,\n",
       " 'Expert': 0.01980041293323741,\n",
       " 'working': 0.029700619399856115,\n",
       " 'experience': 0.009900206466618705,\n",
       " 'Google': 0.01980041293323741,\n",
       " 'Earth': 0.01980041293323741,\n",
       " 'Microsoft': 0.029700619399856115,\n",
       " 'Office': 0.06930144526633093,\n",
       " 'Suite': 0.029700619399856115,\n",
       " 'various': 0.009900206466618705,\n",
       " 'SIGINT': 0.029700619399856115,\n",
       " 'Geospatial': 0.009900206466618705,\n",
       " 'AnalystSignal': 0.009900206466618705,\n",
       " 'AnalysisSIGDEV': 0.009900206466618705,\n",
       " 'collection': 0.01980041293323741,\n",
       " 'identification': 0.009900206466618705,\n",
       " 'processing': 0.009900206466618705,\n",
       " 'tools': 0.009900206466618705,\n",
       " 'databases': 0.01980041293323741,\n",
       " 'analytic': 0.009900206466618705,\n",
       " 'research': 0.029700619399856115,\n",
       " 'development': 0.029700619399856115,\n",
       " 'techniques': 0.009900206466618705,\n",
       " 'along': 0.009900206466618705,\n",
       " 'management': 0.029700619399856115,\n",
       " 'products': 0.009900206466618705,\n",
       " 'Excellent': 0.009900206466618705,\n",
       " 'oral': 0.009900206466618705,\n",
       " 'written': 0.009900206466618705,\n",
       " 'communication': 0.009900206466618705,\n",
       " 'skills': 0.049501032333093525,\n",
       " 'regular': 0.009900206466618705,\n",
       " 'displays': 0.009900206466618705,\n",
       " 'high': 0.009900206466618705,\n",
       " 'levels': 0.009900206466618705,\n",
       " 'professionalism': 0.009900206466618705,\n",
       " 'problemsolving': 0.029700619399856115,\n",
       " 'Bloomberg': 0.03960082586647482,\n",
       " 'certified': 0.009900206466618705,\n",
       " '2014': 0.009900206466618705,\n",
       " 'Highly': 0.009900206466618705,\n",
       " 'adaptive': 0.009900206466618705,\n",
       " 'changing': 0.009900206466618705,\n",
       " 'environments': 0.009900206466618705,\n",
       " 'selfstarter': 0.009900206466618705,\n",
       " 'people': 0.009900206466618705,\n",
       " 'motivator': 0.009900206466618705,\n",
       " 'broad': 0.009900206466618705,\n",
       " 'set': 0.009900206466618705,\n",
       " 'analytical': 0.009900206466618705,\n",
       " 'technical': 0.009900206466618705,\n",
       " 'Proficient': 0.03960082586647482,\n",
       " 'Governmental': 0.01980041293323741,\n",
       " 'Health': 0.029700619399856115,\n",
       " 'Care': 0.01980041293323741,\n",
       " 'programs': 0.029700619399856115,\n",
       " 'regulations': 0.01980041293323741,\n",
       " 'eg': 0.009900206466618705,\n",
       " 'Medicare': 0.01980041293323741,\n",
       " 'Advantage': 0.009900206466618705,\n",
       " 'Highlights': 0.009900206466618705,\n",
       " 'RTRG': 0.009900206466618705,\n",
       " 'suite': 0.009900206466618705,\n",
       " 'Belleview': 0.009900206466618705,\n",
       " 'Metrics': 0.009900206466618705,\n",
       " 'Anchory': 0.009900206466618705,\n",
       " 'Globalreach': 0.009900206466618705,\n",
       " 'SEDB': 0.009900206466618705,\n",
       " 'SIGNAV': 0.009900206466618705,\n",
       " 'NSAnet': 0.009900206466618705,\n",
       " 'Target': 0.009900206466618705,\n",
       " 'Profiler': 0.009900206466618705,\n",
       " 'MS': 0.01980041293323741,\n",
       " 'ArcMap': 0.009900206466618705,\n",
       " 'ArcGIS': 0.009900206466618705,\n",
       " 'Analyst': 0.029700619399856115,\n",
       " 'Notebook': 0.009900206466618705,\n",
       " 'Dishfire': 0.009900206466618705,\n",
       " 'JWICS': 0.009900206466618705,\n",
       " 'Archtics': 0.01980041293323741,\n",
       " 'Ticketmaster': 0.01980041293323741,\n",
       " 'MarX': 0.01980041293323741,\n",
       " 'Continuum': 0.01980041293323741,\n",
       " 'FACETS': 0.01980041293323741,\n",
       " 'MEDCO': 0.009900206466618705,\n",
       " 'Med': 0.01980041293323741,\n",
       " 'Informatics': 0.01980041293323741,\n",
       " 'Advance': 0.009900206466618705,\n",
       " 'Verint': 0.01980041293323741,\n",
       " 'Cisco': 0.009900206466618705,\n",
       " 'CITRIX': 0.029700619399856115,\n",
       " 'Experience': 0.009900206466618705,\n",
       " 'Company': 0.05940123879971223,\n",
       " 'Name': 0.05940123879971223,\n",
       " 'City': 0.06930144526633093,\n",
       " 'State': 0.07920165173294964,\n",
       " 'Assistant': 0.009900206466618705,\n",
       " 'Banking': 0.029700619399856115,\n",
       " 'Center': 0.029700619399856115,\n",
       " 'Manager': 0.009900206466618705,\n",
       " '032016': 0.01980041293323741,\n",
       " 'Current': 0.009900206466618705,\n",
       " 'Knowledgeable': 0.01980041293323741,\n",
       " 'aspects': 0.01980041293323741,\n",
       " 'running': 0.01980041293323741,\n",
       " 'Retail': 0.029700619399856115,\n",
       " 'Building': 0.009900206466618705,\n",
       " 'Operations': 0.009900206466618705,\n",
       " 'Audit': 0.009900206466618705,\n",
       " 'policies': 0.029700619399856115,\n",
       " 'procedures': 0.009900206466618705,\n",
       " 'general': 0.03960082586647482,\n",
       " 'TEAM': 0.01980041293323741,\n",
       " 'building': 0.01980041293323741,\n",
       " 'Comerica': 0.009900206466618705,\n",
       " 'Securities': 0.01980041293323741,\n",
       " 'Financial': 0.01980041293323741,\n",
       " 'Products': 0.009900206466618705,\n",
       " 'Preparation': 0.009900206466618705,\n",
       " 'internal': 0.009900206466618705,\n",
       " 'instructions': 0.009900206466618705,\n",
       " 'operating': 0.009900206466618705,\n",
       " 'Standard': 0.009900206466618705,\n",
       " 'Operating': 0.009900206466618705,\n",
       " 'Procedures': 0.009900206466618705,\n",
       " 'SOPs': 0.009900206466618705,\n",
       " 'guidelines': 0.009900206466618705,\n",
       " 'Skilled': 0.01980041293323741,\n",
       " 'assessing': 0.009900206466618705,\n",
       " 'Fraudulent': 0.009900206466618705,\n",
       " 'Issues': 0.009900206466618705,\n",
       " 'plans': 0.009900206466618705,\n",
       " 'conducts': 0.009900206466618705,\n",
       " 'investigations': 0.01980041293323741,\n",
       " 'designed': 0.009900206466618705,\n",
       " 'achieve': 0.009900206466618705,\n",
       " 'casualty': 0.009900206466618705,\n",
       " 'resolution': 0.009900206466618705,\n",
       " 'Analyzed': 0.009900206466618705,\n",
       " 'inspections': 0.009900206466618705,\n",
       " 'identify': 0.01980041293323741,\n",
       " 'problem': 0.009900206466618705,\n",
       " 'areas': 0.009900206466618705,\n",
       " 'within': 0.009900206466618705,\n",
       " 'retail': 0.009900206466618705,\n",
       " 'financial': 0.009900206466618705,\n",
       " 'Mathematical': 0.01980041293323741,\n",
       " 'abilities': 0.01980041293323741,\n",
       " 'perform': 0.01980041293323741,\n",
       " 'calculations': 0.01980041293323741,\n",
       " 'including': 0.01980041293323741,\n",
       " 'application': 0.01980041293323741,\n",
       " 'discounts': 0.01980041293323741,\n",
       " 'interest': 0.01980041293323741,\n",
       " 'proportions': 0.01980041293323741,\n",
       " 'mortgage': 0.009900206466618705,\n",
       " 'terms': 0.009900206466618705,\n",
       " 'percentages': 0.01980041293323741,\n",
       " 'following': 0.03960082586647482,\n",
       " 'systems': 0.029700619399856115,\n",
       " 'CISCO': 0.029700619399856115,\n",
       " 'HOGAN': 0.01980041293323741,\n",
       " 'Trio': 0.009900206466618705,\n",
       " 'Elan': 0.009900206466618705,\n",
       " 'Mortgage': 0.009900206466618705,\n",
       " 'Referral': 0.009900206466618705,\n",
       " 'Tool': 0.009900206466618705,\n",
       " 'PayPoint': 0.009900206466618705,\n",
       " 'Check': 0.009900206466618705,\n",
       " 'Vision': 0.01980041293323741,\n",
       " 'Account': 0.009900206466618705,\n",
       " 'Analysis': 0.01980041293323741,\n",
       " 'AAS': 0.009900206466618705,\n",
       " 'CoStar': 0.009900206466618705,\n",
       " 'Member': 0.01980041293323741,\n",
       " 'Provider': 0.01980041293323741,\n",
       " 'Services': 0.03960082586647482,\n",
       " '102015': 0.009900206466618705,\n",
       " 'Certified': 0.029700619399856115,\n",
       " '8': 0.009900206466618705,\n",
       " 'step': 0.009900206466618705,\n",
       " 'Ulysses': 0.009900206466618705,\n",
       " 'Service': 0.009900206466618705,\n",
       " 'Mentor': 0.01980041293323741,\n",
       " 'program': 0.009900206466618705,\n",
       " 'MACESS': 0.009900206466618705,\n",
       " 'MEDCo': 0.009900206466618705,\n",
       " 'CareAdvance': 0.009900206466618705,\n",
       " 'Maintenance': 0.009900206466618705,\n",
       " 'Organization': 0.009900206466618705,\n",
       " 'Sales': 0.03960082586647482,\n",
       " 'customer': 0.029700619399856115,\n",
       " 'service': 0.01980041293323741,\n",
       " 'used': 0.01980041293323741,\n",
       " 'build': 0.009900206466618705,\n",
       " 'maintain': 0.009900206466618705,\n",
       " 'exceptional': 0.009900206466618705,\n",
       " 'relationships': 0.009900206466618705,\n",
       " 'Subscribers': 0.009900206466618705,\n",
       " 'Providers': 0.009900206466618705,\n",
       " 'Small': 0.009900206466618705,\n",
       " 'Groups': 0.01980041293323741,\n",
       " 'Large': 0.009900206466618705,\n",
       " 'MDCH': 0.009900206466618705,\n",
       " 'NCQA': 0.009900206466618705,\n",
       " 'MTMNMIS': 0.009900206466618705,\n",
       " 'Department': 0.009900206466618705,\n",
       " 'Human': 0.009900206466618705,\n",
       " 'Medicaid': 0.009900206466618705,\n",
       " 'Insurance': 0.01980041293323741,\n",
       " 'Marketplace': 0.009900206466618705,\n",
       " 'Box': 0.01980041293323741,\n",
       " 'Associate': 0.03960082586647482,\n",
       " '012014': 0.009900206466618705,\n",
       " '072015': 0.009900206466618705,\n",
       " 'Michigan': 0.009900206466618705,\n",
       " 'Lottery': 0.009900206466618705,\n",
       " 'Ability': 0.009900206466618705,\n",
       " 'multitask': 0.009900206466618705,\n",
       " 'provide': 0.009900206466618705,\n",
       " 'top': 0.009900206466618705,\n",
       " 'level': 0.01980041293323741,\n",
       " 'salesmanship': 0.009900206466618705,\n",
       " 'Directly': 0.009900206466618705,\n",
       " 'handled': 0.009900206466618705,\n",
       " 'complaints': 0.009900206466618705,\n",
       " 'provided': 0.009900206466618705,\n",
       " 'sufficient': 0.009900206466618705,\n",
       " 'solution': 0.009900206466618705,\n",
       " 'Worked': 0.009900206466618705,\n",
       " 'three': 0.009900206466618705,\n",
       " 'locations': 0.009900206466618705,\n",
       " 'Meadowbrook': 0.009900206466618705,\n",
       " 'Hall': 0.009900206466618705,\n",
       " 'DTE': 0.009900206466618705,\n",
       " 'The': 0.009900206466618705,\n",
       " 'Palace': 0.009900206466618705,\n",
       " 'Auburn': 0.009900206466618705,\n",
       " 'Hills': 0.009900206466618705,\n",
       " 'Head': 0.009900206466618705,\n",
       " '052013': 0.009900206466618705,\n",
       " '122015': 0.009900206466618705,\n",
       " 'small': 0.009900206466618705,\n",
       " 'business': 0.009900206466618705,\n",
       " 'payroll': 0.01980041293323741,\n",
       " 'accounts': 0.03960082586647482,\n",
       " 'receivable': 0.01980041293323741,\n",
       " 'payable': 0.01980041293323741,\n",
       " 'leadership': 0.01980041293323741,\n",
       " 'Increased': 0.01980041293323741,\n",
       " 'sales': 0.01980041293323741,\n",
       " '10': 0.009900206466618705,\n",
       " '2013': 0.009900206466618705,\n",
       " '2015': 0.009900206466618705,\n",
       " 'Understanding': 0.009900206466618705,\n",
       " 'hospitalhealth': 0.009900206466618705,\n",
       " 'care': 0.009900206466618705,\n",
       " 'practices': 0.009900206466618705,\n",
       " 'OSHA': 0.009900206466618705,\n",
       " 'Programs': 0.009900206466618705,\n",
       " 'medical': 0.009900206466618705,\n",
       " 'field': 0.009900206466618705,\n",
       " 'pitches': 0.009900206466618705,\n",
       " 'marketing': 0.01980041293323741,\n",
       " 'strategies': 0.01980041293323741,\n",
       " 'simple': 0.009900206466618705,\n",
       " 'commissions': 0.009900206466618705,\n",
       " '062009': 0.009900206466618705,\n",
       " '032010': 0.009900206466618705,\n",
       " 'Assisted': 0.009900206466618705,\n",
       " 'air': 0.009900206466618705,\n",
       " 'waves': 0.009900206466618705,\n",
       " 'satellite': 0.009900206466618705,\n",
       " 'radio': 0.01980041293323741,\n",
       " 'conducted': 0.009900206466618705,\n",
       " 'pattern': 0.009900206466618705,\n",
       " 'known': 0.009900206466618705,\n",
       " 'unknown': 0.009900206466618705,\n",
       " 'threats': 0.009900206466618705,\n",
       " 'Development': 0.009900206466618705,\n",
       " 'exploration': 0.009900206466618705,\n",
       " 'SIGNIT': 0.01980041293323741,\n",
       " 'targets': 0.009900206466618705,\n",
       " 'Intelligence': 0.009900206466618705,\n",
       " 'reports': 0.009900206466618705,\n",
       " 'product': 0.009900206466618705,\n",
       " 'preparation': 0.009900206466618705,\n",
       " 'support': 0.009900206466618705,\n",
       " 'Military': 0.009900206466618705,\n",
       " 'Tactical': 0.009900206466618705,\n",
       " 'Strategic': 0.01980041293323741,\n",
       " 'include': 0.009900206466618705,\n",
       " 'COMINT': 0.009900206466618705,\n",
       " 'ELINT': 0.009900206466618705,\n",
       " 'OSINT': 0.009900206466618705,\n",
       " 'ALLsource': 0.009900206466618705,\n",
       " 'Reporting': 0.009900206466618705,\n",
       " 'Gained': 0.009900206466618705,\n",
       " 'reporting': 0.01980041293323741,\n",
       " 'Captains': 0.009900206466618705,\n",
       " 'Squad': 0.009900206466618705,\n",
       " 'leader': 0.009900206466618705,\n",
       " '14': 0.009900206466618705,\n",
       " 'entry': 0.009900206466618705,\n",
       " 'soldiers': 0.009900206466618705,\n",
       " 'Developed': 0.009900206466618705,\n",
       " 'improved': 0.009900206466618705,\n",
       " 'IIRs': 0.009900206466618705,\n",
       " 'PIRs': 0.009900206466618705,\n",
       " 'capabilities': 0.009900206466618705,\n",
       " 'Due': 0.009900206466618705,\n",
       " 'injury': 0.009900206466618705,\n",
       " 'unable': 0.009900206466618705,\n",
       " 'complete': 0.009900206466618705,\n",
       " 'given': 0.009900206466618705,\n",
       " 'contract': 0.009900206466618705,\n",
       " 'length': 0.009900206466618705,\n",
       " 'Aquatics': 0.009900206466618705,\n",
       " '102007': 0.009900206466618705,\n",
       " '042009': 0.009900206466618705,\n",
       " 'YMCA': 0.01980041293323741,\n",
       " 'Certification': 0.10890227113280576,\n",
       " 'Red': 0.01980041293323741,\n",
       " 'CrossEllis': 0.01980041293323741,\n",
       " 'Lifeguard': 0.01980041293323741,\n",
       " 'Water': 0.01980041293323741,\n",
       " 'Aerobics': 0.01980041293323741,\n",
       " 'CPRFirst': 0.01980041293323741,\n",
       " 'AidAED': 0.01980041293323741,\n",
       " 'USA': 0.01980041293323741,\n",
       " 'Swim': 0.05940123879971223,\n",
       " 'Coach': 0.029700619399856115,\n",
       " 'Instructor': 0.029700619399856115,\n",
       " 'North': 0.01980041293323741,\n",
       " 'Oakland': 0.03960082586647482,\n",
       " 'Waves': 0.01980041293323741,\n",
       " 'Team': 0.01980041293323741,\n",
       " 'membership': 0.01980041293323741,\n",
       " '47': 0.01980041293323741,\n",
       " 'Lead': 0.01980041293323741,\n",
       " 'swim': 0.01980041293323741,\n",
       " 'instructors': 0.01980041293323741,\n",
       " 'lifeguards': 0.01980041293323741,\n",
       " 'monthly': 0.01980041293323741,\n",
       " 'CPRAEDFirst': 0.01980041293323741,\n",
       " 'Aid': 0.029700619399856115,\n",
       " 'Training': 0.049501032333093525,\n",
       " 'Education': 0.009900206466618705,\n",
       " 'Bachelor': 0.009900206466618705,\n",
       " 'Science': 0.009900206466618705,\n",
       " '2008': 0.009900206466618705,\n",
       " 'University': 0.01980041293323741,\n",
       " 'Fort': 0.009900206466618705,\n",
       " 'Leonard': 0.009900206466618705,\n",
       " 'Wood': 0.009900206466618705,\n",
       " 'MO': 0.009900206466618705,\n",
       " '2009Advanced': 0.009900206466618705,\n",
       " 'Individual': 0.009900206466618705,\n",
       " 'Goodfellow': 0.009900206466618705,\n",
       " 'AFB': 0.009900206466618705,\n",
       " 'TX': 0.009900206466618705,\n",
       " '2010': 0.009900206466618705,\n",
       " '2016': 0.03960082586647482,\n",
       " 'Cochise': 0.009900206466618705,\n",
       " 'College': 0.009900206466618705,\n",
       " 'Masters': 0.009900206466618705,\n",
       " 'Business': 0.009900206466618705,\n",
       " 'Administration': 0.009900206466618705,\n",
       " 'Network': 0.01980041293323741,\n",
       " 'Plus': 0.01980041293323741,\n",
       " 'Expected': 0.009900206466618705,\n",
       " 'Security': 0.009900206466618705,\n",
       " 'Certifications': 0.009900206466618705,\n",
       " 'CertificationIncreased': 0.009900206466618705,\n",
       " 'Primary': 0.009900206466618705,\n",
       " 'Databases': 0.01980041293323741,\n",
       " 'Software': 0.009900206466618705,\n",
       " 'Used': 0.009900206466618705,\n",
       " 'Skills': 0.009900206466618705,\n",
       " 'CPR': 0.009900206466618705,\n",
       " 'First': 0.009900206466618705}"
      ]
     },
     "execution_count": 50,
     "metadata": {},
     "output_type": "execute_result"
    }
   ],
   "source": [
    "tfidf_i"
   ]
  },
  {
   "cell_type": "code",
   "execution_count": 14,
   "id": "b0563b60-2cb9-4e30-a336-1de24fe89e6e",
   "metadata": {
    "collapsed": true,
    "jupyter": {
     "outputs_hidden": true
    },
    "tags": []
   },
   "outputs": [
    {
     "name": "stdout",
     "output_type": "stream",
     "text": [
      "/bin/bash: /home/arielg/anaconda3/envs/aistack/lib/libtinfo.so.6: no version information available (required by /bin/bash)\n",
      "Requirement already satisfied: plotly[all] in /home/arielg/anaconda3/envs/aistack/lib/python3.11/site-packages (5.14.1)\n",
      "\u001b[33mWARNING: plotly 5.14.1 does not provide the extra 'all'\u001b[0m\u001b[33m\n",
      "\u001b[0mRequirement already satisfied: tenacity>=6.2.0 in /home/arielg/anaconda3/envs/aistack/lib/python3.11/site-packages (from plotly[all]) (8.2.2)\n",
      "Requirement already satisfied: packaging in /home/arielg/anaconda3/envs/aistack/lib/python3.11/site-packages (from plotly[all]) (23.1)\n",
      "/bin/bash: /home/arielg/anaconda3/envs/aistack/lib/libtinfo.so.6: no version information available (required by /bin/bash)\n",
      "Requirement already satisfied: jupyter-dash in /home/arielg/anaconda3/envs/aistack/lib/python3.11/site-packages (0.4.2)\n",
      "Requirement already satisfied: dash in /home/arielg/anaconda3/envs/aistack/lib/python3.11/site-packages (from jupyter-dash) (2.10.0)\n",
      "Requirement already satisfied: requests in /home/arielg/anaconda3/envs/aistack/lib/python3.11/site-packages (from jupyter-dash) (2.28.2)\n",
      "Requirement already satisfied: flask in /home/arielg/anaconda3/envs/aistack/lib/python3.11/site-packages (from jupyter-dash) (2.2.3)\n",
      "Requirement already satisfied: retrying in /home/arielg/anaconda3/envs/aistack/lib/python3.11/site-packages (from jupyter-dash) (1.3.4)\n",
      "Requirement already satisfied: ipython in /home/arielg/anaconda3/envs/aistack/lib/python3.11/site-packages (from jupyter-dash) (8.13.2)\n",
      "Requirement already satisfied: ipykernel in /home/arielg/anaconda3/envs/aistack/lib/python3.11/site-packages (from jupyter-dash) (6.23.0)\n",
      "Requirement already satisfied: ansi2html in /home/arielg/anaconda3/envs/aistack/lib/python3.11/site-packages (from jupyter-dash) (1.8.0)\n",
      "Requirement already satisfied: nest-asyncio in /home/arielg/anaconda3/envs/aistack/lib/python3.11/site-packages (from jupyter-dash) (1.5.6)\n",
      "Requirement already satisfied: Werkzeug<=2.2.3 in /home/arielg/anaconda3/envs/aistack/lib/python3.11/site-packages (from dash->jupyter-dash) (2.2.3)\n",
      "Requirement already satisfied: plotly>=5.0.0 in /home/arielg/anaconda3/envs/aistack/lib/python3.11/site-packages (from dash->jupyter-dash) (5.14.1)\n",
      "Requirement already satisfied: dash-html-components==2.0.0 in /home/arielg/anaconda3/envs/aistack/lib/python3.11/site-packages (from dash->jupyter-dash) (2.0.0)\n",
      "Requirement already satisfied: dash-core-components==2.0.0 in /home/arielg/anaconda3/envs/aistack/lib/python3.11/site-packages (from dash->jupyter-dash) (2.0.0)\n",
      "Requirement already satisfied: dash-table==5.0.0 in /home/arielg/anaconda3/envs/aistack/lib/python3.11/site-packages (from dash->jupyter-dash) (5.0.0)\n",
      "Requirement already satisfied: Jinja2>=3.0 in /home/arielg/anaconda3/envs/aistack/lib/python3.11/site-packages (from flask->jupyter-dash) (3.1.2)\n",
      "Requirement already satisfied: itsdangerous>=2.0 in /home/arielg/anaconda3/envs/aistack/lib/python3.11/site-packages (from flask->jupyter-dash) (2.1.2)\n",
      "Requirement already satisfied: click>=8.0 in /home/arielg/anaconda3/envs/aistack/lib/python3.11/site-packages (from flask->jupyter-dash) (8.1.3)\n",
      "Requirement already satisfied: comm>=0.1.1 in /home/arielg/anaconda3/envs/aistack/lib/python3.11/site-packages (from ipykernel->jupyter-dash) (0.1.3)\n",
      "Requirement already satisfied: debugpy>=1.6.5 in /home/arielg/anaconda3/envs/aistack/lib/python3.11/site-packages (from ipykernel->jupyter-dash) (1.6.7)\n",
      "Requirement already satisfied: jupyter-client>=6.1.12 in /home/arielg/anaconda3/envs/aistack/lib/python3.11/site-packages (from ipykernel->jupyter-dash) (8.2.0)\n",
      "Requirement already satisfied: jupyter-core!=5.0.*,>=4.12 in /home/arielg/anaconda3/envs/aistack/lib/python3.11/site-packages (from ipykernel->jupyter-dash) (5.3.0)\n",
      "Requirement already satisfied: matplotlib-inline>=0.1 in /home/arielg/anaconda3/envs/aistack/lib/python3.11/site-packages (from ipykernel->jupyter-dash) (0.1.6)\n",
      "Requirement already satisfied: packaging in /home/arielg/anaconda3/envs/aistack/lib/python3.11/site-packages (from ipykernel->jupyter-dash) (23.1)\n",
      "Requirement already satisfied: psutil in /home/arielg/anaconda3/envs/aistack/lib/python3.11/site-packages (from ipykernel->jupyter-dash) (5.9.5)\n",
      "Requirement already satisfied: pyzmq>=20 in /home/arielg/anaconda3/envs/aistack/lib/python3.11/site-packages (from ipykernel->jupyter-dash) (25.0.2)\n",
      "Requirement already satisfied: tornado>=6.1 in /home/arielg/anaconda3/envs/aistack/lib/python3.11/site-packages (from ipykernel->jupyter-dash) (6.3.1)\n",
      "Requirement already satisfied: traitlets>=5.4.0 in /home/arielg/anaconda3/envs/aistack/lib/python3.11/site-packages (from ipykernel->jupyter-dash) (5.9.0)\n",
      "Requirement already satisfied: backcall in /home/arielg/anaconda3/envs/aistack/lib/python3.11/site-packages (from ipython->jupyter-dash) (0.2.0)\n",
      "Requirement already satisfied: decorator in /home/arielg/anaconda3/envs/aistack/lib/python3.11/site-packages (from ipython->jupyter-dash) (5.1.1)\n",
      "Requirement already satisfied: jedi>=0.16 in /home/arielg/anaconda3/envs/aistack/lib/python3.11/site-packages (from ipython->jupyter-dash) (0.18.2)\n",
      "Requirement already satisfied: pickleshare in /home/arielg/anaconda3/envs/aistack/lib/python3.11/site-packages (from ipython->jupyter-dash) (0.7.5)\n",
      "Requirement already satisfied: prompt-toolkit!=3.0.37,<3.1.0,>=3.0.30 in /home/arielg/anaconda3/envs/aistack/lib/python3.11/site-packages (from ipython->jupyter-dash) (3.0.38)\n",
      "Requirement already satisfied: pygments>=2.4.0 in /home/arielg/anaconda3/envs/aistack/lib/python3.11/site-packages (from ipython->jupyter-dash) (2.15.1)\n",
      "Requirement already satisfied: stack-data in /home/arielg/anaconda3/envs/aistack/lib/python3.11/site-packages (from ipython->jupyter-dash) (0.6.2)\n",
      "Requirement already satisfied: pexpect>4.3 in /home/arielg/anaconda3/envs/aistack/lib/python3.11/site-packages (from ipython->jupyter-dash) (4.8.0)\n",
      "Requirement already satisfied: charset-normalizer<4,>=2 in /home/arielg/anaconda3/envs/aistack/lib/python3.11/site-packages (from requests->jupyter-dash) (3.1.0)\n",
      "Requirement already satisfied: idna<4,>=2.5 in /home/arielg/anaconda3/envs/aistack/lib/python3.11/site-packages (from requests->jupyter-dash) (3.4)\n",
      "Requirement already satisfied: urllib3<1.27,>=1.21.1 in /home/arielg/anaconda3/envs/aistack/lib/python3.11/site-packages (from requests->jupyter-dash) (1.26.15)\n",
      "Requirement already satisfied: certifi>=2017.4.17 in /home/arielg/anaconda3/envs/aistack/lib/python3.11/site-packages (from requests->jupyter-dash) (2022.12.7)\n",
      "Requirement already satisfied: six>=1.7.0 in /home/arielg/anaconda3/envs/aistack/lib/python3.11/site-packages (from retrying->jupyter-dash) (1.16.0)\n",
      "Requirement already satisfied: parso<0.9.0,>=0.8.0 in /home/arielg/anaconda3/envs/aistack/lib/python3.11/site-packages (from jedi>=0.16->ipython->jupyter-dash) (0.8.3)\n",
      "Requirement already satisfied: MarkupSafe>=2.0 in /home/arielg/anaconda3/envs/aistack/lib/python3.11/site-packages (from Jinja2>=3.0->flask->jupyter-dash) (2.1.2)\n",
      "Requirement already satisfied: python-dateutil>=2.8.2 in /home/arielg/anaconda3/envs/aistack/lib/python3.11/site-packages (from jupyter-client>=6.1.12->ipykernel->jupyter-dash) (2.8.2)\n",
      "Requirement already satisfied: platformdirs>=2.5 in /home/arielg/anaconda3/envs/aistack/lib/python3.11/site-packages (from jupyter-core!=5.0.*,>=4.12->ipykernel->jupyter-dash) (3.5.1)\n",
      "Requirement already satisfied: ptyprocess>=0.5 in /home/arielg/anaconda3/envs/aistack/lib/python3.11/site-packages (from pexpect>4.3->ipython->jupyter-dash) (0.7.0)\n",
      "Requirement already satisfied: tenacity>=6.2.0 in /home/arielg/anaconda3/envs/aistack/lib/python3.11/site-packages (from plotly>=5.0.0->dash->jupyter-dash) (8.2.2)\n",
      "Requirement already satisfied: wcwidth in /home/arielg/anaconda3/envs/aistack/lib/python3.11/site-packages (from prompt-toolkit!=3.0.37,<3.1.0,>=3.0.30->ipython->jupyter-dash) (0.2.6)\n",
      "Requirement already satisfied: executing>=1.2.0 in /home/arielg/anaconda3/envs/aistack/lib/python3.11/site-packages (from stack-data->ipython->jupyter-dash) (1.2.0)\n",
      "Requirement already satisfied: asttokens>=2.1.0 in /home/arielg/anaconda3/envs/aistack/lib/python3.11/site-packages (from stack-data->ipython->jupyter-dash) (2.2.1)\n",
      "Requirement already satisfied: pure-eval in /home/arielg/anaconda3/envs/aistack/lib/python3.11/site-packages (from stack-data->ipython->jupyter-dash) (0.2.2)\n"
     ]
    }
   ],
   "source": [
    "!pip install plotly[all]\n",
    "!pip install jupyter-dash"
   ]
  },
  {
   "cell_type": "code",
   "execution_count": 30,
   "id": "e0b79868-de77-431e-8743-8f72360abff0",
   "metadata": {
    "tags": []
   },
   "outputs": [],
   "source": []
  },
  {
   "cell_type": "code",
   "execution_count": 34,
   "id": "ab9a8027-f5f5-4667-b0e7-12078bf61392",
   "metadata": {
    "tags": []
   },
   "outputs": [
    {
     "data": {
      "text/html": [
       "        <script type=\"text/javascript\">\n",
       "        window.PlotlyConfig = {MathJaxConfig: 'local'};\n",
       "        if (window.MathJax && window.MathJax.Hub && window.MathJax.Hub.Config) {window.MathJax.Hub.Config({SVG: {font: \"STIX-Web\"}});}\n",
       "        if (typeof require !== 'undefined') {\n",
       "        require.undef(\"plotly\");\n",
       "        requirejs.config({\n",
       "            paths: {\n",
       "                'plotly': ['https://cdn.plot.ly/plotly-2.20.0.min']\n",
       "            }\n",
       "        });\n",
       "        require(['plotly'], function(Plotly) {\n",
       "            window._Plotly = Plotly;\n",
       "        });\n",
       "        }\n",
       "        </script>\n",
       "        "
      ]
     },
     "metadata": {},
     "output_type": "display_data"
    },
    {
     "data": {
      "application/vnd.plotly.v1+json": {
       "config": {
        "plotlyServerURL": "https://plot.ly"
       },
       "data": [
        {
         "alignmentgroup": "True",
         "bingroup": "x",
         "hovertemplate": "variable=0<br>value=%{x}<br>count=%{y}<extra></extra>",
         "legendgroup": "0",
         "marker": {
          "color": "#636efa",
          "pattern": {
           "shape": ""
          }
         },
         "name": "0",
         "offsetgroup": "0",
         "orientation": "v",
         "showlegend": true,
         "type": "histogram",
         "x": [
          0.0024571571182200004,
          0.0024571571182200004,
          0.0024571571182200004,
          0.0024571571182200004,
          0.004914314236440001,
          0.0024571571182200004,
          0.009828628472880001,
          0.0024571571182200004,
          0.024571571182200002,
          0.0024571571182200004
         ],
         "xaxis": "x",
         "yaxis": "y"
        }
       ],
       "layout": {
        "autosize": true,
        "barmode": "relative",
        "legend": {
         "title": {
          "text": "variable"
         },
         "tracegroupgap": 0
        },
        "template": {
         "data": {
          "bar": [
           {
            "error_x": {
             "color": "#2a3f5f"
            },
            "error_y": {
             "color": "#2a3f5f"
            },
            "marker": {
             "line": {
              "color": "#E5ECF6",
              "width": 0.5
             },
             "pattern": {
              "fillmode": "overlay",
              "size": 10,
              "solidity": 0.2
             }
            },
            "type": "bar"
           }
          ],
          "barpolar": [
           {
            "marker": {
             "line": {
              "color": "#E5ECF6",
              "width": 0.5
             },
             "pattern": {
              "fillmode": "overlay",
              "size": 10,
              "solidity": 0.2
             }
            },
            "type": "barpolar"
           }
          ],
          "carpet": [
           {
            "aaxis": {
             "endlinecolor": "#2a3f5f",
             "gridcolor": "white",
             "linecolor": "white",
             "minorgridcolor": "white",
             "startlinecolor": "#2a3f5f"
            },
            "baxis": {
             "endlinecolor": "#2a3f5f",
             "gridcolor": "white",
             "linecolor": "white",
             "minorgridcolor": "white",
             "startlinecolor": "#2a3f5f"
            },
            "type": "carpet"
           }
          ],
          "choropleth": [
           {
            "colorbar": {
             "outlinewidth": 0,
             "ticks": ""
            },
            "type": "choropleth"
           }
          ],
          "contour": [
           {
            "colorbar": {
             "outlinewidth": 0,
             "ticks": ""
            },
            "colorscale": [
             [
              0,
              "#0d0887"
             ],
             [
              0.1111111111111111,
              "#46039f"
             ],
             [
              0.2222222222222222,
              "#7201a8"
             ],
             [
              0.3333333333333333,
              "#9c179e"
             ],
             [
              0.4444444444444444,
              "#bd3786"
             ],
             [
              0.5555555555555556,
              "#d8576b"
             ],
             [
              0.6666666666666666,
              "#ed7953"
             ],
             [
              0.7777777777777778,
              "#fb9f3a"
             ],
             [
              0.8888888888888888,
              "#fdca26"
             ],
             [
              1,
              "#f0f921"
             ]
            ],
            "type": "contour"
           }
          ],
          "contourcarpet": [
           {
            "colorbar": {
             "outlinewidth": 0,
             "ticks": ""
            },
            "type": "contourcarpet"
           }
          ],
          "heatmap": [
           {
            "colorbar": {
             "outlinewidth": 0,
             "ticks": ""
            },
            "colorscale": [
             [
              0,
              "#0d0887"
             ],
             [
              0.1111111111111111,
              "#46039f"
             ],
             [
              0.2222222222222222,
              "#7201a8"
             ],
             [
              0.3333333333333333,
              "#9c179e"
             ],
             [
              0.4444444444444444,
              "#bd3786"
             ],
             [
              0.5555555555555556,
              "#d8576b"
             ],
             [
              0.6666666666666666,
              "#ed7953"
             ],
             [
              0.7777777777777778,
              "#fb9f3a"
             ],
             [
              0.8888888888888888,
              "#fdca26"
             ],
             [
              1,
              "#f0f921"
             ]
            ],
            "type": "heatmap"
           }
          ],
          "heatmapgl": [
           {
            "colorbar": {
             "outlinewidth": 0,
             "ticks": ""
            },
            "colorscale": [
             [
              0,
              "#0d0887"
             ],
             [
              0.1111111111111111,
              "#46039f"
             ],
             [
              0.2222222222222222,
              "#7201a8"
             ],
             [
              0.3333333333333333,
              "#9c179e"
             ],
             [
              0.4444444444444444,
              "#bd3786"
             ],
             [
              0.5555555555555556,
              "#d8576b"
             ],
             [
              0.6666666666666666,
              "#ed7953"
             ],
             [
              0.7777777777777778,
              "#fb9f3a"
             ],
             [
              0.8888888888888888,
              "#fdca26"
             ],
             [
              1,
              "#f0f921"
             ]
            ],
            "type": "heatmapgl"
           }
          ],
          "histogram": [
           {
            "marker": {
             "pattern": {
              "fillmode": "overlay",
              "size": 10,
              "solidity": 0.2
             }
            },
            "type": "histogram"
           }
          ],
          "histogram2d": [
           {
            "colorbar": {
             "outlinewidth": 0,
             "ticks": ""
            },
            "colorscale": [
             [
              0,
              "#0d0887"
             ],
             [
              0.1111111111111111,
              "#46039f"
             ],
             [
              0.2222222222222222,
              "#7201a8"
             ],
             [
              0.3333333333333333,
              "#9c179e"
             ],
             [
              0.4444444444444444,
              "#bd3786"
             ],
             [
              0.5555555555555556,
              "#d8576b"
             ],
             [
              0.6666666666666666,
              "#ed7953"
             ],
             [
              0.7777777777777778,
              "#fb9f3a"
             ],
             [
              0.8888888888888888,
              "#fdca26"
             ],
             [
              1,
              "#f0f921"
             ]
            ],
            "type": "histogram2d"
           }
          ],
          "histogram2dcontour": [
           {
            "colorbar": {
             "outlinewidth": 0,
             "ticks": ""
            },
            "colorscale": [
             [
              0,
              "#0d0887"
             ],
             [
              0.1111111111111111,
              "#46039f"
             ],
             [
              0.2222222222222222,
              "#7201a8"
             ],
             [
              0.3333333333333333,
              "#9c179e"
             ],
             [
              0.4444444444444444,
              "#bd3786"
             ],
             [
              0.5555555555555556,
              "#d8576b"
             ],
             [
              0.6666666666666666,
              "#ed7953"
             ],
             [
              0.7777777777777778,
              "#fb9f3a"
             ],
             [
              0.8888888888888888,
              "#fdca26"
             ],
             [
              1,
              "#f0f921"
             ]
            ],
            "type": "histogram2dcontour"
           }
          ],
          "mesh3d": [
           {
            "colorbar": {
             "outlinewidth": 0,
             "ticks": ""
            },
            "type": "mesh3d"
           }
          ],
          "parcoords": [
           {
            "line": {
             "colorbar": {
              "outlinewidth": 0,
              "ticks": ""
             }
            },
            "type": "parcoords"
           }
          ],
          "pie": [
           {
            "automargin": true,
            "type": "pie"
           }
          ],
          "scatter": [
           {
            "fillpattern": {
             "fillmode": "overlay",
             "size": 10,
             "solidity": 0.2
            },
            "type": "scatter"
           }
          ],
          "scatter3d": [
           {
            "line": {
             "colorbar": {
              "outlinewidth": 0,
              "ticks": ""
             }
            },
            "marker": {
             "colorbar": {
              "outlinewidth": 0,
              "ticks": ""
             }
            },
            "type": "scatter3d"
           }
          ],
          "scattercarpet": [
           {
            "marker": {
             "colorbar": {
              "outlinewidth": 0,
              "ticks": ""
             }
            },
            "type": "scattercarpet"
           }
          ],
          "scattergeo": [
           {
            "marker": {
             "colorbar": {
              "outlinewidth": 0,
              "ticks": ""
             }
            },
            "type": "scattergeo"
           }
          ],
          "scattergl": [
           {
            "marker": {
             "colorbar": {
              "outlinewidth": 0,
              "ticks": ""
             }
            },
            "type": "scattergl"
           }
          ],
          "scattermapbox": [
           {
            "marker": {
             "colorbar": {
              "outlinewidth": 0,
              "ticks": ""
             }
            },
            "type": "scattermapbox"
           }
          ],
          "scatterpolar": [
           {
            "marker": {
             "colorbar": {
              "outlinewidth": 0,
              "ticks": ""
             }
            },
            "type": "scatterpolar"
           }
          ],
          "scatterpolargl": [
           {
            "marker": {
             "colorbar": {
              "outlinewidth": 0,
              "ticks": ""
             }
            },
            "type": "scatterpolargl"
           }
          ],
          "scatterternary": [
           {
            "marker": {
             "colorbar": {
              "outlinewidth": 0,
              "ticks": ""
             }
            },
            "type": "scatterternary"
           }
          ],
          "surface": [
           {
            "colorbar": {
             "outlinewidth": 0,
             "ticks": ""
            },
            "colorscale": [
             [
              0,
              "#0d0887"
             ],
             [
              0.1111111111111111,
              "#46039f"
             ],
             [
              0.2222222222222222,
              "#7201a8"
             ],
             [
              0.3333333333333333,
              "#9c179e"
             ],
             [
              0.4444444444444444,
              "#bd3786"
             ],
             [
              0.5555555555555556,
              "#d8576b"
             ],
             [
              0.6666666666666666,
              "#ed7953"
             ],
             [
              0.7777777777777778,
              "#fb9f3a"
             ],
             [
              0.8888888888888888,
              "#fdca26"
             ],
             [
              1,
              "#f0f921"
             ]
            ],
            "type": "surface"
           }
          ],
          "table": [
           {
            "cells": {
             "fill": {
              "color": "#EBF0F8"
             },
             "line": {
              "color": "white"
             }
            },
            "header": {
             "fill": {
              "color": "#C8D4E3"
             },
             "line": {
              "color": "white"
             }
            },
            "type": "table"
           }
          ]
         },
         "layout": {
          "annotationdefaults": {
           "arrowcolor": "#2a3f5f",
           "arrowhead": 0,
           "arrowwidth": 1
          },
          "autotypenumbers": "strict",
          "coloraxis": {
           "colorbar": {
            "outlinewidth": 0,
            "ticks": ""
           }
          },
          "colorscale": {
           "diverging": [
            [
             0,
             "#8e0152"
            ],
            [
             0.1,
             "#c51b7d"
            ],
            [
             0.2,
             "#de77ae"
            ],
            [
             0.3,
             "#f1b6da"
            ],
            [
             0.4,
             "#fde0ef"
            ],
            [
             0.5,
             "#f7f7f7"
            ],
            [
             0.6,
             "#e6f5d0"
            ],
            [
             0.7,
             "#b8e186"
            ],
            [
             0.8,
             "#7fbc41"
            ],
            [
             0.9,
             "#4d9221"
            ],
            [
             1,
             "#276419"
            ]
           ],
           "sequential": [
            [
             0,
             "#0d0887"
            ],
            [
             0.1111111111111111,
             "#46039f"
            ],
            [
             0.2222222222222222,
             "#7201a8"
            ],
            [
             0.3333333333333333,
             "#9c179e"
            ],
            [
             0.4444444444444444,
             "#bd3786"
            ],
            [
             0.5555555555555556,
             "#d8576b"
            ],
            [
             0.6666666666666666,
             "#ed7953"
            ],
            [
             0.7777777777777778,
             "#fb9f3a"
            ],
            [
             0.8888888888888888,
             "#fdca26"
            ],
            [
             1,
             "#f0f921"
            ]
           ],
           "sequentialminus": [
            [
             0,
             "#0d0887"
            ],
            [
             0.1111111111111111,
             "#46039f"
            ],
            [
             0.2222222222222222,
             "#7201a8"
            ],
            [
             0.3333333333333333,
             "#9c179e"
            ],
            [
             0.4444444444444444,
             "#bd3786"
            ],
            [
             0.5555555555555556,
             "#d8576b"
            ],
            [
             0.6666666666666666,
             "#ed7953"
            ],
            [
             0.7777777777777778,
             "#fb9f3a"
            ],
            [
             0.8888888888888888,
             "#fdca26"
            ],
            [
             1,
             "#f0f921"
            ]
           ]
          },
          "colorway": [
           "#636efa",
           "#EF553B",
           "#00cc96",
           "#ab63fa",
           "#FFA15A",
           "#19d3f3",
           "#FF6692",
           "#B6E880",
           "#FF97FF",
           "#FECB52"
          ],
          "font": {
           "color": "#2a3f5f"
          },
          "geo": {
           "bgcolor": "white",
           "lakecolor": "white",
           "landcolor": "#E5ECF6",
           "showlakes": true,
           "showland": true,
           "subunitcolor": "white"
          },
          "hoverlabel": {
           "align": "left"
          },
          "hovermode": "closest",
          "mapbox": {
           "style": "light"
          },
          "paper_bgcolor": "white",
          "plot_bgcolor": "#E5ECF6",
          "polar": {
           "angularaxis": {
            "gridcolor": "white",
            "linecolor": "white",
            "ticks": ""
           },
           "bgcolor": "#E5ECF6",
           "radialaxis": {
            "gridcolor": "white",
            "linecolor": "white",
            "ticks": ""
           }
          },
          "scene": {
           "xaxis": {
            "backgroundcolor": "#E5ECF6",
            "gridcolor": "white",
            "gridwidth": 2,
            "linecolor": "white",
            "showbackground": true,
            "ticks": "",
            "zerolinecolor": "white"
           },
           "yaxis": {
            "backgroundcolor": "#E5ECF6",
            "gridcolor": "white",
            "gridwidth": 2,
            "linecolor": "white",
            "showbackground": true,
            "ticks": "",
            "zerolinecolor": "white"
           },
           "zaxis": {
            "backgroundcolor": "#E5ECF6",
            "gridcolor": "white",
            "gridwidth": 2,
            "linecolor": "white",
            "showbackground": true,
            "ticks": "",
            "zerolinecolor": "white"
           }
          },
          "shapedefaults": {
           "line": {
            "color": "#2a3f5f"
           }
          },
          "ternary": {
           "aaxis": {
            "gridcolor": "white",
            "linecolor": "white",
            "ticks": ""
           },
           "baxis": {
            "gridcolor": "white",
            "linecolor": "white",
            "ticks": ""
           },
           "bgcolor": "#E5ECF6",
           "caxis": {
            "gridcolor": "white",
            "linecolor": "white",
            "ticks": ""
           }
          },
          "title": {
           "x": 0.05
          },
          "xaxis": {
           "automargin": true,
           "gridcolor": "white",
           "linecolor": "white",
           "ticks": "",
           "title": {
            "standoff": 15
           },
           "zerolinecolor": "white",
           "zerolinewidth": 2
          },
          "yaxis": {
           "automargin": true,
           "gridcolor": "white",
           "linecolor": "white",
           "ticks": "",
           "title": {
            "standoff": 15
           },
           "zerolinecolor": "white",
           "zerolinewidth": 2
          }
         }
        },
        "title": {
         "text": "TfiDF of words in doc 0"
        },
        "xaxis": {
         "anchor": "y",
         "autorange": true,
         "domain": [
          0,
          1
         ],
         "range": [
          8.673617379884035e-19,
          0.03
         ],
         "title": {
          "text": "value"
         },
         "type": "linear"
        },
        "yaxis": {
         "anchor": "x",
         "autorange": true,
         "domain": [
          0,
          1
         ],
         "range": [
          0,
          9.473684210526315
         ],
         "title": {
          "text": "count"
         }
        }
       }
      },
      "image/png": "[encoded data removed]",
      "text/html": [
       "<div>                            <div id=\"74785ed7-368f-47a6-a723-ccd23c8a65d3\" class=\"plotly-graph-div\" style=\"height:525px; width:100%;\"></div>            <script type=\"text/javascript\">                require([\"plotly\"], function(Plotly) {                    window.PLOTLYENV=window.PLOTLYENV || {};                                    if (document.getElementById(\"74785ed7-368f-47a6-a723-ccd23c8a65d3\")) {                    Plotly.newPlot(                        \"74785ed7-368f-47a6-a723-ccd23c8a65d3\",                        [{\"alignmentgroup\":\"True\",\"bingroup\":\"x\",\"hovertemplate\":\"variable=0<br>value=%{x}<br>count=%{y}<extra></extra>\",\"legendgroup\":\"0\",\"marker\":{\"color\":\"#636efa\",\"pattern\":{\"shape\":\"\"}},\"name\":\"0\",\"offsetgroup\":\"0\",\"orientation\":\"v\",\"showlegend\":true,\"x\":[0.0024571571182200004,0.0024571571182200004,0.0024571571182200004,0.0024571571182200004,0.004914314236440001,0.0024571571182200004,0.009828628472880001,0.0024571571182200004,0.024571571182200002,0.0024571571182200004],\"xaxis\":\"x\",\"yaxis\":\"y\",\"type\":\"histogram\"}],                        {\"template\":{\"data\":{\"histogram2dcontour\":[{\"type\":\"histogram2dcontour\",\"colorbar\":{\"outlinewidth\":0,\"ticks\":\"\"},\"colorscale\":[[0.0,\"#0d0887\"],[0.1111111111111111,\"#46039f\"],[0.2222222222222222,\"#7201a8\"],[0.3333333333333333,\"#9c179e\"],[0.4444444444444444,\"#bd3786\"],[0.5555555555555556,\"#d8576b\"],[0.6666666666666666,\"#ed7953\"],[0.7777777777777778,\"#fb9f3a\"],[0.8888888888888888,\"#fdca26\"],[1.0,\"#f0f921\"]]}],\"choropleth\":[{\"type\":\"choropleth\",\"colorbar\":{\"outlinewidth\":0,\"ticks\":\"\"}}],\"histogram2d\":[{\"type\":\"histogram2d\",\"colorbar\":{\"outlinewidth\":0,\"ticks\":\"\"},\"colorscale\":[[0.0,\"#0d0887\"],[0.1111111111111111,\"#46039f\"],[0.2222222222222222,\"#7201a8\"],[0.3333333333333333,\"#9c179e\"],[0.4444444444444444,\"#bd3786\"],[0.5555555555555556,\"#d8576b\"],[0.6666666666666666,\"#ed7953\"],[0.7777777777777778,\"#fb9f3a\"],[0.8888888888888888,\"#fdca26\"],[1.0,\"#f0f921\"]]}],\"heatmap\":[{\"type\":\"heatmap\",\"colorbar\":{\"outlinewidth\":0,\"ticks\":\"\"},\"colorscale\":[[0.0,\"#0d0887\"],[0.1111111111111111,\"#46039f\"],[0.2222222222222222,\"#7201a8\"],[0.3333333333333333,\"#9c179e\"],[0.4444444444444444,\"#bd3786\"],[0.5555555555555556,\"#d8576b\"],[0.6666666666666666,\"#ed7953\"],[0.7777777777777778,\"#fb9f3a\"],[0.8888888888888888,\"#fdca26\"],[1.0,\"#f0f921\"]]}],\"heatmapgl\":[{\"type\":\"heatmapgl\",\"colorbar\":{\"outlinewidth\":0,\"ticks\":\"\"},\"colorscale\":[[0.0,\"#0d0887\"],[0.1111111111111111,\"#46039f\"],[0.2222222222222222,\"#7201a8\"],[0.3333333333333333,\"#9c179e\"],[0.4444444444444444,\"#bd3786\"],[0.5555555555555556,\"#d8576b\"],[0.6666666666666666,\"#ed7953\"],[0.7777777777777778,\"#fb9f3a\"],[0.8888888888888888,\"#fdca26\"],[1.0,\"#f0f921\"]]}],\"contourcarpet\":[{\"type\":\"contourcarpet\",\"colorbar\":{\"outlinewidth\":0,\"ticks\":\"\"}}],\"contour\":[{\"type\":\"contour\",\"colorbar\":{\"outlinewidth\":0,\"ticks\":\"\"},\"colorscale\":[[0.0,\"#0d0887\"],[0.1111111111111111,\"#46039f\"],[0.2222222222222222,\"#7201a8\"],[0.3333333333333333,\"#9c179e\"],[0.4444444444444444,\"#bd3786\"],[0.5555555555555556,\"#d8576b\"],[0.6666666666666666,\"#ed7953\"],[0.7777777777777778,\"#fb9f3a\"],[0.8888888888888888,\"#fdca26\"],[1.0,\"#f0f921\"]]}],\"surface\":[{\"type\":\"surface\",\"colorbar\":{\"outlinewidth\":0,\"ticks\":\"\"},\"colorscale\":[[0.0,\"#0d0887\"],[0.1111111111111111,\"#46039f\"],[0.2222222222222222,\"#7201a8\"],[0.3333333333333333,\"#9c179e\"],[0.4444444444444444,\"#bd3786\"],[0.5555555555555556,\"#d8576b\"],[0.6666666666666666,\"#ed7953\"],[0.7777777777777778,\"#fb9f3a\"],[0.8888888888888888,\"#fdca26\"],[1.0,\"#f0f921\"]]}],\"mesh3d\":[{\"type\":\"mesh3d\",\"colorbar\":{\"outlinewidth\":0,\"ticks\":\"\"}}],\"scatter\":[{\"fillpattern\":{\"fillmode\":\"overlay\",\"size\":10,\"solidity\":0.2},\"type\":\"scatter\"}],\"parcoords\":[{\"type\":\"parcoords\",\"line\":{\"colorbar\":{\"outlinewidth\":0,\"ticks\":\"\"}}}],\"scatterpolargl\":[{\"type\":\"scatterpolargl\",\"marker\":{\"colorbar\":{\"outlinewidth\":0,\"ticks\":\"\"}}}],\"bar\":[{\"error_x\":{\"color\":\"#2a3f5f\"},\"error_y\":{\"color\":\"#2a3f5f\"},\"marker\":{\"line\":{\"color\":\"#E5ECF6\",\"width\":0.5},\"pattern\":{\"fillmode\":\"overlay\",\"size\":10,\"solidity\":0.2}},\"type\":\"bar\"}],\"scattergeo\":[{\"type\":\"scattergeo\",\"marker\":{\"colorbar\":{\"outlinewidth\":0,\"ticks\":\"\"}}}],\"scatterpolar\":[{\"type\":\"scatterpolar\",\"marker\":{\"colorbar\":{\"outlinewidth\":0,\"ticks\":\"\"}}}],\"histogram\":[{\"marker\":{\"pattern\":{\"fillmode\":\"overlay\",\"size\":10,\"solidity\":0.2}},\"type\":\"histogram\"}],\"scattergl\":[{\"type\":\"scattergl\",\"marker\":{\"colorbar\":{\"outlinewidth\":0,\"ticks\":\"\"}}}],\"scatter3d\":[{\"type\":\"scatter3d\",\"line\":{\"colorbar\":{\"outlinewidth\":0,\"ticks\":\"\"}},\"marker\":{\"colorbar\":{\"outlinewidth\":0,\"ticks\":\"\"}}}],\"scattermapbox\":[{\"type\":\"scattermapbox\",\"marker\":{\"colorbar\":{\"outlinewidth\":0,\"ticks\":\"\"}}}],\"scatterternary\":[{\"type\":\"scatterternary\",\"marker\":{\"colorbar\":{\"outlinewidth\":0,\"ticks\":\"\"}}}],\"scattercarpet\":[{\"type\":\"scattercarpet\",\"marker\":{\"colorbar\":{\"outlinewidth\":0,\"ticks\":\"\"}}}],\"carpet\":[{\"aaxis\":{\"endlinecolor\":\"#2a3f5f\",\"gridcolor\":\"white\",\"linecolor\":\"white\",\"minorgridcolor\":\"white\",\"startlinecolor\":\"#2a3f5f\"},\"baxis\":{\"endlinecolor\":\"#2a3f5f\",\"gridcolor\":\"white\",\"linecolor\":\"white\",\"minorgridcolor\":\"white\",\"startlinecolor\":\"#2a3f5f\"},\"type\":\"carpet\"}],\"table\":[{\"cells\":{\"fill\":{\"color\":\"#EBF0F8\"},\"line\":{\"color\":\"white\"}},\"header\":{\"fill\":{\"color\":\"#C8D4E3\"},\"line\":{\"color\":\"white\"}},\"type\":\"table\"}],\"barpolar\":[{\"marker\":{\"line\":{\"color\":\"#E5ECF6\",\"width\":0.5},\"pattern\":{\"fillmode\":\"overlay\",\"size\":10,\"solidity\":0.2}},\"type\":\"barpolar\"}],\"pie\":[{\"automargin\":true,\"type\":\"pie\"}]},\"layout\":{\"autotypenumbers\":\"strict\",\"colorway\":[\"#636efa\",\"#EF553B\",\"#00cc96\",\"#ab63fa\",\"#FFA15A\",\"#19d3f3\",\"#FF6692\",\"#B6E880\",\"#FF97FF\",\"#FECB52\"],\"font\":{\"color\":\"#2a3f5f\"},\"hovermode\":\"closest\",\"hoverlabel\":{\"align\":\"left\"},\"paper_bgcolor\":\"white\",\"plot_bgcolor\":\"#E5ECF6\",\"polar\":{\"bgcolor\":\"#E5ECF6\",\"angularaxis\":{\"gridcolor\":\"white\",\"linecolor\":\"white\",\"ticks\":\"\"},\"radialaxis\":{\"gridcolor\":\"white\",\"linecolor\":\"white\",\"ticks\":\"\"}},\"ternary\":{\"bgcolor\":\"#E5ECF6\",\"aaxis\":{\"gridcolor\":\"white\",\"linecolor\":\"white\",\"ticks\":\"\"},\"baxis\":{\"gridcolor\":\"white\",\"linecolor\":\"white\",\"ticks\":\"\"},\"caxis\":{\"gridcolor\":\"white\",\"linecolor\":\"white\",\"ticks\":\"\"}},\"coloraxis\":{\"colorbar\":{\"outlinewidth\":0,\"ticks\":\"\"}},\"colorscale\":{\"sequential\":[[0.0,\"#0d0887\"],[0.1111111111111111,\"#46039f\"],[0.2222222222222222,\"#7201a8\"],[0.3333333333333333,\"#9c179e\"],[0.4444444444444444,\"#bd3786\"],[0.5555555555555556,\"#d8576b\"],[0.6666666666666666,\"#ed7953\"],[0.7777777777777778,\"#fb9f3a\"],[0.8888888888888888,\"#fdca26\"],[1.0,\"#f0f921\"]],\"sequentialminus\":[[0.0,\"#0d0887\"],[0.1111111111111111,\"#46039f\"],[0.2222222222222222,\"#7201a8\"],[0.3333333333333333,\"#9c179e\"],[0.4444444444444444,\"#bd3786\"],[0.5555555555555556,\"#d8576b\"],[0.6666666666666666,\"#ed7953\"],[0.7777777777777778,\"#fb9f3a\"],[0.8888888888888888,\"#fdca26\"],[1.0,\"#f0f921\"]],\"diverging\":[[0,\"#8e0152\"],[0.1,\"#c51b7d\"],[0.2,\"#de77ae\"],[0.3,\"#f1b6da\"],[0.4,\"#fde0ef\"],[0.5,\"#f7f7f7\"],[0.6,\"#e6f5d0\"],[0.7,\"#b8e186\"],[0.8,\"#7fbc41\"],[0.9,\"#4d9221\"],[1,\"#276419\"]]},\"xaxis\":{\"gridcolor\":\"white\",\"linecolor\":\"white\",\"ticks\":\"\",\"title\":{\"standoff\":15},\"zerolinecolor\":\"white\",\"automargin\":true,\"zerolinewidth\":2},\"yaxis\":{\"gridcolor\":\"white\",\"linecolor\":\"white\",\"ticks\":\"\",\"title\":{\"standoff\":15},\"zerolinecolor\":\"white\",\"automargin\":true,\"zerolinewidth\":2},\"scene\":{\"xaxis\":{\"backgroundcolor\":\"#E5ECF6\",\"gridcolor\":\"white\",\"linecolor\":\"white\",\"showbackground\":true,\"ticks\":\"\",\"zerolinecolor\":\"white\",\"gridwidth\":2},\"yaxis\":{\"backgroundcolor\":\"#E5ECF6\",\"gridcolor\":\"white\",\"linecolor\":\"white\",\"showbackground\":true,\"ticks\":\"\",\"zerolinecolor\":\"white\",\"gridwidth\":2},\"zaxis\":{\"backgroundcolor\":\"#E5ECF6\",\"gridcolor\":\"white\",\"linecolor\":\"white\",\"showbackground\":true,\"ticks\":\"\",\"zerolinecolor\":\"white\",\"gridwidth\":2}},\"shapedefaults\":{\"line\":{\"color\":\"#2a3f5f\"}},\"annotationdefaults\":{\"arrowcolor\":\"#2a3f5f\",\"arrowhead\":0,\"arrowwidth\":1},\"geo\":{\"bgcolor\":\"white\",\"landcolor\":\"#E5ECF6\",\"subunitcolor\":\"white\",\"showland\":true,\"showlakes\":true,\"lakecolor\":\"white\"},\"title\":{\"x\":0.05},\"mapbox\":{\"style\":\"light\"}}},\"xaxis\":{\"anchor\":\"y\",\"domain\":[0.0,1.0],\"title\":{\"text\":\"value\"}},\"yaxis\":{\"anchor\":\"x\",\"domain\":[0.0,1.0],\"title\":{\"text\":\"count\"}},\"legend\":{\"title\":{\"text\":\"variable\"},\"tracegroupgap\":0},\"title\":{\"text\":\"TfiDF of words in doc 0\"},\"barmode\":\"relative\"},                        {\"responsive\": true}                    ).then(function(){\n",
       "                            \n",
       "var gd = document.getElementById('74785ed7-368f-47a6-a723-ccd23c8a65d3');\n",
       "var x = new MutationObserver(function (mutations, observer) {{\n",
       "        var display = window.getComputedStyle(gd).display;\n",
       "        if (!display || display === 'none') {{\n",
       "            console.log([gd, 'removed!']);\n",
       "            Plotly.purge(gd);\n",
       "            observer.disconnect();\n",
       "        }}\n",
       "}});\n",
       "\n",
       "// Listen for the removal of the full notebook cells\n",
       "var notebookContainer = gd.closest('#notebook-container');\n",
       "if (notebookContainer) {{\n",
       "    x.observe(notebookContainer, {childList: true});\n",
       "}}\n",
       "\n",
       "// Listen for the clearing of the current output cell\n",
       "var outputEl = gd.closest('.output');\n",
       "if (outputEl) {{\n",
       "    x.observe(outputEl, {childList: true});\n",
       "}}\n",
       "\n",
       "                        })                };                });            </script>        </div>"
      ]
     },
     "metadata": {},
     "output_type": "display_data"
    }
   ],
   "source": [
    "import plotly\n",
    "import plotly.express as px\n",
    "import matplotlib.pyplot as plt\n",
    "plotly.offline.init_notebook_mode(connected=True)\n",
    "\n",
    "data = pd.DataFrame.from_dict(tfidf_i, orient='index')\n",
    "fig = px.histogram(\n",
    "                data[:10],\n",
    "                title=\"TfiDF of words in doc 0\"\n",
    "        )#.update_xaxes(categoryorder=\"total descending\")\n",
    "fig.show()"
   ]
  },
  {
   "cell_type": "code",
   "execution_count": 36,
   "id": "b1ecf58e-c725-47bb-ade3-15b079c0dce5",
   "metadata": {
    "tags": []
   },
   "outputs": [
    {
     "name": "stdout",
     "output_type": "stream",
     "text": [
      "/bin/bash: /home/arielg/anaconda3/envs/aistack/lib/libtinfo.so.6: no version information available (required by /bin/bash)\n",
      "Collecting wordcloud\n",
      "  Downloading wordcloud-1.9.2-cp311-cp311-manylinux_2_17_x86_64.manylinux2014_x86_64.whl (473 kB)\n",
      "\u001b[2K     \u001b[38;2;114;156;31m━━━━━━━━━━━━━━━━━━━━━━━━━━━━━━━━━━━━━━━\u001b[0m \u001b[32m473.1/473.1 kB\u001b[0m \u001b[31m5.8 MB/s\u001b[0m eta \u001b[36m0:00:00\u001b[0mm eta \u001b[36m0:00:01\u001b[0m[36m0:00:01\u001b[0m\n",
      "\u001b[?25hRequirement already satisfied: numpy>=1.6.1 in /home/arielg/anaconda3/envs/aistack/lib/python3.11/site-packages (from wordcloud) (1.23.5)\n",
      "Requirement already satisfied: pillow in /home/arielg/anaconda3/envs/aistack/lib/python3.11/site-packages (from wordcloud) (9.5.0)\n",
      "Requirement already satisfied: matplotlib in /home/arielg/anaconda3/envs/aistack/lib/python3.11/site-packages (from wordcloud) (3.7.1)\n",
      "Requirement already satisfied: contourpy>=1.0.1 in /home/arielg/anaconda3/envs/aistack/lib/python3.11/site-packages (from matplotlib->wordcloud) (1.0.7)\n",
      "Requirement already satisfied: cycler>=0.10 in /home/arielg/anaconda3/envs/aistack/lib/python3.11/site-packages (from matplotlib->wordcloud) (0.11.0)\n",
      "Requirement already satisfied: fonttools>=4.22.0 in /home/arielg/anaconda3/envs/aistack/lib/python3.11/site-packages (from matplotlib->wordcloud) (4.39.4)\n",
      "Requirement already satisfied: kiwisolver>=1.0.1 in /home/arielg/anaconda3/envs/aistack/lib/python3.11/site-packages (from matplotlib->wordcloud) (1.4.4)\n",
      "Requirement already satisfied: packaging>=20.0 in /home/arielg/anaconda3/envs/aistack/lib/python3.11/site-packages (from matplotlib->wordcloud) (23.1)\n",
      "Requirement already satisfied: pyparsing>=2.3.1 in /home/arielg/anaconda3/envs/aistack/lib/python3.11/site-packages (from matplotlib->wordcloud) (3.0.9)\n",
      "Requirement already satisfied: python-dateutil>=2.7 in /home/arielg/anaconda3/envs/aistack/lib/python3.11/site-packages (from matplotlib->wordcloud) (2.8.2)\n",
      "Requirement already satisfied: six>=1.5 in /home/arielg/anaconda3/envs/aistack/lib/python3.11/site-packages (from python-dateutil>=2.7->matplotlib->wordcloud) (1.16.0)\n",
      "Installing collected packages: wordcloud\n",
      "Successfully installed wordcloud-1.9.2\n"
     ]
    }
   ],
   "source": [
    "!pip install wordcloud"
   ]
  },
  {
   "cell_type": "code",
   "execution_count": 44,
   "id": "7cfb86f1-4dd4-4e0c-bb41-6649e3a2c020",
   "metadata": {
    "tags": []
   },
   "outputs": [
    {
     "data": {
      "text/html": [
       "<div>\n",
       "<style scoped>\n",
       "    .dataframe tbody tr th:only-of-type {\n",
       "        vertical-align: middle;\n",
       "    }\n",
       "\n",
       "    .dataframe tbody tr th {\n",
       "        vertical-align: top;\n",
       "    }\n",
       "\n",
       "    .dataframe thead th {\n",
       "        text-align: right;\n",
       "    }\n",
       "</style>\n",
       "<table border=\"1\" class=\"dataframe\">\n",
       "  <thead>\n",
       "    <tr style=\"text-align: right;\">\n",
       "      <th></th>\n",
       "      <th>0</th>\n",
       "    </tr>\n",
       "  </thead>\n",
       "  <tbody>\n",
       "    <tr>\n",
       "      <th>ASSISTANT</th>\n",
       "      <td>0.002457</td>\n",
       "    </tr>\n",
       "    <tr>\n",
       "      <th>BANKING</th>\n",
       "      <td>0.002457</td>\n",
       "    </tr>\n",
       "    <tr>\n",
       "      <th>CENTER</th>\n",
       "      <td>0.002457</td>\n",
       "    </tr>\n",
       "    <tr>\n",
       "      <th>MANAGER</th>\n",
       "      <td>0.002457</td>\n",
       "    </tr>\n",
       "    <tr>\n",
       "      <th>I</th>\n",
       "      <td>0.004914</td>\n",
       "    </tr>\n",
       "    <tr>\n",
       "      <th>...</th>\n",
       "      <td>...</td>\n",
       "    </tr>\n",
       "    <tr>\n",
       "      <th>suite</th>\n",
       "      <td>0.002457</td>\n",
       "    </tr>\n",
       "    <tr>\n",
       "      <th>Belleview</th>\n",
       "      <td>0.002457</td>\n",
       "    </tr>\n",
       "    <tr>\n",
       "      <th>Metrics</th>\n",
       "      <td>0.002457</td>\n",
       "    </tr>\n",
       "    <tr>\n",
       "      <th>Anchory</th>\n",
       "      <td>0.002457</td>\n",
       "    </tr>\n",
       "    <tr>\n",
       "      <th>Globalreach</th>\n",
       "      <td>0.002457</td>\n",
       "    </tr>\n",
       "  </tbody>\n",
       "</table>\n",
       "<p>100 rows × 1 columns</p>\n",
       "</div>"
      ],
      "text/plain": [
       "                    0\n",
       "ASSISTANT    0.002457\n",
       "BANKING      0.002457\n",
       "CENTER       0.002457\n",
       "MANAGER      0.002457\n",
       "I            0.004914\n",
       "...               ...\n",
       "suite        0.002457\n",
       "Belleview    0.002457\n",
       "Metrics      0.002457\n",
       "Anchory      0.002457\n",
       "Globalreach  0.002457\n",
       "\n",
       "[100 rows x 1 columns]"
      ]
     },
     "execution_count": 44,
     "metadata": {},
     "output_type": "execute_result"
    }
   ],
   "source": [
    "data[:100]"
   ]
  },
  {
   "cell_type": "code",
   "execution_count": 41,
   "id": "d5393c05-fe0a-4161-8c47-5862a0d15eda",
   "metadata": {},
   "outputs": [
    {
     "ename": "ValueError",
     "evalue": "We need at least 1 word to plot a word cloud, got 0.",
     "output_type": "error",
     "traceback": [
      "\u001b[0;31m---------------------------------------------------------------------------\u001b[0m",
      "\u001b[0;31mValueError\u001b[0m                                Traceback (most recent call last)",
      "Cell \u001b[0;32mIn[41], line 6\u001b[0m\n\u001b[1;32m      4\u001b[0m sdata \u001b[38;5;241m=\u001b[39m data\u001b[38;5;241m.\u001b[39msqueeze(axis\u001b[38;5;241m=\u001b[39m\u001b[38;5;241m0\u001b[39m)\n\u001b[1;32m      5\u001b[0m series \u001b[38;5;241m=\u001b[39m pd\u001b[38;5;241m.\u001b[39mSeries()\n\u001b[0;32m----> 6\u001b[0m wordcloud \u001b[38;5;241m=\u001b[39m \u001b[43mWordCloud\u001b[49m\u001b[43m(\u001b[49m\u001b[43mbackground_color\u001b[49m\u001b[38;5;241;43m=\u001b[39;49m\u001b[38;5;124;43m'\u001b[39;49m\u001b[38;5;124;43mwhite\u001b[39;49m\u001b[38;5;124;43m'\u001b[39;49m\u001b[43m)\u001b[49m\u001b[38;5;241;43m.\u001b[39;49m\u001b[43mgenerate_from_frequencies\u001b[49m\u001b[43m(\u001b[49m\u001b[43mseries\u001b[49m\u001b[43m)\u001b[49m\n\u001b[1;32m      8\u001b[0m plt\u001b[38;5;241m.\u001b[39mfigure(figsize\u001b[38;5;241m=\u001b[39m(\u001b[38;5;241m15\u001b[39m,\u001b[38;5;241m15\u001b[39m), facecolor \u001b[38;5;241m=\u001b[39m \u001b[38;5;28;01mNone\u001b[39;00m)\n\u001b[1;32m      9\u001b[0m plt\u001b[38;5;241m.\u001b[39mimshow(wordcloud, interpolation\u001b[38;5;241m=\u001b[39m\u001b[38;5;124m'\u001b[39m\u001b[38;5;124mbilinear\u001b[39m\u001b[38;5;124m'\u001b[39m)\n",
      "File \u001b[0;32m~/anaconda3/envs/aistack/lib/python3.11/site-packages/wordcloud/wordcloud.py:410\u001b[0m, in \u001b[0;36mWordCloud.generate_from_frequencies\u001b[0;34m(self, frequencies, max_font_size)\u001b[0m\n\u001b[1;32m    408\u001b[0m frequencies \u001b[38;5;241m=\u001b[39m \u001b[38;5;28msorted\u001b[39m(frequencies\u001b[38;5;241m.\u001b[39mitems(), key\u001b[38;5;241m=\u001b[39mitemgetter(\u001b[38;5;241m1\u001b[39m), reverse\u001b[38;5;241m=\u001b[39m\u001b[38;5;28;01mTrue\u001b[39;00m)\n\u001b[1;32m    409\u001b[0m \u001b[38;5;28;01mif\u001b[39;00m \u001b[38;5;28mlen\u001b[39m(frequencies) \u001b[38;5;241m<\u001b[39m\u001b[38;5;241m=\u001b[39m \u001b[38;5;241m0\u001b[39m:\n\u001b[0;32m--> 410\u001b[0m     \u001b[38;5;28;01mraise\u001b[39;00m \u001b[38;5;167;01mValueError\u001b[39;00m(\u001b[38;5;124m\"\u001b[39m\u001b[38;5;124mWe need at least 1 word to plot a word cloud, \u001b[39m\u001b[38;5;124m\"\u001b[39m\n\u001b[1;32m    411\u001b[0m                      \u001b[38;5;124m\"\u001b[39m\u001b[38;5;124mgot \u001b[39m\u001b[38;5;132;01m%d\u001b[39;00m\u001b[38;5;124m.\u001b[39m\u001b[38;5;124m\"\u001b[39m \u001b[38;5;241m%\u001b[39m \u001b[38;5;28mlen\u001b[39m(frequencies))\n\u001b[1;32m    412\u001b[0m frequencies \u001b[38;5;241m=\u001b[39m frequencies[:\u001b[38;5;28mself\u001b[39m\u001b[38;5;241m.\u001b[39mmax_words]\n\u001b[1;32m    414\u001b[0m \u001b[38;5;66;03m# largest entry will be 1\u001b[39;00m\n",
      "\u001b[0;31mValueError\u001b[0m: We need at least 1 word to plot a word cloud, got 0."
     ]
    }
   ],
   "source": [
    "from wordcloud import WordCloud\n",
    "import matplotlib.pyplot as plt\n",
    "\n",
    "sdata = data.squeeze(axis=0)\n",
    "series = pd.Series(sdata)\n",
    "wordcloud = WordCloud(background_color='white').generate_from_frequencies(series)\n",
    "\n",
    "plt.figure(figsize=(15,15), facecolor = None)\n",
    "plt.imshow(wordcloud, interpolation='bilinear')\n",
    "plt.axis('off')\n",
    "plt.show()\n"
   ]
  }
 ],
 "metadata": {
  "kernelspec": {
   "display_name": "Python 3 (ipykernel)",
   "language": "python",
   "name": "python3"
  },
  "language_info": {
   "codemirror_mode": {
    "name": "ipython",
    "version": 3
   },
   "file_extension": ".py",
   "mimetype": "text/x-python",
   "name": "python",
   "nbconvert_exporter": "python",
   "pygments_lexer": "ipython3",
   "version": "3.11.3"
  }
 },
 "nbformat": 4,
 "nbformat_minor": 5
}
