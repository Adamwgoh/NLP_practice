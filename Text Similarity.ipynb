{
 "cells": [
  {
   "cell_type": "markdown",
   "id": "97836b66-7b79-482f-aa8c-6ff0a1e8dd33",
   "metadata": {},
   "source": [
    "## Text Similarity using Jaccard Similarity\n",
    "You can use Jaccard Similarity instead of using Cosine Similarity. It's also nice and common way to compute the similarity between two objects, such as two text documents. To explain the area of Jaccard similarity that can be used to find the similarity between two asymmetric binary vectors or to find the similarity between two sets.\n",
    "\n",
    "In order to calculate similarity using Jaccard similarity, you need to first perform lemmatization to reduce words to the same root word. Such as \"friendly\" -> \"friend\", \"has\" or \"have\" -> \"has\" in both text and so on.\n",
    "\n",
    "There are some differences between these two methods:\n",
    "\n",
    "* Jaccard similarity takes only unique set of words for each sentence / document while cosine similarity takes total length of the vectors. (these vectors could be made from bag of words term frequency or tf-idf)\n",
    "* This means that if you repeat the word “friend” in Sentence 1 several times, cosine similarity changes but Jaccard similarity does not. For ex, if the word “friend” is repeated in the first sentence 50 times, cosine similarity drops to 0.4 but Jaccard similarity remains at 0.5.\n",
    "* Jaccard similarity is good for cases where duplication does not matter, cosine similarity is good for cases where duplication matters while analyzing text similarity. For two product descriptions, it will be better to use Jaccard similarity as repetition of a word does not reduce their similarity.\n",
    "\n",
    "\n",
    "\n",
    "Task: \"Compare two documents through text similarity and Jaccard Similarity\"\n",
    "\n",
    "Baseline: Preprocess with the same pipeline of the same document. then, generate its cosine and jaccard similarity\n",
    "\n",
    "Experiment 1 : Alter the preprocess pipeline and run for both. See which one will drop in its calue."
   ]
  },
  {
   "cell_type": "code",
   "execution_count": 218,
   "id": "0a27dc4e-f402-4ce3-9729-176e1229a3d4",
   "metadata": {
    "tags": []
   },
   "outputs": [
    {
     "data": {
      "text/html": [
       "<div>\n",
       "<style scoped>\n",
       "    .dataframe tbody tr th:only-of-type {\n",
       "        vertical-align: middle;\n",
       "    }\n",
       "\n",
       "    .dataframe tbody tr th {\n",
       "        vertical-align: top;\n",
       "    }\n",
       "\n",
       "    .dataframe thead th {\n",
       "        text-align: right;\n",
       "    }\n",
       "</style>\n",
       "<table border=\"1\" class=\"dataframe\">\n",
       "  <thead>\n",
       "    <tr style=\"text-align: right;\">\n",
       "      <th></th>\n",
       "      <th>ID</th>\n",
       "      <th>Resume_str</th>\n",
       "      <th>Resume_html</th>\n",
       "      <th>Category</th>\n",
       "    </tr>\n",
       "  </thead>\n",
       "  <tbody>\n",
       "    <tr>\n",
       "      <th>0</th>\n",
       "      <td>16852973</td>\n",
       "      <td>HR ADMINISTRATOR/MARKETING ASSOCIATE\\...</td>\n",
       "      <td>&lt;div class=\"fontsize fontface vmargins hmargin...</td>\n",
       "      <td>HR</td>\n",
       "    </tr>\n",
       "    <tr>\n",
       "      <th>1</th>\n",
       "      <td>22323967</td>\n",
       "      <td>HR SPECIALIST, US HR OPERATIONS      ...</td>\n",
       "      <td>&lt;div class=\"fontsize fontface vmargins hmargin...</td>\n",
       "      <td>HR</td>\n",
       "    </tr>\n",
       "    <tr>\n",
       "      <th>2</th>\n",
       "      <td>33176873</td>\n",
       "      <td>HR DIRECTOR       Summary      Over 2...</td>\n",
       "      <td>&lt;div class=\"fontsize fontface vmargins hmargin...</td>\n",
       "      <td>HR</td>\n",
       "    </tr>\n",
       "    <tr>\n",
       "      <th>3</th>\n",
       "      <td>27018550</td>\n",
       "      <td>HR SPECIALIST       Summary    Dedica...</td>\n",
       "      <td>&lt;div class=\"fontsize fontface vmargins hmargin...</td>\n",
       "      <td>HR</td>\n",
       "    </tr>\n",
       "    <tr>\n",
       "      <th>4</th>\n",
       "      <td>17812897</td>\n",
       "      <td>HR MANAGER         Skill Highlights  ...</td>\n",
       "      <td>&lt;div class=\"fontsize fontface vmargins hmargin...</td>\n",
       "      <td>HR</td>\n",
       "    </tr>\n",
       "  </tbody>\n",
       "</table>\n",
       "</div>"
      ],
      "text/plain": [
       "         ID                                         Resume_str   \n",
       "0  16852973           HR ADMINISTRATOR/MARKETING ASSOCIATE\\...  \\\n",
       "1  22323967           HR SPECIALIST, US HR OPERATIONS      ...   \n",
       "2  33176873           HR DIRECTOR       Summary      Over 2...   \n",
       "3  27018550           HR SPECIALIST       Summary    Dedica...   \n",
       "4  17812897           HR MANAGER         Skill Highlights  ...   \n",
       "\n",
       "                                         Resume_html Category  \n",
       "0  <div class=\"fontsize fontface vmargins hmargin...       HR  \n",
       "1  <div class=\"fontsize fontface vmargins hmargin...       HR  \n",
       "2  <div class=\"fontsize fontface vmargins hmargin...       HR  \n",
       "3  <div class=\"fontsize fontface vmargins hmargin...       HR  \n",
       "4  <div class=\"fontsize fontface vmargins hmargin...       HR  "
      ]
     },
     "execution_count": 218,
     "metadata": {},
     "output_type": "execute_result"
    }
   ],
   "source": [
    "import re\n",
    "import pandas as pd\n",
    "import numpy as np\n",
    "import spacy\n",
    "import nltk\n",
    "from nltk.stem import WordNetLemmatizer\n",
    "from collections import Counter\n",
    "\n",
    "wn = WordNetLemmatizer()\n",
    "\n",
    "resume = pd.read_csv(\"archive/Resume/Resume.csv\")\n",
    "#resume = resume.reindex(np.random.permutation(resume.index))\n",
    "resume.head()\n"
   ]
  },
  {
   "cell_type": "code",
   "execution_count": 2,
   "id": "d1925903-70da-41dd-bcb5-97c626e99b30",
   "metadata": {
    "tags": []
   },
   "outputs": [],
   "source": [
    "from nltk.stem import WordNetLemmatizer\n",
    "from nltk.tokenize import sent_tokenize, word_tokenize\n",
    "stopwords = nltk.corpus.stopwords.words('english')\n",
    "def tokenize(input_doc):\n",
    "    tokens = []\n",
    "    wn = WordNetLemmatizer()\n",
    "    cptoken = [wn.lemmatize(x).lower() for x in word_tokenize(input_doc) if x not in stopwords and \\\n",
    "                 not x.isnumeric() and x.isalpha() and len(x) >= 2]\n",
    "        \n",
    "    return cptoken"
   ]
  },
  {
   "cell_type": "code",
   "execution_count": 3,
   "id": "c22781f7-9515-4d83-8d70-ff23aa2115e1",
   "metadata": {
    "tags": []
   },
   "outputs": [
    {
     "data": {
      "text/plain": [
       "<gensim.corpora.dictionary.Dictionary at 0x7fbb02addc50>"
      ]
     },
     "execution_count": 3,
     "metadata": {},
     "output_type": "execute_result"
    }
   ],
   "source": [
    "import gensim\n",
    "\n",
    "gensim.corpora.Dictionary()"
   ]
  },
  {
   "cell_type": "code",
   "execution_count": 221,
   "id": "57cf1e2a-b27c-4751-8e39-07b0e72a2c10",
   "metadata": {
    "tags": []
   },
   "outputs": [],
   "source": [
    "bow = {}\n",
    "corpus = {}\n",
    "fullcorpus = []\n",
    "rawcorpus = []\n",
    "# i switch from enumerate to index based because enumrate messes up with indexing\n",
    "for docid, doc in enumerate(resume.Resume_str):\n",
    "    words = tokenize(doc)\n",
    "    rbow = Counter(words)\n",
    "    corpus.setdefault(docid, None)\n",
    "    corpus[docid] = words\n",
    "    bow.setdefault(docid, None)\n",
    "    bow[docid] = rbow\n",
    "    fullcorpus.append(words)\n",
    "    rawcorpus.append(doc)"
   ]
  },
  {
   "cell_type": "code",
   "execution_count": 223,
   "id": "c7be23dd-f697-42d4-8886-ebb69be490e6",
   "metadata": {
    "tags": []
   },
   "outputs": [],
   "source": [
    "import gensim\n",
    "from gensim.similarities import MatrixSimilarity, Similarity\n",
    "\n",
    "id2bow = gensim.corpora.Dictionary(fullcorpus)\n",
    "\n",
    "# per doc id with its bow\n",
    "gensim_corpus = [id2bow.doc2bow(text) for text in fullcorpus]"
   ]
  },
  {
   "cell_type": "code",
   "execution_count": 243,
   "id": "9a705f20-10e3-4ed4-9471-7b4d2b01963e",
   "metadata": {
    "tags": []
   },
   "outputs": [],
   "source": [
    "# generate the cosine similarity\n",
    "tfidf_model = gensim.models.TfidfModel(gensim_corpus, id2word=id2bow)\n",
    "# Im not sure why but using tfidf value alone is not good enough we change to this\n",
    "# according to the paper imeplemented based on in gensim, 10 is good enogh\n",
    "lsi_model   = gensim.models.LsiModel(gensim_corpus, num_topics=10, id2word=id2bow)\n",
    "\n",
    "similarity_index = MatrixSimilarity(tfidf_model[gensim_corpus])\n",
    "similarity_index.num_best = 11\n"
   ]
  },
  {
   "cell_type": "code",
   "execution_count": 244,
   "id": "8a086adf-d29b-489d-a451-b0be8c84794a",
   "metadata": {
    "collapsed": true,
    "jupyter": {
     "outputs_hidden": true
    },
    "tags": []
   },
   "outputs": [
    {
     "name": "stdout",
     "output_type": "stream",
     "text": [
      "closest doc id: 1, score: 0.9999999403953552\n",
      "         HR SPECIALIST, US HR OPERATIONS       Summary     Versatile  media professional with background in Communications, Marketing, Human Resources and Technology.         Experience     09/2015   to   Current     HR Specialist, US HR Operations    Company Name   －   City  ,   State       Managed communication regarding launch of Operations group, policy changes and system outages      Designed standard work and job aids to create comprehensive training program for new employees and contractors         Audited job postings for old, pending, on-hold and draft positions.           Audited union hourly, non-union hourly and salary background checks and drug screens             Conducted monthly new hire benefits briefing to new employees across all business units               Served as a link between HR Managers and vendors by handling questions and resolving system-related issues         Provide real-time process improvement feedback on key metrics and initiatives  Successfully re-branded US HR Operations SharePoint site  Business Unit project manager for RFI/RFP on Background Check and Drug Screen vendor         01/2014   to   05/2015     IT, Marketing and Communications Co-op    Company Name   －   City  ,   State      Posted new articles, changes and updates to corporate SharePoint site including graphics and visual communications.  Researched and drafted articles and feature stories to promote company activities and programs.  Co-edited and developed content for quarterly published newsletter.  Provided communication support for internal and external events.  Collaborated with Communication team, media professionals and vendors to determine program needs for print materials, web design and digital communications.  Entrusted to lead product, service and software launches for Digital Asset Management tool, Marketing Toolkit website and Executive Tradeshows Calendar.  Created presentations for management and executive approval to ensure alignment with corporate guidelines and branding.  Maintained the MySikorsky SharePoint site and provided timely solutions to mitigate issues.      Created story board and produced video for annual IT All Hands meeting.         10/2012   to   01/2014     Relationship Coordinator/Marketing Specialist    Company Name   －   City  ,   State       Partnered with vendor to manage the in-house advertising program consisting of print and media collateral pieces.     Coordinated pre-show and post-show activities at trade shows.     Managed marketing campaigns to generate new business and to support partner and sales teams.     Ordered marketing collateral for meetings, trade shows and advisors.    Improved, administered and modified marketing programs to increase product awareness.  Assisted in preparing internal promotional publications, managed marketing material inventory and supervised distribution of publications to ensure high quality product output.  Coordinated marketing materials including brochures, promotional materials and products.  Partnered with graphic designers to develop appropriate materials and branding for brochures.  Used tracking and reporting systems for sales leads and appointments.         09/2009   to   10/2012     Assistant Head Teller    Company Name   －   City  ,   State       Received an internal audit score of  100 %.     Performed daily and monthly audits of ATM machines and tellers.     Educated customers on a variety of retail products and available credit options.       Consistently met or exceeded quarterly sales goals     Promoted products and services to\n",
      "customers while maintaining company brand identity\n",
      "\n",
      "·    \n",
      "  Implemented programs to achieve\n",
      "and exceed customer and company participation goals \n",
      "\n",
      "   Organized company sponsored events on campus resulting in increased\n",
      "brand awareness\n",
      "\n",
      "·    \n",
      "  Coached peers on\n",
      "the proper use of programs to improve work flow efficiency  Utilized product knowledge to successfully sell\n",
      "to and refer clients based on individual needs  Promoted marketing the grand opening\n",
      "of new branch locations to strengthen company brand affinity\n",
      "\n",
      "·       Organized company sponsored events\n",
      "resulting in increased brand awareness and improved sales\n",
      "\n",
      "·       Coached peers on the proper use of\n",
      "programs to increase work flow efficiency\n",
      "\n",
      "          Senior Producer - 2014 SHU Media Exchange    Company Name   －   City  ,   State      Planned and executed event focusing on Connecticut's creative corridor, growth of industry and opportunities that come with development. A  panel of industry professionals addressed topics related to media and hosted a question and answer session for approximately 110 attendees. Following the forum, guests were invited to engage in networking and conversation at a post-event reception.         Education     2014     Master of Arts  :   Corporate Communication & Public Relations    Sacred Heart University   －   City  ,   State             2013     Bachelor of Arts  :   Relational Communication    Western Connecticut State University   －   City  ,   State              Skills    Adobe Photoshop, ADP, Asset Management, branding, brochures, content, Customer Care, Final Cut Pro, graphics, graphic, HR, Illustrator, InDesign, Innovation, inventory, Lotus Notes, marketing, marketing materials, marketing material, materials, Microsoft Office, SharePoint, newsletter, presentations, process improvement, Project Management, promotional materials, publications, Quality, real-time, Recruitment, reporting, RFP, sales, stories, Employee Development, video, web design, website, articles   \n"
     ]
    }
   ],
   "source": [
    "from operator import itemgetter\n",
    "from nltk.tokenize import word_tokenize\n",
    "\n",
    "def get_similarity_result(term):\n",
    "    # Returns the similarity value of the term against a set of corpus. The highest value relates to highest simlarity\n",
    "    #tokenize_term = nltk.tokenize.word_tokenize(term)\n",
    "    val = id2bow.doc2bow(tokenize(term))\n",
    "    tfidf_val = tfidf_model[val]\n",
    "    lsi_val   = lsi_model[tfidf_val]\n",
    "    #Top 5 values    \n",
    "    similarity_value = similarity_index.get_similarities(tfidf_val)\n",
    "    assert similarity_value.shape[0] == len(fullcorpus)\n",
    "\n",
    "#    similarity_value.sort(key=itemgetter(1), reverse=True)\n",
    "\n",
    "    closest_docid = np.argmax(similarity_value)\n",
    "    highest_score = np.max(similarity_value)\n",
    "    print(f\"closest doc id: {closest_docid}, score: {highest_score}\")\n",
    "    print(resume.Resume_str[closest_docid])\n",
    "\n",
    "get_similarity_result(resume.Resume_str[1])"
   ]
  }
 ],
 "metadata": {
  "kernelspec": {
   "display_name": "Python 3 (ipykernel)",
   "language": "python",
   "name": "python3"
  },
  "language_info": {
   "codemirror_mode": {
    "name": "ipython",
    "version": 3
   },
   "file_extension": ".py",
   "mimetype": "text/x-python",
   "name": "python",
   "nbconvert_exporter": "python",
   "pygments_lexer": "ipython3",
   "version": "3.11.3"
  }
 },
 "nbformat": 4,
 "nbformat_minor": 5
}
