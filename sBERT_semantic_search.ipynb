{
 "cells": [
  {
   "cell_type": "markdown",
   "id": "168ffcbd-2654-415d-b2ec-96cabfcd839c",
   "metadata": {},
   "source": [
    "## Semantic Search with Siamese BERT embeddings\n",
    "This notebook demonstrates an example of using a pretrained Siamese BERT model and cosine similarity matrix for semantic search.\n"
   ]
  },
  {
   "cell_type": "code",
   "execution_count": 1,
   "id": "bc843750-d55b-4f8b-8c59-c1e3754bf9b6",
   "metadata": {
    "tags": []
   },
   "outputs": [
    {
     "name": "stderr",
     "output_type": "stream",
     "text": [
      "2023-06-12 14:17:56.693338: I tensorflow/core/platform/cpu_feature_guard.cc:182] This TensorFlow binary is optimized to use available CPU instructions in performance-critical operations.\n",
      "To enable the following instructions: AVX2 FMA, in other operations, rebuild TensorFlow with the appropriate compiler flags.\n",
      "2023-06-12 14:17:57.318177: W tensorflow/compiler/tf2tensorrt/utils/py_utils.cc:38] TF-TRT Warning: Could not find TensorRT\n",
      "2023-06-12 14:17:58.271763: I tensorflow/compiler/xla/stream_executor/cuda/cuda_gpu_executor.cc:996] successful NUMA node read from SysFS had negative value (-1), but there must be at least one NUMA node, so returning NUMA node zero. See more at https://github.com/torvalds/linux/blob/v6.0/Documentation/ABI/testing/sysfs-bus-pci#L344-L355\n",
      "2023-06-12 14:17:58.290654: I tensorflow/compiler/xla/stream_executor/cuda/cuda_gpu_executor.cc:996] successful NUMA node read from SysFS had negative value (-1), but there must be at least one NUMA node, so returning NUMA node zero. See more at https://github.com/torvalds/linux/blob/v6.0/Documentation/ABI/testing/sysfs-bus-pci#L344-L355\n",
      "2023-06-12 14:17:58.290860: I tensorflow/compiler/xla/stream_executor/cuda/cuda_gpu_executor.cc:996] successful NUMA node read from SysFS had negative value (-1), but there must be at least one NUMA node, so returning NUMA node zero. See more at https://github.com/torvalds/linux/blob/v6.0/Documentation/ABI/testing/sysfs-bus-pci#L344-L355\n"
     ]
    }
   ],
   "source": [
    "import re\n",
    "import pandas as pd\n",
    "import numpy as np\n",
    "import spacy\n",
    "import nltk\n",
    "from nltk.stem import WordNetLemmatizer\n",
    "from collections import Counter"
   ]
  },
  {
   "cell_type": "code",
   "execution_count": 2,
   "id": "e2665d3f-5538-410e-bf40-da8cfc124e9e",
   "metadata": {
    "tags": []
   },
   "outputs": [
    {
     "data": {
      "text/html": [
       "<div>\n",
       "<style scoped>\n",
       "    .dataframe tbody tr th:only-of-type {\n",
       "        vertical-align: middle;\n",
       "    }\n",
       "\n",
       "    .dataframe tbody tr th {\n",
       "        vertical-align: top;\n",
       "    }\n",
       "\n",
       "    .dataframe thead th {\n",
       "        text-align: right;\n",
       "    }\n",
       "</style>\n",
       "<table border=\"1\" class=\"dataframe\">\n",
       "  <thead>\n",
       "    <tr style=\"text-align: right;\">\n",
       "      <th></th>\n",
       "      <th>jobId</th>\n",
       "      <th>jobUrl</th>\n",
       "      <th>jobTitle</th>\n",
       "      <th>jobDescription</th>\n",
       "      <th>datePosted</th>\n",
       "      <th>companyId</th>\n",
       "      <th>companyIdNormalised</th>\n",
       "      <th>companyName</th>\n",
       "      <th>rawWageMin</th>\n",
       "      <th>rawWageMax</th>\n",
       "      <th>sourceName</th>\n",
       "      <th>qualifications</th>\n",
       "    </tr>\n",
       "  </thead>\n",
       "  <tbody>\n",
       "    <tr>\n",
       "      <th>0</th>\n",
       "      <td>00d9917e95ebbb58d237e90b5a01095947c31fbe119d82...</td>\n",
       "      <td>https://www.efinancialcareers.sg/jobs-Singapor...</td>\n",
       "      <td>Change Manager, IBOR Transition Programme</td>\n",
       "      <td>Change Manager, IBOR Transition Programme&lt;br/&gt;...</td>\n",
       "      <td>2022-04-01</td>\n",
       "      <td>7cc4c2d8b4893e7c64265beccd30d4c1b644cf8b57a9e8...</td>\n",
       "      <td>06634f73009b4765beafae5f98c0996b33870a3d34fa87...</td>\n",
       "      <td>Standard Chartered Bank</td>\n",
       "      <td>0</td>\n",
       "      <td>0</td>\n",
       "      <td>E-FinancialCareer</td>\n",
       "      <td>['No Requirement']</td>\n",
       "    </tr>\n",
       "    <tr>\n",
       "      <th>1</th>\n",
       "      <td>0104963e8e1289488f2ff96edfe95dddc9ab84231b37a5...</td>\n",
       "      <td>https://www.efinancialcareers.sg/jobs-Singapor...</td>\n",
       "      <td>Analyst, KYC Analyst, Corporate Banking, Insti...</td>\n",
       "      <td>Analyst, KYC Analyst, Corporate Banking, Insti...</td>\n",
       "      <td>2022-04-01</td>\n",
       "      <td>c3475240458aa07566e1db7eec98affa5d85d8bd2b9577...</td>\n",
       "      <td>1810faaf5f96a398f5b43df1b80809dbf5b7935f94a5f7...</td>\n",
       "      <td>DBS Bank Limited</td>\n",
       "      <td>0</td>\n",
       "      <td>0</td>\n",
       "      <td>E-FinancialCareer</td>\n",
       "      <td>['Bachelors']</td>\n",
       "    </tr>\n",
       "    <tr>\n",
       "      <th>2</th>\n",
       "      <td>01561a39ff31372551e0be1caaf6a2c32150925f75af76...</td>\n",
       "      <td>https://www.jobstreet.com.sg/en/job/senior-leg...</td>\n",
       "      <td>(Senior) Legal Counsel, Autumn Venture - SC Ve...</td>\n",
       "      <td>About Standard CharteredWe are a leading inter...</td>\n",
       "      <td>2022-04-01</td>\n",
       "      <td>a1ad3581a81222507fa918dc2d978ed1db672c44415c3f...</td>\n",
       "      <td>25fa191ddad0bb854bd7bbe811437b1c820271351c4ac8...</td>\n",
       "      <td>Autumn Life Pte. Ltd.</td>\n",
       "      <td>0</td>\n",
       "      <td>0</td>\n",
       "      <td>JobStreetSG</td>\n",
       "      <td>['No Requirement']</td>\n",
       "    </tr>\n",
       "    <tr>\n",
       "      <th>3</th>\n",
       "      <td>0110a85844f5aa0b87060109b25567903d2188130391b2...</td>\n",
       "      <td>https://www.efinancialcareers.sg/jobs-Singapor...</td>\n",
       "      <td>Product/Data Analyst</td>\n",
       "      <td>About us&lt;br/&gt;Endowus is Asia's leading fee-onl...</td>\n",
       "      <td>2022-04-01</td>\n",
       "      <td>4aac38458acbd96d2de7ceda69e0c3f9923c5c8b4773f5...</td>\n",
       "      <td>3c7c5b38bc57d7f85029e41a219822866fe3dd6587027a...</td>\n",
       "      <td>Endowus</td>\n",
       "      <td>0</td>\n",
       "      <td>0</td>\n",
       "      <td>E-FinancialCareer</td>\n",
       "      <td>['Bachelors']</td>\n",
       "    </tr>\n",
       "    <tr>\n",
       "      <th>4</th>\n",
       "      <td>02728a523b995791d2c81657a906c223cfdec4a9eb980b...</td>\n",
       "      <td>https://www.efinancialcareers.sg/jobs-Singapor...</td>\n",
       "      <td>Product Operations Associate (Account Opening)</td>\n",
       "      <td>About us&lt;br/&gt;Endowus is Asia's leading fee-onl...</td>\n",
       "      <td>2022-04-01</td>\n",
       "      <td>4aac38458acbd96d2de7ceda69e0c3f9923c5c8b4773f5...</td>\n",
       "      <td>3c7c5b38bc57d7f85029e41a219822866fe3dd6587027a...</td>\n",
       "      <td>Endowus</td>\n",
       "      <td>0</td>\n",
       "      <td>0</td>\n",
       "      <td>E-FinancialCareer</td>\n",
       "      <td>['No Requirement']</td>\n",
       "    </tr>\n",
       "  </tbody>\n",
       "</table>\n",
       "</div>"
      ],
      "text/plain": [
       "                                               jobId  \\\n",
       "0  00d9917e95ebbb58d237e90b5a01095947c31fbe119d82...   \n",
       "1  0104963e8e1289488f2ff96edfe95dddc9ab84231b37a5...   \n",
       "2  01561a39ff31372551e0be1caaf6a2c32150925f75af76...   \n",
       "3  0110a85844f5aa0b87060109b25567903d2188130391b2...   \n",
       "4  02728a523b995791d2c81657a906c223cfdec4a9eb980b...   \n",
       "\n",
       "                                              jobUrl  \\\n",
       "0  https://www.efinancialcareers.sg/jobs-Singapor...   \n",
       "1  https://www.efinancialcareers.sg/jobs-Singapor...   \n",
       "2  https://www.jobstreet.com.sg/en/job/senior-leg...   \n",
       "3  https://www.efinancialcareers.sg/jobs-Singapor...   \n",
       "4  https://www.efinancialcareers.sg/jobs-Singapor...   \n",
       "\n",
       "                                            jobTitle  \\\n",
       "0          Change Manager, IBOR Transition Programme   \n",
       "1  Analyst, KYC Analyst, Corporate Banking, Insti...   \n",
       "2  (Senior) Legal Counsel, Autumn Venture - SC Ve...   \n",
       "3                               Product/Data Analyst   \n",
       "4     Product Operations Associate (Account Opening)   \n",
       "\n",
       "                                      jobDescription datePosted  \\\n",
       "0  Change Manager, IBOR Transition Programme<br/>... 2022-04-01   \n",
       "1  Analyst, KYC Analyst, Corporate Banking, Insti... 2022-04-01   \n",
       "2  About Standard CharteredWe are a leading inter... 2022-04-01   \n",
       "3  About us<br/>Endowus is Asia's leading fee-onl... 2022-04-01   \n",
       "4  About us<br/>Endowus is Asia's leading fee-onl... 2022-04-01   \n",
       "\n",
       "                                           companyId  \\\n",
       "0  7cc4c2d8b4893e7c64265beccd30d4c1b644cf8b57a9e8...   \n",
       "1  c3475240458aa07566e1db7eec98affa5d85d8bd2b9577...   \n",
       "2  a1ad3581a81222507fa918dc2d978ed1db672c44415c3f...   \n",
       "3  4aac38458acbd96d2de7ceda69e0c3f9923c5c8b4773f5...   \n",
       "4  4aac38458acbd96d2de7ceda69e0c3f9923c5c8b4773f5...   \n",
       "\n",
       "                                 companyIdNormalised              companyName  \\\n",
       "0  06634f73009b4765beafae5f98c0996b33870a3d34fa87...  Standard Chartered Bank   \n",
       "1  1810faaf5f96a398f5b43df1b80809dbf5b7935f94a5f7...         DBS Bank Limited   \n",
       "2  25fa191ddad0bb854bd7bbe811437b1c820271351c4ac8...    Autumn Life Pte. Ltd.   \n",
       "3  3c7c5b38bc57d7f85029e41a219822866fe3dd6587027a...                  Endowus   \n",
       "4  3c7c5b38bc57d7f85029e41a219822866fe3dd6587027a...                  Endowus   \n",
       "\n",
       "   rawWageMin  rawWageMax         sourceName      qualifications  \n",
       "0           0           0  E-FinancialCareer  ['No Requirement']  \n",
       "1           0           0  E-FinancialCareer       ['Bachelors']  \n",
       "2           0           0        JobStreetSG  ['No Requirement']  \n",
       "3           0           0  E-FinancialCareer       ['Bachelors']  \n",
       "4           0           0  E-FinancialCareer  ['No Requirement']  "
      ]
     },
     "execution_count": 2,
     "metadata": {},
     "output_type": "execute_result"
    }
   ],
   "source": [
    "raw_data = pd.read_excel('test_data.xlsx')\n",
    "raw_data.head()"
   ]
  },
  {
   "cell_type": "markdown",
   "id": "fda6b928-ee9e-4b17-a603-990c9a6c2e34",
   "metadata": {},
   "source": [
    "## Data Cleaning\n",
    "\n",
    "Lemmatization, and removal of html tags, stopwords, etc."
   ]
  },
  {
   "cell_type": "code",
   "execution_count": 3,
   "id": "85bfa509-f28d-4675-b127-1ae6d4c4d35e",
   "metadata": {
    "tags": []
   },
   "outputs": [],
   "source": [
    "from nltk.stem import WordNetLemmatizer\n",
    "from nltk.tokenize import sent_tokenize, word_tokenize\n",
    "\n",
    "stopwords = nltk.corpus.stopwords.words('english')\n",
    "from nltk.stem import snowball\n",
    "stemmer = snowball.SnowballStemmer(\"english\")\n",
    "stemmer.stem(\"abilitydiploma\")\n",
    "\n",
    "def clean_text(text):\n",
    "    # remove htmltags and new lines/tags\n",
    "    try:\n",
    "        text = re.sub(r'<.[a-zA-Z]+.>', ' ', text)\n",
    "        text = re.sub(r'&.[a-zA-Z]+.;', '', text)\n",
    "        #text = re.sub(r'^[a-zA-Z.]', '', text)\n",
    "        text = re.sub(r'httpS+s*', ' ', text)\n",
    "        text = re.sub(r'\\.', '', text)\n",
    "        text = re.sub(r'\\(', '',text)\n",
    "        text = re.sub(r'\\)', '',text)\n",
    "        text = re.sub(r' +', ' ',text)\n",
    "        text = text.lower()\n",
    "    except Exception as e:\n",
    "        print(f\"Error: {text}\")\n",
    "        return text\n",
    "\n",
    "    return text\n",
    "\n",
    "def clean_sent(text):\n",
    "    words = tokenize(text)\n",
    "    final = \" \".join(words)\n",
    "    \n",
    "    return final\n",
    "\n",
    "def tokenize(input_doc):\n",
    "    tokens = []\n",
    "    wn = WordNetLemmatizer()\n",
    "    cptoken = [\n",
    "        #wn.lemmatize(stemmer.stem(x.lower())) for x in word_tokenize(input_doc) \n",
    "        x.lower() for x in word_tokenize(input_doc) \n",
    "        if x not in stopwords and len(x) >= 2\n",
    "    ]\n",
    "        \n",
    "    return cptoken\n",
    "\n",
    "#check for nulls\n",
    "def clean_col(text):\n",
    "    if text.isnull().values.any():\n",
    "        text.dropna(how='any', inplace=True)\n",
    "    text.drop_duplicates(inplace=True)\n",
    "\n",
    "    return text\n"
   ]
  },
  {
   "cell_type": "code",
   "execution_count": 4,
   "id": "a5fae4c4-a181-4508-b6ac-d1177f86f166",
   "metadata": {
    "tags": []
   },
   "outputs": [
    {
     "data": {
      "text/plain": [
       "'responsibilitiesmanage lead team provide residential services effectivelymaintain synergy hotel on-site managing agent resident councilresponsible time attendance record supervised team ensure accurate billing process mcstoversee maintenance accurate updated occupant records ensuring staff adherence confidentiality residents contact details personal informationconduct regular staff meetings maintain open channel communicationresolve resident complaints management office maintain high level resident satisfaction service qualitycommunicate on-site management office resident feedback recurring challenges improvementsparticipate site meetings convened management office requiredconduct participate yearly service excellence audit collaborate on-site managing agent meet compliancemaintain ongoing schedules ensure residential facilities safe clean attractivemaintain compliance regulatory requirements including workplace health amp safety occupational health amp safetyrequirementsdiploma hospitality management equivalentmin years experience least years leadership role luxury hospitality servicestrong leadership communication skillsability build trusting relationships stakeholdersproficient ms office-'"
      ]
     },
     "execution_count": 4,
     "metadata": {},
     "output_type": "execute_result"
    }
   ],
   "source": [
    "# preprocess sample\n",
    "clean_sent(clean_text(raw_data.jobDescription[68]))"
   ]
  },
  {
   "cell_type": "code",
   "execution_count": 5,
   "id": "0592c3ee-9168-479a-82b4-1f55650ed3dc",
   "metadata": {
    "tags": []
   },
   "outputs": [
    {
     "name": "stderr",
     "output_type": "stream",
     "text": [
      "/tmp/ipykernel_31729/599121250.py:6: FutureWarning: DataFrame.set_axis 'inplace' keyword is deprecated and will be removed in a future version. Use `obj = obj.set_axis(..., copy=False)` instead\n",
      "  raw_data.set_axis(range(len(raw_data)), inplace=True)\n"
     ]
    },
    {
     "name": "stdout",
     "output_type": "stream",
     "text": [
      "NaN rows: False\n",
      "total length after removal: 99994\n",
      "CPU times: user 10.4 s, sys: 104 ms, total: 10.5 s\n",
      "Wall time: 10.5 s\n",
      "standard chartered bank, change manager, ibor transition programme, change manager, ibor transition programme about standard chartered we are a leading international bank focused on helping people and companies prosper across asia, africa and the middle east to us, good performance is about much more than turning a profit it's about showing how you embody our valued behaviours - do the right thing, better together and never settle - as well as our brand promise, here for good we're committed to promoting equality in the workplace and creating an inclusive and flexible culture - one where everyone can realise their full potential and make a positive contribution to our organisation this in turn helps us to provide better support to our broad client base 12 months direct contract the role responsibilities develop, drive and deliver coherent communications and engagement strategies to support the changes defined by the ibor transition programme programme develop announcements, training material, and other relevant collaterals to support stakeholders' communication needs serve as a primary liaison and establish relationships with subject matter experts across the businesses and functions to ensure alignment with the programme's messaging and objectives manage internal and client queries coming through the programme's mailboxes and ensure an efficient tracking process conduct daily search for related regulatory/industry/market news for the weekly and monthly internal publications maintain and update content on the bridge page and external website other responsibilities prepare insightful analysis reports on key channels mailbox, training for internal and external stakeholders drive continuous improvement in our communications/engagement activities establish feedback loops with business and functions working groups to keep up to date with the latest internal and external developments regulatory business conduct display exemplary conduct and live by the group's values and code of conduct take personal responsibility for embedding the highest standards of ethics, including regulatory and business conduct, across standard chartered bank this includes understanding and ensuring compliance effectively and collaboratively identify, escalate, mitigate and resolve risk, conduct and compliance matters key stakeholders all business and functions workstreams across the programme, including workstream leads, project managers, accountable executives, regional representatives, subject matter experts, and external consultants our ideal candidate previous experience working in ccib, particularly global banking, corporate finance, commercial banking, and financial institutions would be preferable experience working on global programmes or cross-functional strategic projects that span across markets and businesses, involving the necessary levels of governance and project requirements effective communicator, able to convey complex ideas in a clear, concise manner both verbally and in writing with full understanding and articulation of proper english grammar in line with the bank's style guide energetic self-starter with a proven track record for getting things done in a high-growth, ambiguous environment creative thinking, flexibility and adaptability, with the ability to bring new ideas and approaches to the table, as well as the ability to tailor the approach to meet the programme's needs and quickly pivot as business circumstances evolve strong level of comfort with business and technical discussions, with the ability to understand and articulate the business and people impacts of technical actions and vice versa organised and meticulous, with the ability to provide detailed documentation processes and accurate mi reports 8 years of experience our ideal candidate change management practitioner certification and/or project management professional pmp practical expertise in creative collateral delivery, such as client-centric material role specific technical competencies content creation business communications, presentations, and reports ibor transition general knowledge regulatory environment - financial services organisational change management banking products and services knowledge apply now to join the bank for those with big career ambitions to view information on our benefits including our flexible working please visit our career pages we welcome conversations on flexible working\n"
     ]
    },
    {
     "name": "stderr",
     "output_type": "stream",
     "text": [
      "/tmp/ipykernel_31729/599121250.py:14: FutureWarning: DataFrame.set_axis 'inplace' keyword is deprecated and will be removed in a future version. Use `obj = obj.set_axis(..., copy=False)` instead\n",
      "  raw_data.set_axis(range(len(raw_data)), inplace=True)\n"
     ]
    }
   ],
   "source": [
    "# remove NaN rows\n",
    "raw_data['jobdata'] = raw_data[['companyName', 'jobTitle', 'jobDescription']].apply(lambda x: \", \".join(x.dropna().astype(str)), axis=1)\n",
    "if raw_data.isnull().values.any():\n",
    "    raw_data.dropna(how='any', inplace=True)\n",
    "raw_data.reset_index(drop=True, inplace=True)\n",
    "raw_data.set_axis(range(len(raw_data)), inplace=True)\n",
    "print(f\"NaN rows: {raw_data.isnull().values.any()}\")\n",
    "print(f\"total length after removal: {len(raw_data)}\")\n",
    "\n",
    "# We have to do drop duplicates and reindex again after applying text transformation\n",
    "%time raw_data['jobdata'] = raw_data['jobdata'].apply(clean_text)\n",
    "raw_data.drop_duplicates(subset=['jobdata'], keep=\"first\",inplace=True)\n",
    "raw_data.reset_index(drop=True, inplace=True)\n",
    "raw_data.set_axis(range(len(raw_data)), inplace=True)\n",
    "#sample output\n",
    "print(raw_data['jobdata'][0])"
   ]
  },
  {
   "cell_type": "code",
   "execution_count": 6,
   "id": "c9a14502-a38e-40ff-92b8-d8ad3ad1b876",
   "metadata": {
    "tags": []
   },
   "outputs": [],
   "source": [
    "# check for badly formed sentences\n",
    "# drop_index = []\n",
    "# for jidx, jd in raw_data.iterrows():\n",
    "#     if len(word_tokenize(raw_data['agg'])) <= 3:\n",
    "#         print(f\"{jidx}: \", raw_data['agg'])"
   ]
  },
  {
   "cell_type": "code",
   "execution_count": 7,
   "id": "77fec07a-347d-40a6-ac20-f71615d738ce",
   "metadata": {
    "tags": []
   },
   "outputs": [
    {
     "data": {
      "text/plain": [
       "SentenceTransformer(\n",
       "  (0): Transformer({'max_seq_length': 256, 'do_lower_case': False}) with Transformer model: RobertaModel \n",
       "  (1): Pooling({'word_embedding_dimension': 768, 'pooling_mode_cls_token': False, 'pooling_mode_mean_tokens': True, 'pooling_mode_max_tokens': False, 'pooling_mode_mean_sqrt_len_tokens': False, 'pooling_mode_weightedmean_tokens': False, 'pooling_mode_lasttoken': False})\n",
       ")"
      ]
     },
     "execution_count": 7,
     "metadata": {},
     "output_type": "execute_result"
    }
   ],
   "source": [
    "from sentence_transformers import SentenceTransformer, util\n",
    "import torch\n",
    "\n",
    "# we use siamese-BERT for our embedding as it maps paragraphs and sentences into a fixed vector space\n",
    "model = SentenceTransformer('sentence-transformers/paraphrase-distilroberta-base-v2')\n",
    "device = torch.device(\"cuda\")\n",
    "model.to(device)"
   ]
  },
  {
   "cell_type": "code",
   "execution_count": 8,
   "id": "382b51c0-35cb-4eaf-b3a8-17dd611cef16",
   "metadata": {
    "tags": []
   },
   "outputs": [
    {
     "name": "stdout",
     "output_type": "stream",
     "text": [
      "CPU times: user 8min 55s, sys: 2.28 s, total: 8min 57s\n",
      "Wall time: 7min\n"
     ]
    }
   ],
   "source": [
    "%time embeddings = model.encode(raw_data['jobdata'])"
   ]
  },
  {
   "cell_type": "code",
   "execution_count": 9,
   "id": "eb48d71c-e539-47c6-bdaa-1e7df6bdab2a",
   "metadata": {
    "tags": []
   },
   "outputs": [],
   "source": [
    "embeddings.shape\n",
    "cuda_embeddings = torch.from_numpy(embeddings).float().to(device)"
   ]
  },
  {
   "cell_type": "code",
   "execution_count": 20,
   "id": "b8a17104-4b30-4493-8411-bfe1c6fe55de",
   "metadata": {
    "tags": []
   },
   "outputs": [],
   "source": [
    "# Sample queries\n",
    "queries = [\n",
    "    'data scientist job in financial sector', \n",
    "    'Remote only job', \n",
    "    'Web frontend react',\n",
    "    'sales executive',\n",
    "    'Devops AWS',\n",
    "    'Cooking job'\n",
    "]"
   ]
  },
  {
   "cell_type": "code",
   "execution_count": 21,
   "id": "598cb07a-3022-40b8-84bd-f744b4a29126",
   "metadata": {
    "tags": []
   },
   "outputs": [
    {
     "name": "stdout",
     "output_type": "stream",
     "text": [
      "\n",
      "\n",
      "======================\n",
      "\n",
      "\n",
      "Query: data scientist job in financial sector\n",
      "tensor([0.6497, 0.6418, 0.6390, 0.6387, 0.6368], device='cuda:0')\n",
      "\n",
      "Top 5 most similar sentences in corpus:\n",
      "\n",
      "idx: 3138 (Score: 0.6497)\n",
      "Text:\n",
      " singapore exchange limited, financial data engineer, job description amp requirementsa financial data engineer is responsible for developing, testing and maintaining architectures to improve data reliability and processing efficienciesyou will produce regular reports using financial data for leadership review, and work collaboratively across the entire finance team to analyse sgxs business performance and strategyyou will work closely with financial data analyst in forecasting future revenue and expenditures to help determine budgets for upcoming projectskey duties include: improving current methods used in the collection of data from other parts of the company while retaining the essential integrity and security of the information collected analyze financial data and create financial models for decision support identify and drive process improvements, including the creation of standard and ad-hoc reports, tools and dashboards increase productivity by developing automated reporting and forecasting tools perform market research, data mining, business intelligence and company analysis encourage the transfer of relevant knowledge to the parties that require it the mostrequirementsa good degree in one of the following subjects: analytics/ computer modelling/ science or mathematics finance/ accountancy/ economicsa finance data engineer is also expected to demonstrate the following qualities: good critical thinking skills and problem solving skills strong quantitative and analytical competency high attention to detail and the ability to perform forward-thinking forecasts based upon financial trends research proficiency in python, r, tableau good verbal and written communication skills abreast of industry updatesother qualifications and skills include: corporate finance, developing standards, quality management, problem solving, process improvement, cost accounting, statistical analysis, financial forecasting, financial planning and strategy, reporting research results, requirements analysis, financial skills-\n",
      "\n",
      "idx: 14133 (Score: 0.6418)\n",
      "Text:\n",
      " united overseas bank limited, avp, data analytics, corporate real estate services / human resource, - roles responsibilities : job responsibilities \tresponsible for the communication of action plans and following-up on action items \tanalyse data and perform research for market insight eg comparisons of companies based on available data on platforms such as sgx webpage or in the media \tproactively collaborate with stakeholders on data-related tasks job requirements \tdegree in it or data-related fields \tat least 5 years of relevant experience in data analytics or analyst roles \toutstanding communication and interpersonal abilities \texcellent knowledge of ms office, databases and information systems \tgood understanding of research methods and data analysis techniques\n",
      "\n",
      "idx: 20592 (Score: 0.6390)\n",
      "Text:\n",
      " citibank na, 22436757 data scientist, - roles responsibilities : job background/context: we are looking for a data scientist with deep analytics and statistics background who can contribute on finding new insights on data ability to conduct high-level market and business research to identify trends and opportunities the candidate will be working closely with data engineer, application developers and tts business units to realize data and ai based solutions for high impact business problems/projects through in-depth data discovery and exploration key responsibilities: identify valuable data sources and automate collection processes undertake preprocessing of structured and unstructured data analyze large amounts of information to discover trends and patterns build predictive models and machine-learning algorithms combine models through ensemble modeling present information using data visualization techniques propose solutions and strategies to business challenges collaborate with engineering and product development teams the candidate needs to be able to present back the findings to the business in a business friendly manner knowledge/experience: essential total 8 years of overall experience with minimum 5 years of experience in dealing with data analytics/modeling/mining/engineering strong problem-solving skills strong mathematical and analytical skills experience in data mining techniques knowledge of advanced statistical methods and concepts extensive knowledge of predictive modeling algorithms and frameworks experience using statistical computer languages like r and python to manipulate data and draw insights from large data sets experience working with and creating data architectures knowledge of a variety of machine learning techniques like but not limited to clustering, decision tree learning, artificial neural networks, and their real-world advantages/drawbacks desirable have been part of an agile development team in a reciprocal environment openness to learn new and emerging technologies skills: technical skills essential deep understanding of architecture and system integration experience analyzing data from third-party providers like adwords, facebook insights, google analytics, and hexagon real-time and dynamic data analysis expertise such as airline in-flight data, on-track engine data is a plus experience in both nosql databases and relational databases for example, couch, mongodb, and neo4j experience developing automated workflows python or r experience using web services like digital ocean, redshift, spark, and s3 experience visualizing and presenting data using business objects, periscope, ggplot, and d3 experience with distributed data/computing tools like map/reduce, hadoop, hive, spark, and gurobi experience with data visualization tools like tableau desirable experience working in a cloud environment with large data sets qualifications: degree/certifications essential masters degree or phd in computer science, math, engineering, or a related quantitative field demonstrated leadership and project/program management skills certification from a recognized institution on one of data analytics, machine learning and deep learning consistently demonstrates clear and concise written and verbal communication competencies soft skills you are looking for in a candidate great team player\n",
      "\n",
      "idx: 14153 (Score: 0.6387)\n",
      "Text:\n",
      " united overseas bank limited, vp, data analytics, corporate real estate services / human resource, - roles responsibilities : job responsibilities \tresponsible for the communication of action plans and following-up on action items \tanalyse data and perform research for market insight eg comparisons of companies based on available data on platforms such as sgx webpage or in the media \tproactively collaborate with stakeholders on data-related tasks job requirements \tdegree in it or data-related fields \tat least 7 years of relevant experience in data analytics or analyst roles \toutstanding communication and interpersonal abilities \texcellent knowledge of ms office, databases and information systems \tgood understanding of research methods and data analysis techniques\n",
      "\n",
      "idx: 14135 (Score: 0.6368)\n",
      "Text:\n",
      " united overseas bank limited, senior officer, data analytics, corporate real estate services / human resource, - roles responsibilities : job responsibilities \tresponsible for the communication of action plans and following-up on action items \tanalyse data and perform research for market insight eg comparisons of companies based on available data on platforms such as sgx webpage or in the media \tproactively collaborate with stakeholders on data-related tasks job requirements \tdegree in it or data-related fields \tat least 2 years of relevant experience in data analytics or analyst roles \toutstanding communication and interpersonal abilities \texcellent knowledge of ms office, databases and information systems \tgood understanding of research methods and data analysis techniques\n",
      "\n",
      "\n",
      "\n",
      "======================\n",
      "\n",
      "\n",
      "Query: Remote only job\n",
      "tensor([0.4498, 0.4436, 0.4430, 0.4214, 0.4163], device='cuda:0')\n",
      "\n",
      "Top 5 most similar sentences in corpus:\n",
      "\n",
      "idx: 32770 (Score: 0.4498)\n",
      "Text:\n",
      " credit culture pte ltd, remote work from home flexible hour, job descriptions handle customer service hotline and provide first level of support arrange daily schedule for field mechanic attend breakdown /servicing resolve customer queries efficiently and escalate problems/issues promptly and prepare quotation where necessary follow-up on outstanding cases and perform a call back to client if necessary collate and update machine data according to specified templates manage warranty submission for new machinery telehandler/mewp/generator, etc administrative duties where applicable to support operations any ad hoc duties as assigned telegram: @primpei 'for more details -\n",
      "\n",
      "idx: 1888 (Score: 0.4436)\n",
      "Text:\n",
      " universal far east pte ltd, technical specialist/technician, job descriptionprovide system installation and service at customers' site and/or in-housebasic troubleshooting, maintenance and repair on designated equipmentperform preventive maintenance and field modificationsmaintaining customer service logs and internal service records in a timely mannerto perform a routine task using prescribed proceduresmaintaining tools and test equipment and ensure they are properly calibratedother ad-hoc duties as assigned by supervisor/managerjob requirements:nitec or equivalent in electrical/electronics/mechanical/mechatronic with at least 2 years of relevant experienceself-motivated and able to work independently with minimal supervisionwilling to travel to customers' sites as and when required-\n",
      "\n",
      "idx: 19986 (Score: 0.4430)\n",
      "Text:\n",
      " universal far east pte ltd, technical specialist, - roles responsibilities : job description provide system installation and service at customers' site and/or in-house basic troubleshooting, maintenance and repair on designated equipment perform preventive maintenance and field modifications maintaining customer service logs and internal service records in a timely manner to perform a routine task using prescribed procedures maintaining tools and test equipment and ensure they are properly calibrated other ad-hoc duties as assigned by supervisor/manager job requirements: nitec or equivalent in electrical/electronics/mechanical/mechatronic with at least 2 years of relevant experience self-motivated and able to work independently with minimal supervision willing to travel to customers' sites as and when required\n",
      "\n",
      "idx: 29740 (Score: 0.4214)\n",
      "Text:\n",
      " veltiston group, appointment setting officer #urgent, roles responsibilities you are expected to be a determined and hardworking individual **and you must have a preference to work from home job tasks include: communicating with new prospects and arrange sales appointments follow up with existing clients to ensure they are happy with our service coordination work between sales and administration service you are expected to work from home, so you must be disciplined and independent\n",
      "\n",
      "idx: 18674 (Score: 0.4163)\n",
      "Text:\n",
      " nomura singapore limited, analyst - desktop support engineer - information technology, job overview the desktop support engineers role is to support and maintain organizational computer systems, desktops, workstations, vdi, laptops, peripherals and software systems that includes installing, diagnosing, repairing, maintaining, and upgrading all organizational hardware and equipment while ensuring optimal workstation performance the person will also troubleshoot problem areas in person, by telephone, or via ticketing system in a timely and accurate fashion, and provide end-user assistance where required physically in office or remotely responsibilities the candidate will join the workspace services desktop team to provide customer support across end user computing technology platform physically in office and remotely to end users perform both on-site and remote analysis, diagnosis, and resolution of complex desktop problems for end users, and recommend and implement corrective solutions, including off-site repair for remote users as needed install, configure, test, maintain, monitor, and troubleshoot end user and network hardware, peripheral devices, printing/scanning devices, presentation equipment, software, and other products in order to deliver required desktop service levels construct, install, and test customized configurations based on various platforms and operating systems collaborate and next level escalation with technology team members to ensure efficient operation of the organization's desktop computing environment receive and respond to incoming calls, emails, tickets and/or work orders regarding desktop problems inventory record keeping, monitoring and coordination and status report for relocation coordinate office restack and it equipment relocation related to end user devices ensure desktop connections from top down by performing various checks on regular basis prepare tests and applications for monitoring desktop performance, then provide performance statistics and reports liaise with third-party support and pc equipment vendors perform related duties consistent with the scope and intent of the position requirements hands-on experience with microsoft windows operating systems and microsoft office environment excellent knowledge of network security practices and anti-virus programs excellent knowledge of pc and desktop hardware excellent knowledge of pc internal components hands-on hardware troubleshooting experience extensive equipment support experience working technical knowledge of current protocols, operating systems, and standards ability to operate tools, components, and peripheral accessories able to read and understand technical manuals, procedural documentation and oem guides strong customer service orientation strong sense of work ethics and discipline in complying with regulations and policies proven problem-solving abilities and multitasking skills ability to effectively prioritize and execute tasks in a high-pressure environment good written, oral, and interpersonal communication skills in english ability to conduct research into pc and software issues and products as required ability to present ideas in business-friendly and user-friendly language ability to perform remote troubleshooting and provide clear instructions highly self-motivated and result-driven to be able to deliver independently keen attention to detail team-oriented and skilled in working within a collaborative environment lifting and transporting of moderately heavy objects, such as computers and peripherals occasionally requirement to perform work at external location eg user place or event venue preferred minimum 3 years of desktop support experience in microsoft windows operating systems and microsoft office environment solid experience in supporting financial institution and have good understating of support system/ticketing system knowledge of market data and financial operating models will be advantage diversity statement nomura is committed to an employment policy of equal opportunities, and is fundamentally opposed to any less favourable treatment accorded to existing or potential members of staff on the grounds of race, creed, colour, nationality, disability, marital status, pregnancy, gender or sexual orientation ts id: 1215920 -\n",
      "\n",
      "\n",
      "\n",
      "======================\n",
      "\n",
      "\n",
      "Query: Web frontend react\n",
      "tensor([0.4562, 0.4524, 0.4420, 0.4308, 0.4244], device='cuda:0')\n",
      "\n",
      "Top 5 most similar sentences in corpus:\n",
      "\n",
      "idx: 34898 (Score: 0.4562)\n",
      "Text:\n",
      " malayan banking berhad, frontend developer, digital & crm, responsibilities gather, document and analyze business requirements in order to help define scope of software development initiatives may include web page mock-ups and interaction prototyping produce and maintain documentation related to application software eq scope requirements, logical and technical designs, testing and implementation plans troubleshoot and implement bug fixes related to client and user reported issues architect and implement web ui based on provided wireframes and business requirements play proactive support role and take ownership of technical issues, and work with internal/ cross functional/ external team to resolve more advanced issues when necessary experience degree in computer science, computer programming, or related degree with at least 2 years relevant experience experience in es6 and frontend javascript frameworks ******** and/or react native is a must solid understanding of redux and best practices for highly performant js code knowledge of webpack and nodejs would be a huge advantage working experience of git version control proficient in bootstrap or equivalent css frameworks knowledge on sass/less css preprocessors are preferred detail-oriented with eyes sensitive to the aesthetics of ui layout -\n",
      "\n",
      "idx: 18155 (Score: 0.4524)\n",
      "Text:\n",
      " wechain fintech pte ltd, frontend engineer, responsibilities responsible for the company's high-performance, global website development, and maintenance responsible for solving various intractable diseases of the extreme front-end experience responsible for researching the development of browser plug-ins and other tools responsible for the research on the multi-end horizontal expansion of the platform requirements more than 5 years of front-end development experience, proficient in front-end technologies such as html/css/javascript, and proficient in es6 syntax at least proficient in using one of the mvvm frameworks *************** is the best, proficient in using the best practices of various technology stacks, react technology stack is preferred, and electron experience is a plus proficient in front-end performance optimization deep understanding of tcp/ip, http, websocket and other network protocols deeply understand some security aspects of front-end and even network applications possess strong architectural capabilities, can independently complete complex front-end module design and system architecture, have a deep understanding and rich experience in user experience and interactive operation procedures, and rich development experience love the front-end, understand various front-end trends and the latest technologies and solutions clear thinking, good communication skills, and teamwork skills, good at learning, summarizing, and willing to share benefits up to 20 days annual leave festive gifts flexible working hours overtime meal and transport benefits employee growth funding group insurance regular employee bonding events attractive annual variable bonus and quarterly performance incentives culture we foster our core values through active listening, caring, and supporting continuous improvement for all our staff members experience the energetic working environment with multicultural staff members with varied skills and experiences -\n",
      "\n",
      "idx: 10883 (Score: 0.4420)\n",
      "Text:\n",
      " wechain fintech pte ltd, frontend software engineer, - roles responsibilities : responsibilities responsible for the company's high-performance, global website development, and maintenance; responsible for solving various intractable diseases of the extreme front-end experience; responsible for researching the development of browser plug-ins and other tools; responsible for the research on the multi-end horizontal expansion of the platform; requirements more than 5 years of front-end development experience, proficient in front-end technologies such as html/css/javascript, and proficient in es6 syntax; at least proficient in using one of the mvvm frameworks vuejs/reactjs is the best, proficient in using the best practices of various technology stacks, react technology stack is preferred, and electron experience is a plus; proficient in front-end performance optimization; deep understanding of tcp/ip, http, websocket and other network protocols; deeply understand some security aspects of front-end and even network applications; possess strong architectural capabilities, can independently complete complex front-end module design and system architecture, have a deep understanding and rich experience in user experience and interactive operation procedures, and rich development experience; love the front-end, understand various front-end trends and the latest technologies and solutions; clear thinking, good communication skills, and teamwork skills, good at learning, summarizing, and willing to share benefits up to 20 days annual leave festive gifts flexible working hours overtime meal and transport benefits employee growth funding group insurance regular employee bonding events attractive annual variable bonus and quarterly performance incentives culture we foster our core values through active listening, caring, and supporting continuous improvement for all our staff members experience the energetic working environment with multicultural staff members with varied skills and experiences\n",
      "\n",
      "idx: 15774 (Score: 0.4308)\n",
      "Text:\n",
      " wechain fintech pte ltd, frontend engineer, - roles responsibilities : responsibilities responsible for the company's high-performance, global website development, and maintenance; responsible for solving various intractable diseases of the extreme front-end experience; responsible for researching the development of browser plug-ins and other tools; responsible for the research on the multi-end horizontal expansion of the platform; requirements more than 5 years of front-end development experience, proficient in front-end technologies such as html/css/javascript, and proficient in es6 syntax; at least proficient in using one of the mvvm frameworks vuejs/reactjs is the best, proficient in using the best practices of various technology stacks, react technology stack is preferred, and electron experience is a plus; proficient in front-end performance optimization; deep understanding of tcp/ip, http, websocket and other network protocols; deeply understand some security aspects of front-end and even network applications; possess strong architectural capabilities, can independently complete complex front-end module design and system architecture, have a deep understanding and rich experience in user experience and interactive operation procedures, and rich development experience; love the front-end, understand various front-end trends and the latest technologies and solutions; clear thinking, good communication skills, and teamwork skills, good at learning, summarizing, and willing to share benefits up to 20 days annual leave festive gifts flexible working hours overtime meal and transport benefits employee growth funding group insurance regular employee bonding events attractive annual variable bonus and quarterly performance incentives culture we foster our core values through active listening, caring, and supporting continuous improvement for all our staff members experience the energetic working environment with multicultural staff members with varied skills and experiences\n",
      "\n",
      "idx: 40913 (Score: 0.4244)\n",
      "Text:\n",
      " xendit, senior front end engineer - reporting, image/svg+xml job application -\n",
      "\n",
      "\n",
      "\n",
      "======================\n",
      "\n",
      "\n",
      "Query: sales executive\n",
      "tensor([0.5740, 0.5725, 0.5714, 0.5693, 0.5688], device='cuda:0')\n",
      "\n",
      "Top 5 most similar sentences in corpus:\n",
      "\n",
      "idx: 13016 (Score: 0.5740)\n",
      "Text:\n",
      " avis capital pte ltd, sales executives, - roles responsibilities : we are looking for professional full time direct sales executives and manager for an established consultancy job scope includes: 1 cold calling marketing leads 2 door to door sales 3 client relationship management on job training will be provided attractive renumeration package with sales target incentives and 5 day work week\n",
      "\n",
      "idx: 10337 (Score: 0.5725)\n",
      "Text:\n",
      " euler hermes singapore services pte ltd, sales manager, apac, to be advice\n",
      "\n",
      "idx: 7715 (Score: 0.5714)\n",
      "Text:\n",
      " selbyjenningssingapore, asia pacific sales & marketing director specialty chemicals, responsibilities: define the approach for the overall sale of new business and account retention develop a comprehensive sales and distribution strategy to maximise sales opportunities direct the sales team in generating proposals that define a clear path to client satisfaction and revenue growth build maintain relationships with clients and stakeholders leverage innovative ideas to maximise sales opportunities keep up to date with market trends leverage them for business opportunities requirements: minimally 8 years of b2b commercial experience in a customer facing sales role with client account accountability proven ability to influence internal and external stakeholders good leadership and management skills strong communication and analytical skills proficient in english, both written oral based in singapore\n",
      "\n",
      "idx: 14745 (Score: 0.5693)\n",
      "Text:\n",
      " ariston services pte ltd, senior sales manager - it product sales, - roles responsibilities : responsibilities: responsible to drive sales for it product of a large listed us mnc company experience of seeling it products in the asean market create regional sales plans and quotas in alignment with business objectives report on regional sales results forecast quarterly and annual profits prepare and review the annual budget for the area of responsibility analyse regional market trends and discover new opportunities for growth address potential problems and suggest prompt solutions skills required: proven work experience as a regional sales manager or similar senior sales role 7+ years it sales experience should have experience in product selling 2+ years in leadership sales position track record of superior performance metrics excellent negotiation skills strong decision-making abilities experience in ecommerce would be added advantage ability to measure and analyse key performance indicators roi and kpis ability to lead and motivate a high-performance sales team excellent communication skills strong organizational skills with a problem-solving attitude availability to travel as needed degree in sales, business administration or relevant field\n",
      "\n",
      "idx: 16958 (Score: 0.5688)\n",
      "Text:\n",
      " veltiston group, sales representative, you will be expected to carry out the strategic operations tasks of a globally recognised mnc tasks includes not only operational duties but also the gathering of information and sales we are looking for someone who is able to work under challenging conditions and deadlines experience with financial and marketing positions preferred but not a must singaporeans and prs only -\n",
      "\n",
      "\n",
      "\n",
      "======================\n",
      "\n",
      "\n",
      "Query: Devops AWS\n",
      "tensor([0.6267, 0.5644, 0.5642, 0.5629, 0.5343], device='cuda:0')\n",
      "\n",
      "Top 5 most similar sentences in corpus:\n",
      "\n",
      "idx: 24296 (Score: 0.6267)\n",
      "Text:\n",
      " ihs markit, devops engineer, we offer you an excellent opportunity to: develop and maintains mission-critical financial services systems handle deployment, automation, management and maintenance of aws cloud-based production system define and deploy systems for metrics, logging, and monitoring on aws platform design, maintain and manage tools for automation of different operational processes automate security controls, governance processes, and compliance validation on aws participate in architecture and software development activities provide direct and responsive support for urgent incidents informally train and share aws knowledge within the team integrate with, and works as part of the company's technology team work with advanced tools and methodologies be part of a top team, grow rapidly and expand areas of expertise in the fin-tech world about you if you have those: at least 3 years of industry experience with devops or similar role experience working on cloud providers aws/azure/gcp and managing infrastructure as code on them preferably using aws cloudformation and terraform experience with container orchestration services, especially kubernetes/openshift, docker experience with deploying and administering kubernetes/openshift/aws eks clusters experience with infrastructure scripting solutions using python/go, chef with or without aws opsworks, ansible etc experience administering and deploying development ci/cd tools such as git, gitlab, or jenkins familiarity with elastic search and managing relational databases on cloud familiarity around monitoring tools like new-relic or other open source alternatives excellent oral and written communication skills with a keen sense of customer service excellent problem-solving and troubleshooting skills process-oriented with great documentation skills knowledge of best practices and it operations in an always-up, always-available service what we offer the salary levels paid in the company are competitive and attractive in relation to the market there is a generous package of conditions that includes benefits such as: financing a gym, comprehensive health insurance, participation in the company's options program traded on the stock exchange and more we are flexible when it comes to combining work from home and office and in any case, we believe in a healthy balance between the two the work environment in the beautifully designed offices in israel combined with the charming staff, make our company a wonderful place to belong to -\n",
      "\n",
      "idx: 851 (Score: 0.5644)\n",
      "Text:\n",
      " dbs, sa/assoc, infrastructure cloud devops engineer, tech services, technology & operations, !*!roles and responsibilty - candidate would be part of public cloud sre team and would be responsible for managing/provisioning aws accounts/gcp projects - develop solutions for multi cloud platform so that we have capability for portability - create and manage ami pipeline for gcp/aws and other os that dbs bank will onboard for public cloud - integrate public cloud with different systems in the bank like incident management, privilege id management etc - ensure security compliace of all the resources hosted by the team - ensure uptime of all the common services like proxy/ntp/bastion etc - develop/implement custom solutions as per the requirements reporting/compliance/bau automation - provide adhoc support to application teams as needed desired skills\\: - relevant certificates for aws/gcp - experienced with ci/cd pipeline and setup like jenkins/bitbucket - experienced with configuration management tool like ansible/chef/puppet etc - good hands on experience with boto3/python - expert level knowledge for atleast one cloud provider \\: aws/gcp\n",
      "\n",
      "idx: 940 (Score: 0.5642)\n",
      "Text:\n",
      " dbs, infrastructure cloud devops engineer, !*!roles and responsibilty - candidate would be part of public cloud sre team and would be responsible for managing/provisioning aws accounts/gcp projects - develop solutions for multi cloud platform so that we have capability for portability - create and manage ami pipeline for gcp/aws and other os that dbs bank will onboard for public cloud - integrate public cloud with different systems in the bank like incident management, privilege id management etc - ensure security compliace of all the resources hosted by the team - ensure uptime of all the common services like proxy/ntp/bastion etc - develop/implement custom solutions as per the requirements reporting/compliance/bau automation - provide adhoc support to application teams as needed desired skills\\: - relevant certificates for aws/gcp - experienced with ci/cd pipeline and setup like jenkins/bitbucket - experienced with configuration management tool like ansible/chef/puppet etc - good hands on experience with boto3/python - expert level knowledge for atleast one cloud provider \\: aws/gcp\n",
      "\n",
      "idx: 32938 (Score: 0.5629)\n",
      "Text:\n",
      " iapps pte ltd, devops engineer aws certified, job descriptions: as part of the infra/devops team, the devops engineer holds the responsibility and accountability for it cloud-based applications infrastructure, network and security for government agency and large mnc projects, as well as in-house projects he/she should work closely with clients, product team ba/designers/pm, quality assurance qa team and operations to deliver projects in time with quality and reusable and scalable infrastructure and security framework and documentation devops engineer should be able to: administer, and maintain aws environments within hosted infrastructure and public clouds architect the solution for the business needs and assist with its implementation responsible for vulnerability assessment, penetration testing and recommend patches in our environment which is aws and lemp/lamp solid experience as a devops engineer in a 24x7 uptime amazon aws environment, including automation experience with configuration management tools experience with devops and infrastructure as code: aws environment and application automation utilizing cloudformation and third-party tools ci/cd pipeline setup utilising either aws services such as codebuild/commit/deploy or third-party tools such as codeship engineer with experience in aws, docker/kubernetes, ci/cd and capabilities in linux operating systems work closely with the development team and align security compliance around integration solutions responsible and participates in release management, infrastructure and system incident response develop, manage and test disaster recovery plans annually ensure application storage, archive, backup and restore procedures are functioning correctly perform system preventive such as security/os patchesmaintenance and execute annual audit and dr exercises design, develop unix scripts andexecute established plans for disaster recovery based on industrial best practices develops and updates system operation documentation/sop related to new and existing systems creates and builds physical and virtual os and optimize aws hosting cost through automated resource scaling provides customer support by seeking to understand and address the customer's needs and expectations through effective communication, and collaboration participates in on-call coverage during business and after hours to support all infrastructure and systems related incidents performs miscellaneous job related duties as requested handle multiple projects simultaneously job requirements: candidate should have at least 2 years aws experience with using a broad range of aws technologies eg ec2, rds, elb, ebd, s3, vpc, glacier, iam, cloudwatch, kms to develop and maintain an amazon aws based cloud solution, with an emphasis on best practice cloud security candidate with minimum 3 years ofrelevantworking experience in devops for cloud-based solutions candidate must possess aws certification candidates must possess at least a diploma / degree in computer science/information technology or equivalent require experience and proficiency with linux system administration background aws foundational services, such as ec2, sns, s3, cloudwatch, elb, route 53 ci/cd pipeline tools scripting experience with python, go, nodejs experience with system monitoring tools eg nagios experience with docker kubernetes experience in micro service, domain driven design and aws setup and provisioning experience with at least one rdbms eg mysql, postgresql, etc and nosql database eg mongodb, amazon documentdb etc the following are added advantages: experience with government agency projects experience with government, internal and external audits experience with mqtt, coap and other iot standards and protocols a t least 1 year experience in kubernetes team player with good communication and interpersonal skills added advantage for those who can speak both chinese in order to work with chinese speaking product and design team to understand end user requirements, use cases and translate that into a programmatic and effective technical solutions and english languages candidate has positive mindset, good time management, and is responsible, detailed and self-motivated\n",
      "\n",
      "idx: 15538 (Score: 0.5343)\n",
      "Text:\n",
      " fwd singapore pte ltd, cloud ops engineer 2-year contract, - roles responsibilities : purpose we are in the path to modernize and consolidate it infrastructure, automate workloads, and pursue next-generation innovation to continue this transformation, were seeking an experienced amazon web services aws cloud engineer with expertise in the strategy, design, development, and implementation of large-scale projects in the cloud objectives of this role work closely with engineering team to identify and implement the most optimal cloud-based solutions for the company define and document best practices and strategies regarding application deployment and infrastructure maintenance ensure application performance, uptime, and scale, maintaining high standards of code quality and thoughtful design manage cloud environments in accordance with company security guidelines explore new tech and services to help the organization in modernize responsibilities develop and implement technical efforts to ensure the highest level of uptime and quality of service qos for cloud environments through operational excellence participate in all aspects of the development life cycle for aws solutions, including planning, requirements, development, testing, and automating troubleshoot incidents, identify root cause, fix and document problems, and implement preventive measures automate common, repeatable tasks at large scale educate teams on the implementation of new cloud-based initiatives, providing associated training as required employ exceptional problem-solving skills, with the ability to see and solve issues before they affect business productivity required skills and qualifications bachelors degree in computer science, information technology, or mathematics 3+ years of experience with aws platforms good understanding of and experienced with the five pillars of a well-architected frameworks proven ability to collaborative with multi-disciplinary teams of business analysts, developers, data scientists, and subject matter experts preferred qualifications aws certifications are a plus knowledge of web services, api, rest familiar with devops methodologies and ci/cd tools such as jenkins etc well versed with linux and windows operating system for day 2 activities\n",
      "\n",
      "\n",
      "\n",
      "======================\n",
      "\n",
      "\n",
      "Query: Cooking job\n",
      "tensor([0.5075, 0.5034, 0.4968, 0.4917, 0.4777], device='cuda:0')\n",
      "\n",
      "Top 5 most similar sentences in corpus:\n",
      "\n",
      "idx: 25799 (Score: 0.5075)\n",
      "Text:\n",
      " iki concepts pte ltd, part-time cook, - roles responsibilities : description ?ô∏è minimum 3 days include one saturday or sunday ?ô∏è from 1030h to 2130h or 2200h ‚òï break time from 1500h to 1700h ? monday to friday $12/hr ? saturday to sunday $15/hr ? public holiday $18/hr job summary: the part-time cook shall prep all food ingredients, be able to cook all dishes on the menu, and ensure the food prepared is consistent and of superior quality job duties: 1 support the sous chef in ensuring the smooth running of kitchen operations 2 carry out preparation of dishes and ingredients for the shift 3 prepare and execute menu dishes to the highest standards 4 ensure food prepared is consistent and of superior quality 5 carry out daily general kitchen duties which include, but are not limited to, a setting up and cleaning kitchen equipment and workstations b cleaning of kitchen surfaces, floors, and storage areas c trash disposal 6 organise and ensure kitchen space is clean and tidy in accordance with food safety and hygiene standards 7 assisting other cooks in preparing food or helping other team members when needed 8 any other job-related duties requested from senior staff requirements: - has some kitchen experience in restaurants - preferably with relevant experience - ability to skillfully multitask - attention to detail - works well as part of a team and on individual tasks benefits: ? monthly payout with cpf contributions ? meal provided ‚úîô∏è able to convert to a full-time permanent position\n",
      "\n",
      "idx: 19807 (Score: 0.5034)\n",
      "Text:\n",
      " iki concepts pte ltd, charcoal grill cook, job summary: the commis shall prep all food ingredients, be able to cook all dishes on the menu, and ensure the food prepared is consistent and of superior quality job responsibility: support the sous chef in ensuring the smooth running of kitchen operations carry out preparation of dishes and ingredients for the shift prepare and execute menu dishes to the highest standards ensure food prepared is consistent and of superior quality handle all kitchen equipment properly and ensure they are kept in good working condition carry out daily general kitchen duties which include, but are not limited to, - setting up and cleaning of kitchen equipment and workstations - cleaning of kitchen surfaces, floors, and storage areas - trash disposal organize and ensure kitchen space is clean and tidy in accordance with food safety and hygiene standards assisting other cooks in preparing food or helping other team members when needed any other job-related duties requested from senior staff requirements: has some kitchen experience a mindset of someone being willing to learn and continuously improve ability to skilfully multitask attention to detail works well as part of a team and on individual tasks must be physically fit to lift up a heavy load of charcoal around 10 to 15 kg remuneration: starting basic salary from s$2000 per month onwards commensurate with experience overtime claimable working hours: 6 days work week fixed every monday off from 1400h to 2230h if there is a sake wine tasting event on weekends, start work at 11 am break time 1 hour restaurants are located conveniently: forum the shopping mall orchard station benefits: leaves such as annual leave, outpatient sick leave, hospitalisation leave marriage leave, childcare leave, compassionate leave, and more staff meal and uniform provided outpatient and dental reimbursement hospitalization and surgery insurance coverage internal and external training opportunities opportunity for career advancement tips sharing, yearly increment, variable bonus performance based, and other incentive programs staff discount and service award -\n",
      "\n",
      "idx: 7912 (Score: 0.4968)\n",
      "Text:\n",
      " cys global remit pte ltd, kitchen supervisor, - roles responsibilities : manage kitchen, food preparation, supplies ordering and kitchen staff for general food service and functions ensure kitchen operations are carried smoothly and effectively check quality of food and ensure that standards are met instruct cooks in the preparation, cooking, garnishing, and presentation of food order food and other supplies needed to ensure efficient operation check the quantity and quality of received products responsible for inventory management to reduce wastage and maximize profitability ensure kitchen cleanliness, food hygiene and kitchen safety practice ensure food handling, sanitation practices and hygiene at all times supervise and coordinate activities of kitchen staff kitchen administration duties perform other reasonable job duties as requested by supervisors job requirements: hands-on experience with planning menus and ordering ingredients knowledge of a wide range of recipes familiarity with kitchen sanitation and safety regulations excellent organizational skills\n",
      "\n",
      "idx: 9898 (Score: 0.4917)\n",
      "Text:\n",
      " iki concepts pte ltd, part-time cook, - roles responsibilities : description ?? minimum 3 days include one saturday or sunday ?? from 1030h to 2130h or 2200h depends on which outlet ? break time from 1500h to 1700h ? monday to friday $12/hr ? saturday to sunday $15/hr ? public holiday $18/hr job summary: the part-time cook shall prep all food ingredients, be able to cook all dishes on the menu, and ensure food prepared is consistent and of superior quality job duties: 1 support the sous chef in ensuring the smooth running of kitchen operations 2 carry out preparation of dishes and ingredients for the shift 3 prepare and execute menu dishes to the highest standards 4 ensure food prepared is consistent and of superior quality 5 carry out daily general kitchen duties which include, but are not limited to, a setting up and cleaning of kitchen equipment and workstations b cleaning of kitchen surfaces, floors, and storage areas c trash disposal 6 organise and ensure kitchen space is clean and tidy in accordance with food safety and hygiene standards 7 assisting other cooks in preparing food or helping other team members when needed 8 any other job-related duties requested from senior staff requirements: - has some kitchen experience - ability to skillfully multitask - attention to detail - works well as part of a team and on individual tasks benefits: ? monthly payout with cpf contributions ? meal provided ?? able to convert to a full-time permanent position\n",
      "\n",
      "idx: 31238 (Score: 0.4777)\n",
      "Text:\n",
      " iki concepts pte ltd, part-time cook, description ô∏è minimum 3 days include one saturday or sunday ô∏è from 1030h to 2130h or 2200h ‚òï break time from 1500h to 1700h hourly rates: monday to friday $12/hr saturday to sunday $15/hr public holiday $18/hr job summary: the part-time cook shall prep all food ingredients, be able to cook all dishes on the menu, and ensure the food prepared is consistent and of superior quality job duties: 1 support the sous chef in ensuring the smooth running of kitchen operations 2 carry out the preparation of dishes and ingredients for the shift 3 prepare and execute menu dishes to the highest standards 4 ensure food prepared is consistent and of superior quality 5 carry out daily general kitchen duties 6 organise and ensure kitchen space is clean and tidy in accordance with food safety and hygiene standards 7 assisting other cooks in preparing food or helping other team members when needed 8 any other job-related duties requested from senior staff requirements: - has some kitchen experience in restaurants - preferably with relevant experience - ability to skillfully multitask - attention to detail - works well as part of a team and on individual tasks benefits: monthly payout with cpf contributions meal provided ‚úîô∏è able to convert to a full-time permanent position -\n",
      "\n"
     ]
    }
   ],
   "source": [
    "# Find the closest 5 sentences of the corpus for each query sentence based on cosine similarity\n",
    "top_k = min(5, len(raw_data['jobdata']))\n",
    "\n",
    "for query in queries:\n",
    "    query_embedding = model.encode(query, convert_to_tensor=True)\n",
    "\n",
    "    # We use cosine-similarity and torch.topk to find the highest 5 scores\n",
    "    cos_scores = util.cos_sim(query_embedding, cuda_embeddings)[0]\n",
    "\n",
    "    top_results = torch.topk(cos_scores, k=top_k)\n",
    "\n",
    "    print(\"\\n\\n======================\\n\\n\")\n",
    "    print(\"Query:\", query)\n",
    "    print(top_results[0])\n",
    "    print(\"\\nTop 5 most similar sentences in corpus:\\n\")\n",
    "\n",
    "    for score, idx in zip(top_results[0], top_results[1]):\n",
    "        print(f\"idx: {idx}\" + \" (Score: {:.4f})\".format(score))\n",
    "        print(f\"Text:\\n {raw_data['jobdata'][int(idx)]}\\n\")"
   ]
  }
 ],
 "metadata": {
  "kernelspec": {
   "display_name": "Python 3 (ipykernel)",
   "language": "python",
   "name": "python3"
  },
  "language_info": {
   "codemirror_mode": {
    "name": "ipython",
    "version": 3
   },
   "file_extension": ".py",
   "mimetype": "text/x-python",
   "name": "python",
   "nbconvert_exporter": "python",
   "pygments_lexer": "ipython3",
   "version": "3.11.3"
  }
 },
 "nbformat": 4,
 "nbformat_minor": 5
}
